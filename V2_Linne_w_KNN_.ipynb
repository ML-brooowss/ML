{
  "cells": [
    {
      "cell_type": "markdown",
      "metadata": {
        "id": "view-in-github",
        "colab_type": "text"
      },
      "source": [
        "<a href=\"https://colab.research.google.com/github/linneverh/ML/blob/main/V2_Linne_w_KNN_.ipynb\" target=\"_parent\"><img src=\"https://colab.research.google.com/assets/colab-badge.svg\" alt=\"Open In Colab\"/></a>"
      ]
    },
    {
      "cell_type": "code",
      "execution_count": 5,
      "metadata": {
        "id": "OHM0r5z2CeJU"
      },
      "outputs": [],
      "source": [
        "import numpy as np\n",
        "import pandas as pd\n",
        "import sklearn\n",
        "from sklearn.metrics.pairwise import cosine_similarity\n",
        "import matplotlib.pyplot as plt\n",
        "import seaborn as sns\n",
        "import random\n",
        "from sklearn.neighbors import NearestNeighbors"
      ]
    },
    {
      "cell_type": "markdown",
      "metadata": {
        "collapsed": true,
        "id": "U26TtWpHCeJW"
      },
      "source": [
        "# Recommender Systems"
      ]
    },
    {
      "cell_type": "markdown",
      "metadata": {
        "collapsed": true,
        "id": "j6-XVoQNCeJW"
      },
      "source": [
        "\n",
        "<img src='https://imgs.xkcd.com/comics/star_ratings.png' width=\"300\">\n",
        "\n",
        "Source: [xkcd 1908](https://xkcd.com/1098/)"
      ]
    },
    {
      "cell_type": "markdown",
      "metadata": {
        "id": "pklpI_Q7CeJX"
      },
      "source": [
        "### Goal\n",
        "In this exercise, we will be proceeding in two stages.\n",
        "1. The first stage is where we get into the details of how to build our own recommender system to recommend movies to users.\n",
        "2. In the second stage, we will be an existing library, specialized for recommender systems, which provides more powerful options. We will be testing it on the task of recommending jokes to users.\n",
        "\n",
        "### What you are learning in this exercise:\n",
        "1. Getting familiar with item-based collaborative filtering and user-based collaborative filtering.\n",
        "2. Getting familiar with an existing library for recommender systems."
      ]
    },
    {
      "cell_type": "markdown",
      "metadata": {
        "id": "12CwjzRmCeJX"
      },
      "source": [
        "### Content\n",
        "\n",
        "The goal of this walkthrough is to guide you through implementing and evaluating a basic recommender system. A [recommender system](https://en.wikipedia.org/wiki/Recommender_system) is a type of information filtering system designed to predict a user’s preference for an item, often used in commercial applications to suggest products, movies, or other items.\n",
        "\n",
        "In this notebook, we will cover:\n",
        "\n",
        "- [Task 1: Exploring the MovieLens Dataset with Implicit Feedback](#Task-1-Exploring-the-MovieLens-Dataset-with-Implicit-Feedback)\n",
        "  - [Step 1: Load the Data](#Step-1-Load-the-Data)\n",
        "  - [Step 2: Check the Number of Interactions, Users, and Movies](#Step-2-Check-the-Number-of-Interactions-Users-and-Movies)\n",
        "  - [Step 3: Split the Data into Training and Test Sets](#Step-3-Split-the-Data-into-Training-and-Test-Sets)\n",
        "  \n",
        "- [Task 2: Creating User-Item Matrices for Implicit Feedback](#Task-2-Creating-User-Item-Matrices-for-Implicit-Feedback)\n",
        "  - [Step 1: Define the Function to Create the Data Matrix](#Step-1-Define-the-Function-to-Create-the-Data-Matrix)\n",
        "  - [Step 2: Create the Training and Testing Matrices](#Step-2-Create-the-Training-and-Testing-Matrices)\n",
        "  - [Step 3: Visualize the User-Item Interaction Matrices](#Step-3-Visualize-the-User-Item-Interaction-Matrices)\n",
        "\n",
        "- [Task 3: Item-to-Item Collaborative Filtering with Implicit Feedback](#Task-3-Item-to-Item-Collaborative-Filtering-with-Implicit-Feedback)\n",
        "  - [Step 1: Compute Item Similarity Matrix](#Step-1-Compute-Item-Similarity-Matrix)\n",
        "  - [Step 2: Predict Positive Interactions Using Item Similarity](#Step-2-Predict-Positive-Interactions-Using-Item-Similarity)\n",
        "\n",
        "- [Task 4: User-to-User Collaborative Filtering with Implicit Feedback](#Task-4-User-to-User-Collaborative-Filtering-with-Implicit-Feedback)\n",
        "  - [Step 1: Compute User Similarity Matrix](#Step-1-Compute-User-Similarity-Matrix)\n",
        "  - [Step 2: Predict Positive Interactions Using User Similarity](#Step-2-Predict-Positive-Interactions-Using-User-Similarity)\n",
        "\n",
        "- [Task 5: Evaluating Our Recommenders](#Task-5-Evaluating-Our-Recommenders)\n",
        "  - [Step 5.1: Precision@K and Recall@K](#Step-5.1-Precision@K-and-Recall@K)\n",
        "  - [Step 5.2: Implement Precision@K and Recall@K](#Step-5.2-Implement-Precision@K-and-Recall@K)\n",
        "\n",
        "- [Task 6: Show the Recommendations for a Specific User](#Task-6-Show-the-Recommendations-for-a-Specific-User)\n",
        "  - [Step 6.1: Select a User and Get Recommendations](#Step-6.1-Select-a-User-and-Get-Recommendations)\n",
        "  - [Step 6.2: Create Recommendation DataFrames with TMDb IDs](#Step-6.2-Create-Recommendation-DataFrames-with-TMDb-IDs)\n",
        "  - [Step 6.3: Fetching and Displaying Movie Posters](#Step-6.3-Fetching-and-Displaying-Movie-Posters)"
      ]
    },
    {
      "cell_type": "markdown",
      "metadata": {
        "collapsed": true,
        "id": "IMEUUjU8CeJY"
      },
      "source": [
        "## Task 1: Exploring the MovieLens Dataset with Implicit Feedback\n",
        "\n",
        "\n"
      ]
    },
    {
      "cell_type": "markdown",
      "metadata": {
        "id": "je0wdpXZCeJY"
      },
      "source": [
        "In this part, we’ll be using the [MovieLens dataset](https://grouplens.org/datasets/movielens/). ‌We will use the Movielens-small dataset that contains 100,000 interactions of users with different movies. An interaction of a user with a movie is when a user rates a movie with a value from 1 to 5. In this walkthrough we want to focus on **implicit feedback** recommendation scenario, i.e., we are interested in the items that each user liked, or interacted with. Therefore, we have provided you with a subset of interactions in the dataset that contains the ratings larger than or equal to 4."
      ]
    },
    {
      "cell_type": "markdown",
      "metadata": {
        "id": "zmU6sB5JCeJY"
      },
      "source": [
        "#### Step 1: Load the Data\n",
        "\n",
        "We’ll start by loading the datasets in the `data` folder. We have 3 datasets here:\n",
        "- `interactions.csv`\n",
        "- `items.csv`\n"
      ]
    },
    {
      "cell_type": "code",
      "source": [
        "# Load the datasets\n",
        "interactions = pd.read_csv('https://raw.githubusercontent.com/linneverh/MachineLearning/main/interactions_train.csv')\n",
        "items = pd.read_csv(\"https://raw.githubusercontent.com/linneverh/MachineLearning/main/items.csv\")\n",
        "\n",
        "# Display the first rows of each dataset\n",
        "display(interactions.head())\n",
        "display(items.head())"
      ],
      "metadata": {
        "collapsed": true,
        "colab": {
          "base_uri": "https://localhost:8080/",
          "height": 637
        },
        "id": "YodjQAEPmdcn",
        "outputId": "a827fe4d-add4-45f7-ec84-3bd3771726dd"
      },
      "execution_count": 6,
      "outputs": [
        {
          "output_type": "display_data",
          "data": {
            "text/plain": [
              "      u      i             t\n",
              "0  4456   8581  1.687541e+09\n",
              "1   142   1964  1.679585e+09\n",
              "2   362   3705  1.706872e+09\n",
              "3  1809  11317  1.673533e+09\n",
              "4  4384   1323  1.681402e+09"
            ],
            "text/html": [
              "\n",
              "  <div id=\"df-96cf9ff3-8aca-49fd-86ac-a9e329058f6f\" class=\"colab-df-container\">\n",
              "    <div>\n",
              "<style scoped>\n",
              "    .dataframe tbody tr th:only-of-type {\n",
              "        vertical-align: middle;\n",
              "    }\n",
              "\n",
              "    .dataframe tbody tr th {\n",
              "        vertical-align: top;\n",
              "    }\n",
              "\n",
              "    .dataframe thead th {\n",
              "        text-align: right;\n",
              "    }\n",
              "</style>\n",
              "<table border=\"1\" class=\"dataframe\">\n",
              "  <thead>\n",
              "    <tr style=\"text-align: right;\">\n",
              "      <th></th>\n",
              "      <th>u</th>\n",
              "      <th>i</th>\n",
              "      <th>t</th>\n",
              "    </tr>\n",
              "  </thead>\n",
              "  <tbody>\n",
              "    <tr>\n",
              "      <th>0</th>\n",
              "      <td>4456</td>\n",
              "      <td>8581</td>\n",
              "      <td>1.687541e+09</td>\n",
              "    </tr>\n",
              "    <tr>\n",
              "      <th>1</th>\n",
              "      <td>142</td>\n",
              "      <td>1964</td>\n",
              "      <td>1.679585e+09</td>\n",
              "    </tr>\n",
              "    <tr>\n",
              "      <th>2</th>\n",
              "      <td>362</td>\n",
              "      <td>3705</td>\n",
              "      <td>1.706872e+09</td>\n",
              "    </tr>\n",
              "    <tr>\n",
              "      <th>3</th>\n",
              "      <td>1809</td>\n",
              "      <td>11317</td>\n",
              "      <td>1.673533e+09</td>\n",
              "    </tr>\n",
              "    <tr>\n",
              "      <th>4</th>\n",
              "      <td>4384</td>\n",
              "      <td>1323</td>\n",
              "      <td>1.681402e+09</td>\n",
              "    </tr>\n",
              "  </tbody>\n",
              "</table>\n",
              "</div>\n",
              "    <div class=\"colab-df-buttons\">\n",
              "\n",
              "  <div class=\"colab-df-container\">\n",
              "    <button class=\"colab-df-convert\" onclick=\"convertToInteractive('df-96cf9ff3-8aca-49fd-86ac-a9e329058f6f')\"\n",
              "            title=\"Convert this dataframe to an interactive table.\"\n",
              "            style=\"display:none;\">\n",
              "\n",
              "  <svg xmlns=\"http://www.w3.org/2000/svg\" height=\"24px\" viewBox=\"0 -960 960 960\">\n",
              "    <path d=\"M120-120v-720h720v720H120Zm60-500h600v-160H180v160Zm220 220h160v-160H400v160Zm0 220h160v-160H400v160ZM180-400h160v-160H180v160Zm440 0h160v-160H620v160ZM180-180h160v-160H180v160Zm440 0h160v-160H620v160Z\"/>\n",
              "  </svg>\n",
              "    </button>\n",
              "\n",
              "  <style>\n",
              "    .colab-df-container {\n",
              "      display:flex;\n",
              "      gap: 12px;\n",
              "    }\n",
              "\n",
              "    .colab-df-convert {\n",
              "      background-color: #E8F0FE;\n",
              "      border: none;\n",
              "      border-radius: 50%;\n",
              "      cursor: pointer;\n",
              "      display: none;\n",
              "      fill: #1967D2;\n",
              "      height: 32px;\n",
              "      padding: 0 0 0 0;\n",
              "      width: 32px;\n",
              "    }\n",
              "\n",
              "    .colab-df-convert:hover {\n",
              "      background-color: #E2EBFA;\n",
              "      box-shadow: 0px 1px 2px rgba(60, 64, 67, 0.3), 0px 1px 3px 1px rgba(60, 64, 67, 0.15);\n",
              "      fill: #174EA6;\n",
              "    }\n",
              "\n",
              "    .colab-df-buttons div {\n",
              "      margin-bottom: 4px;\n",
              "    }\n",
              "\n",
              "    [theme=dark] .colab-df-convert {\n",
              "      background-color: #3B4455;\n",
              "      fill: #D2E3FC;\n",
              "    }\n",
              "\n",
              "    [theme=dark] .colab-df-convert:hover {\n",
              "      background-color: #434B5C;\n",
              "      box-shadow: 0px 1px 3px 1px rgba(0, 0, 0, 0.15);\n",
              "      filter: drop-shadow(0px 1px 2px rgba(0, 0, 0, 0.3));\n",
              "      fill: #FFFFFF;\n",
              "    }\n",
              "  </style>\n",
              "\n",
              "    <script>\n",
              "      const buttonEl =\n",
              "        document.querySelector('#df-96cf9ff3-8aca-49fd-86ac-a9e329058f6f button.colab-df-convert');\n",
              "      buttonEl.style.display =\n",
              "        google.colab.kernel.accessAllowed ? 'block' : 'none';\n",
              "\n",
              "      async function convertToInteractive(key) {\n",
              "        const element = document.querySelector('#df-96cf9ff3-8aca-49fd-86ac-a9e329058f6f');\n",
              "        const dataTable =\n",
              "          await google.colab.kernel.invokeFunction('convertToInteractive',\n",
              "                                                    [key], {});\n",
              "        if (!dataTable) return;\n",
              "\n",
              "        const docLinkHtml = 'Like what you see? Visit the ' +\n",
              "          '<a target=\"_blank\" href=https://colab.research.google.com/notebooks/data_table.ipynb>data table notebook</a>'\n",
              "          + ' to learn more about interactive tables.';\n",
              "        element.innerHTML = '';\n",
              "        dataTable['output_type'] = 'display_data';\n",
              "        await google.colab.output.renderOutput(dataTable, element);\n",
              "        const docLink = document.createElement('div');\n",
              "        docLink.innerHTML = docLinkHtml;\n",
              "        element.appendChild(docLink);\n",
              "      }\n",
              "    </script>\n",
              "  </div>\n",
              "\n",
              "\n",
              "    <div id=\"df-b7a34d75-3387-4b40-9258-ce22690c0808\">\n",
              "      <button class=\"colab-df-quickchart\" onclick=\"quickchart('df-b7a34d75-3387-4b40-9258-ce22690c0808')\"\n",
              "                title=\"Suggest charts\"\n",
              "                style=\"display:none;\">\n",
              "\n",
              "<svg xmlns=\"http://www.w3.org/2000/svg\" height=\"24px\"viewBox=\"0 0 24 24\"\n",
              "     width=\"24px\">\n",
              "    <g>\n",
              "        <path d=\"M19 3H5c-1.1 0-2 .9-2 2v14c0 1.1.9 2 2 2h14c1.1 0 2-.9 2-2V5c0-1.1-.9-2-2-2zM9 17H7v-7h2v7zm4 0h-2V7h2v10zm4 0h-2v-4h2v4z\"/>\n",
              "    </g>\n",
              "</svg>\n",
              "      </button>\n",
              "\n",
              "<style>\n",
              "  .colab-df-quickchart {\n",
              "      --bg-color: #E8F0FE;\n",
              "      --fill-color: #1967D2;\n",
              "      --hover-bg-color: #E2EBFA;\n",
              "      --hover-fill-color: #174EA6;\n",
              "      --disabled-fill-color: #AAA;\n",
              "      --disabled-bg-color: #DDD;\n",
              "  }\n",
              "\n",
              "  [theme=dark] .colab-df-quickchart {\n",
              "      --bg-color: #3B4455;\n",
              "      --fill-color: #D2E3FC;\n",
              "      --hover-bg-color: #434B5C;\n",
              "      --hover-fill-color: #FFFFFF;\n",
              "      --disabled-bg-color: #3B4455;\n",
              "      --disabled-fill-color: #666;\n",
              "  }\n",
              "\n",
              "  .colab-df-quickchart {\n",
              "    background-color: var(--bg-color);\n",
              "    border: none;\n",
              "    border-radius: 50%;\n",
              "    cursor: pointer;\n",
              "    display: none;\n",
              "    fill: var(--fill-color);\n",
              "    height: 32px;\n",
              "    padding: 0;\n",
              "    width: 32px;\n",
              "  }\n",
              "\n",
              "  .colab-df-quickchart:hover {\n",
              "    background-color: var(--hover-bg-color);\n",
              "    box-shadow: 0 1px 2px rgba(60, 64, 67, 0.3), 0 1px 3px 1px rgba(60, 64, 67, 0.15);\n",
              "    fill: var(--button-hover-fill-color);\n",
              "  }\n",
              "\n",
              "  .colab-df-quickchart-complete:disabled,\n",
              "  .colab-df-quickchart-complete:disabled:hover {\n",
              "    background-color: var(--disabled-bg-color);\n",
              "    fill: var(--disabled-fill-color);\n",
              "    box-shadow: none;\n",
              "  }\n",
              "\n",
              "  .colab-df-spinner {\n",
              "    border: 2px solid var(--fill-color);\n",
              "    border-color: transparent;\n",
              "    border-bottom-color: var(--fill-color);\n",
              "    animation:\n",
              "      spin 1s steps(1) infinite;\n",
              "  }\n",
              "\n",
              "  @keyframes spin {\n",
              "    0% {\n",
              "      border-color: transparent;\n",
              "      border-bottom-color: var(--fill-color);\n",
              "      border-left-color: var(--fill-color);\n",
              "    }\n",
              "    20% {\n",
              "      border-color: transparent;\n",
              "      border-left-color: var(--fill-color);\n",
              "      border-top-color: var(--fill-color);\n",
              "    }\n",
              "    30% {\n",
              "      border-color: transparent;\n",
              "      border-left-color: var(--fill-color);\n",
              "      border-top-color: var(--fill-color);\n",
              "      border-right-color: var(--fill-color);\n",
              "    }\n",
              "    40% {\n",
              "      border-color: transparent;\n",
              "      border-right-color: var(--fill-color);\n",
              "      border-top-color: var(--fill-color);\n",
              "    }\n",
              "    60% {\n",
              "      border-color: transparent;\n",
              "      border-right-color: var(--fill-color);\n",
              "    }\n",
              "    80% {\n",
              "      border-color: transparent;\n",
              "      border-right-color: var(--fill-color);\n",
              "      border-bottom-color: var(--fill-color);\n",
              "    }\n",
              "    90% {\n",
              "      border-color: transparent;\n",
              "      border-bottom-color: var(--fill-color);\n",
              "    }\n",
              "  }\n",
              "</style>\n",
              "\n",
              "      <script>\n",
              "        async function quickchart(key) {\n",
              "          const quickchartButtonEl =\n",
              "            document.querySelector('#' + key + ' button');\n",
              "          quickchartButtonEl.disabled = true;  // To prevent multiple clicks.\n",
              "          quickchartButtonEl.classList.add('colab-df-spinner');\n",
              "          try {\n",
              "            const charts = await google.colab.kernel.invokeFunction(\n",
              "                'suggestCharts', [key], {});\n",
              "          } catch (error) {\n",
              "            console.error('Error during call to suggestCharts:', error);\n",
              "          }\n",
              "          quickchartButtonEl.classList.remove('colab-df-spinner');\n",
              "          quickchartButtonEl.classList.add('colab-df-quickchart-complete');\n",
              "        }\n",
              "        (() => {\n",
              "          let quickchartButtonEl =\n",
              "            document.querySelector('#df-b7a34d75-3387-4b40-9258-ce22690c0808 button');\n",
              "          quickchartButtonEl.style.display =\n",
              "            google.colab.kernel.accessAllowed ? 'block' : 'none';\n",
              "        })();\n",
              "      </script>\n",
              "    </div>\n",
              "\n",
              "    </div>\n",
              "  </div>\n"
            ],
            "application/vnd.google.colaboratory.intrinsic+json": {
              "type": "dataframe",
              "summary": "{\n  \"name\": \"display(items\",\n  \"rows\": 5,\n  \"fields\": [\n    {\n      \"column\": \"u\",\n      \"properties\": {\n        \"dtype\": \"number\",\n        \"std\": 2098,\n        \"min\": 142,\n        \"max\": 4456,\n        \"num_unique_values\": 5,\n        \"samples\": [\n          142,\n          4384,\n          362\n        ],\n        \"semantic_type\": \"\",\n        \"description\": \"\"\n      }\n    },\n    {\n      \"column\": \"i\",\n      \"properties\": {\n        \"dtype\": \"number\",\n        \"std\": 4371,\n        \"min\": 1323,\n        \"max\": 11317,\n        \"num_unique_values\": 5,\n        \"samples\": [\n          1964,\n          1323,\n          3705\n        ],\n        \"semantic_type\": \"\",\n        \"description\": \"\"\n      }\n    },\n    {\n      \"column\": \"t\",\n      \"properties\": {\n        \"dtype\": \"number\",\n        \"std\": 12801198.97249742,\n        \"min\": 1673533162.0,\n        \"max\": 1706871659.0,\n        \"num_unique_values\": 5,\n        \"samples\": [\n          1679585406.0,\n          1681402162.0,\n          1706871659.0\n        ],\n        \"semantic_type\": \"\",\n        \"description\": \"\"\n      }\n    }\n  ]\n}"
            }
          },
          "metadata": {}
        },
        {
          "output_type": "display_data",
          "data": {
            "text/plain": [
              "                                               Title  \\\n",
              "0  Classification décimale universelle : édition ...   \n",
              "1  Les interactions dans l'enseignement des langu...   \n",
              "2  Histoire de vie et recherche biographique : pe...   \n",
              "3  Ce livre devrait me permettre de résoudre le c...   \n",
              "4                    Les années glorieuses : roman /   \n",
              "\n",
              "                     Author  \\\n",
              "0                       NaN   \n",
              "1  Cicurel, Francine, 1947-   \n",
              "2                       NaN   \n",
              "3     Mazas, Sylvain, 1980-   \n",
              "4   Lemaitre, Pierre, 1951-   \n",
              "\n",
              "                                          ISBN Valid     Publisher  \\\n",
              "0                          9782871303336; 2871303339   Ed du CEFAL   \n",
              "1                          9782278058327; 2278058320        Didier   \n",
              "2                          2343190194; 9782343190198   L'Harmattan   \n",
              "3  9782365350020; 236535002X; 9782365350488; 2365...       Vraoum!   \n",
              "4  9782702180815; 2702180817; 9782702183618; 2702...  Calmann-Lévy   \n",
              "\n",
              "                                            Subjects  i  \n",
              "0  Classification décimale universelle; Indexatio...  0  \n",
              "1  didactique--langue étrangère - enseignement; d...  1  \n",
              "2  Histoires de vie en sociologie; Sciences socia...  2  \n",
              "3  Moyen-Orient; Bandes dessinées autobiographiqu...  3  \n",
              "4  France--1945-1975; Roman historique; Roman fra...  4  "
            ],
            "text/html": [
              "\n",
              "  <div id=\"df-ebfb8b64-0926-4628-9550-c004299d3d78\" class=\"colab-df-container\">\n",
              "    <div>\n",
              "<style scoped>\n",
              "    .dataframe tbody tr th:only-of-type {\n",
              "        vertical-align: middle;\n",
              "    }\n",
              "\n",
              "    .dataframe tbody tr th {\n",
              "        vertical-align: top;\n",
              "    }\n",
              "\n",
              "    .dataframe thead th {\n",
              "        text-align: right;\n",
              "    }\n",
              "</style>\n",
              "<table border=\"1\" class=\"dataframe\">\n",
              "  <thead>\n",
              "    <tr style=\"text-align: right;\">\n",
              "      <th></th>\n",
              "      <th>Title</th>\n",
              "      <th>Author</th>\n",
              "      <th>ISBN Valid</th>\n",
              "      <th>Publisher</th>\n",
              "      <th>Subjects</th>\n",
              "      <th>i</th>\n",
              "    </tr>\n",
              "  </thead>\n",
              "  <tbody>\n",
              "    <tr>\n",
              "      <th>0</th>\n",
              "      <td>Classification décimale universelle : édition ...</td>\n",
              "      <td>NaN</td>\n",
              "      <td>9782871303336; 2871303339</td>\n",
              "      <td>Ed du CEFAL</td>\n",
              "      <td>Classification décimale universelle; Indexatio...</td>\n",
              "      <td>0</td>\n",
              "    </tr>\n",
              "    <tr>\n",
              "      <th>1</th>\n",
              "      <td>Les interactions dans l'enseignement des langu...</td>\n",
              "      <td>Cicurel, Francine, 1947-</td>\n",
              "      <td>9782278058327; 2278058320</td>\n",
              "      <td>Didier</td>\n",
              "      <td>didactique--langue étrangère - enseignement; d...</td>\n",
              "      <td>1</td>\n",
              "    </tr>\n",
              "    <tr>\n",
              "      <th>2</th>\n",
              "      <td>Histoire de vie et recherche biographique : pe...</td>\n",
              "      <td>NaN</td>\n",
              "      <td>2343190194; 9782343190198</td>\n",
              "      <td>L'Harmattan</td>\n",
              "      <td>Histoires de vie en sociologie; Sciences socia...</td>\n",
              "      <td>2</td>\n",
              "    </tr>\n",
              "    <tr>\n",
              "      <th>3</th>\n",
              "      <td>Ce livre devrait me permettre de résoudre le c...</td>\n",
              "      <td>Mazas, Sylvain, 1980-</td>\n",
              "      <td>9782365350020; 236535002X; 9782365350488; 2365...</td>\n",
              "      <td>Vraoum!</td>\n",
              "      <td>Moyen-Orient; Bandes dessinées autobiographiqu...</td>\n",
              "      <td>3</td>\n",
              "    </tr>\n",
              "    <tr>\n",
              "      <th>4</th>\n",
              "      <td>Les années glorieuses : roman /</td>\n",
              "      <td>Lemaitre, Pierre, 1951-</td>\n",
              "      <td>9782702180815; 2702180817; 9782702183618; 2702...</td>\n",
              "      <td>Calmann-Lévy</td>\n",
              "      <td>France--1945-1975; Roman historique; Roman fra...</td>\n",
              "      <td>4</td>\n",
              "    </tr>\n",
              "  </tbody>\n",
              "</table>\n",
              "</div>\n",
              "    <div class=\"colab-df-buttons\">\n",
              "\n",
              "  <div class=\"colab-df-container\">\n",
              "    <button class=\"colab-df-convert\" onclick=\"convertToInteractive('df-ebfb8b64-0926-4628-9550-c004299d3d78')\"\n",
              "            title=\"Convert this dataframe to an interactive table.\"\n",
              "            style=\"display:none;\">\n",
              "\n",
              "  <svg xmlns=\"http://www.w3.org/2000/svg\" height=\"24px\" viewBox=\"0 -960 960 960\">\n",
              "    <path d=\"M120-120v-720h720v720H120Zm60-500h600v-160H180v160Zm220 220h160v-160H400v160Zm0 220h160v-160H400v160ZM180-400h160v-160H180v160Zm440 0h160v-160H620v160ZM180-180h160v-160H180v160Zm440 0h160v-160H620v160Z\"/>\n",
              "  </svg>\n",
              "    </button>\n",
              "\n",
              "  <style>\n",
              "    .colab-df-container {\n",
              "      display:flex;\n",
              "      gap: 12px;\n",
              "    }\n",
              "\n",
              "    .colab-df-convert {\n",
              "      background-color: #E8F0FE;\n",
              "      border: none;\n",
              "      border-radius: 50%;\n",
              "      cursor: pointer;\n",
              "      display: none;\n",
              "      fill: #1967D2;\n",
              "      height: 32px;\n",
              "      padding: 0 0 0 0;\n",
              "      width: 32px;\n",
              "    }\n",
              "\n",
              "    .colab-df-convert:hover {\n",
              "      background-color: #E2EBFA;\n",
              "      box-shadow: 0px 1px 2px rgba(60, 64, 67, 0.3), 0px 1px 3px 1px rgba(60, 64, 67, 0.15);\n",
              "      fill: #174EA6;\n",
              "    }\n",
              "\n",
              "    .colab-df-buttons div {\n",
              "      margin-bottom: 4px;\n",
              "    }\n",
              "\n",
              "    [theme=dark] .colab-df-convert {\n",
              "      background-color: #3B4455;\n",
              "      fill: #D2E3FC;\n",
              "    }\n",
              "\n",
              "    [theme=dark] .colab-df-convert:hover {\n",
              "      background-color: #434B5C;\n",
              "      box-shadow: 0px 1px 3px 1px rgba(0, 0, 0, 0.15);\n",
              "      filter: drop-shadow(0px 1px 2px rgba(0, 0, 0, 0.3));\n",
              "      fill: #FFFFFF;\n",
              "    }\n",
              "  </style>\n",
              "\n",
              "    <script>\n",
              "      const buttonEl =\n",
              "        document.querySelector('#df-ebfb8b64-0926-4628-9550-c004299d3d78 button.colab-df-convert');\n",
              "      buttonEl.style.display =\n",
              "        google.colab.kernel.accessAllowed ? 'block' : 'none';\n",
              "\n",
              "      async function convertToInteractive(key) {\n",
              "        const element = document.querySelector('#df-ebfb8b64-0926-4628-9550-c004299d3d78');\n",
              "        const dataTable =\n",
              "          await google.colab.kernel.invokeFunction('convertToInteractive',\n",
              "                                                    [key], {});\n",
              "        if (!dataTable) return;\n",
              "\n",
              "        const docLinkHtml = 'Like what you see? Visit the ' +\n",
              "          '<a target=\"_blank\" href=https://colab.research.google.com/notebooks/data_table.ipynb>data table notebook</a>'\n",
              "          + ' to learn more about interactive tables.';\n",
              "        element.innerHTML = '';\n",
              "        dataTable['output_type'] = 'display_data';\n",
              "        await google.colab.output.renderOutput(dataTable, element);\n",
              "        const docLink = document.createElement('div');\n",
              "        docLink.innerHTML = docLinkHtml;\n",
              "        element.appendChild(docLink);\n",
              "      }\n",
              "    </script>\n",
              "  </div>\n",
              "\n",
              "\n",
              "    <div id=\"df-f8453d2b-585d-4aa1-81e2-c00182ed4b45\">\n",
              "      <button class=\"colab-df-quickchart\" onclick=\"quickchart('df-f8453d2b-585d-4aa1-81e2-c00182ed4b45')\"\n",
              "                title=\"Suggest charts\"\n",
              "                style=\"display:none;\">\n",
              "\n",
              "<svg xmlns=\"http://www.w3.org/2000/svg\" height=\"24px\"viewBox=\"0 0 24 24\"\n",
              "     width=\"24px\">\n",
              "    <g>\n",
              "        <path d=\"M19 3H5c-1.1 0-2 .9-2 2v14c0 1.1.9 2 2 2h14c1.1 0 2-.9 2-2V5c0-1.1-.9-2-2-2zM9 17H7v-7h2v7zm4 0h-2V7h2v10zm4 0h-2v-4h2v4z\"/>\n",
              "    </g>\n",
              "</svg>\n",
              "      </button>\n",
              "\n",
              "<style>\n",
              "  .colab-df-quickchart {\n",
              "      --bg-color: #E8F0FE;\n",
              "      --fill-color: #1967D2;\n",
              "      --hover-bg-color: #E2EBFA;\n",
              "      --hover-fill-color: #174EA6;\n",
              "      --disabled-fill-color: #AAA;\n",
              "      --disabled-bg-color: #DDD;\n",
              "  }\n",
              "\n",
              "  [theme=dark] .colab-df-quickchart {\n",
              "      --bg-color: #3B4455;\n",
              "      --fill-color: #D2E3FC;\n",
              "      --hover-bg-color: #434B5C;\n",
              "      --hover-fill-color: #FFFFFF;\n",
              "      --disabled-bg-color: #3B4455;\n",
              "      --disabled-fill-color: #666;\n",
              "  }\n",
              "\n",
              "  .colab-df-quickchart {\n",
              "    background-color: var(--bg-color);\n",
              "    border: none;\n",
              "    border-radius: 50%;\n",
              "    cursor: pointer;\n",
              "    display: none;\n",
              "    fill: var(--fill-color);\n",
              "    height: 32px;\n",
              "    padding: 0;\n",
              "    width: 32px;\n",
              "  }\n",
              "\n",
              "  .colab-df-quickchart:hover {\n",
              "    background-color: var(--hover-bg-color);\n",
              "    box-shadow: 0 1px 2px rgba(60, 64, 67, 0.3), 0 1px 3px 1px rgba(60, 64, 67, 0.15);\n",
              "    fill: var(--button-hover-fill-color);\n",
              "  }\n",
              "\n",
              "  .colab-df-quickchart-complete:disabled,\n",
              "  .colab-df-quickchart-complete:disabled:hover {\n",
              "    background-color: var(--disabled-bg-color);\n",
              "    fill: var(--disabled-fill-color);\n",
              "    box-shadow: none;\n",
              "  }\n",
              "\n",
              "  .colab-df-spinner {\n",
              "    border: 2px solid var(--fill-color);\n",
              "    border-color: transparent;\n",
              "    border-bottom-color: var(--fill-color);\n",
              "    animation:\n",
              "      spin 1s steps(1) infinite;\n",
              "  }\n",
              "\n",
              "  @keyframes spin {\n",
              "    0% {\n",
              "      border-color: transparent;\n",
              "      border-bottom-color: var(--fill-color);\n",
              "      border-left-color: var(--fill-color);\n",
              "    }\n",
              "    20% {\n",
              "      border-color: transparent;\n",
              "      border-left-color: var(--fill-color);\n",
              "      border-top-color: var(--fill-color);\n",
              "    }\n",
              "    30% {\n",
              "      border-color: transparent;\n",
              "      border-left-color: var(--fill-color);\n",
              "      border-top-color: var(--fill-color);\n",
              "      border-right-color: var(--fill-color);\n",
              "    }\n",
              "    40% {\n",
              "      border-color: transparent;\n",
              "      border-right-color: var(--fill-color);\n",
              "      border-top-color: var(--fill-color);\n",
              "    }\n",
              "    60% {\n",
              "      border-color: transparent;\n",
              "      border-right-color: var(--fill-color);\n",
              "    }\n",
              "    80% {\n",
              "      border-color: transparent;\n",
              "      border-right-color: var(--fill-color);\n",
              "      border-bottom-color: var(--fill-color);\n",
              "    }\n",
              "    90% {\n",
              "      border-color: transparent;\n",
              "      border-bottom-color: var(--fill-color);\n",
              "    }\n",
              "  }\n",
              "</style>\n",
              "\n",
              "      <script>\n",
              "        async function quickchart(key) {\n",
              "          const quickchartButtonEl =\n",
              "            document.querySelector('#' + key + ' button');\n",
              "          quickchartButtonEl.disabled = true;  // To prevent multiple clicks.\n",
              "          quickchartButtonEl.classList.add('colab-df-spinner');\n",
              "          try {\n",
              "            const charts = await google.colab.kernel.invokeFunction(\n",
              "                'suggestCharts', [key], {});\n",
              "          } catch (error) {\n",
              "            console.error('Error during call to suggestCharts:', error);\n",
              "          }\n",
              "          quickchartButtonEl.classList.remove('colab-df-spinner');\n",
              "          quickchartButtonEl.classList.add('colab-df-quickchart-complete');\n",
              "        }\n",
              "        (() => {\n",
              "          let quickchartButtonEl =\n",
              "            document.querySelector('#df-f8453d2b-585d-4aa1-81e2-c00182ed4b45 button');\n",
              "          quickchartButtonEl.style.display =\n",
              "            google.colab.kernel.accessAllowed ? 'block' : 'none';\n",
              "        })();\n",
              "      </script>\n",
              "    </div>\n",
              "\n",
              "    </div>\n",
              "  </div>\n"
            ],
            "application/vnd.google.colaboratory.intrinsic+json": {
              "type": "dataframe",
              "summary": "{\n  \"name\": \"display(items\",\n  \"rows\": 5,\n  \"fields\": [\n    {\n      \"column\": \"Title\",\n      \"properties\": {\n        \"dtype\": \"string\",\n        \"num_unique_values\": 5,\n        \"samples\": [\n          \"Les interactions dans l'enseignement des langues : agir professoral et pratiques de classe /\",\n          \"Les ann\\u00e9es glorieuses : roman /\",\n          \"Histoire de vie et recherche biographique : perspectives sociohistoriques /\"\n        ],\n        \"semantic_type\": \"\",\n        \"description\": \"\"\n      }\n    },\n    {\n      \"column\": \"Author\",\n      \"properties\": {\n        \"dtype\": \"string\",\n        \"num_unique_values\": 3,\n        \"samples\": [\n          \"Cicurel, Francine, 1947-\",\n          \"Mazas, Sylvain, 1980-\",\n          \"Lemaitre, Pierre, 1951-\"\n        ],\n        \"semantic_type\": \"\",\n        \"description\": \"\"\n      }\n    },\n    {\n      \"column\": \"ISBN Valid\",\n      \"properties\": {\n        \"dtype\": \"string\",\n        \"num_unique_values\": 5,\n        \"samples\": [\n          \"9782278058327; 2278058320\",\n          \"9782702180815; 2702180817; 9782702183618; 2702183611\",\n          \"2343190194; 9782343190198\"\n        ],\n        \"semantic_type\": \"\",\n        \"description\": \"\"\n      }\n    },\n    {\n      \"column\": \"Publisher\",\n      \"properties\": {\n        \"dtype\": \"string\",\n        \"num_unique_values\": 5,\n        \"samples\": [\n          \"Didier\",\n          \"Calmann-L\\u00e9vy\",\n          \"L'Harmattan\"\n        ],\n        \"semantic_type\": \"\",\n        \"description\": \"\"\n      }\n    },\n    {\n      \"column\": \"Subjects\",\n      \"properties\": {\n        \"dtype\": \"string\",\n        \"num_unique_values\": 5,\n        \"samples\": [\n          \"didactique--langue \\u00e9trang\\u00e8re - enseignement; didactique--langue - enseignement\",\n          \"France--1945-1975; Roman historique; Roman fran\\u00e7ais; Litt\\u00e9rature fran\\u00e7aise\",\n          \"Histoires de vie en sociologie; Sciences sociales--M\\u00e9thodologie; Actes de congr\\u00e8s\"\n        ],\n        \"semantic_type\": \"\",\n        \"description\": \"\"\n      }\n    },\n    {\n      \"column\": \"i\",\n      \"properties\": {\n        \"dtype\": \"number\",\n        \"std\": 1,\n        \"min\": 0,\n        \"max\": 4,\n        \"num_unique_values\": 5,\n        \"samples\": [\n          1,\n          4,\n          2\n        ],\n        \"semantic_type\": \"\",\n        \"description\": \"\"\n      }\n    }\n  ]\n}"
            }
          },
          "metadata": {}
        }
      ]
    },
    {
      "cell_type": "code",
      "source": [
        "# Rename columns in the interactions DataFrame\n",
        "interactions = interactions.rename(columns={'u': 'user_id', 'i': 'book_id', 't': 'timestamp'})\n",
        "items=items.rename(columns={'i':'book_id'})\n",
        "# Display the first rows of the updated interactions DataFrame\n",
        "display(interactions.head())\n",
        "display(items.head())\n"
      ],
      "metadata": {
        "colab": {
          "base_uri": "https://localhost:8080/",
          "height": 655
        },
        "id": "VL4eP2NlnaVQ",
        "outputId": "8785aada-2f99-4a48-f82a-f05f23a41e0b"
      },
      "execution_count": 7,
      "outputs": [
        {
          "output_type": "display_data",
          "data": {
            "text/plain": [
              "   user_id  book_id     timestamp\n",
              "0     4456     8581  1.687541e+09\n",
              "1      142     1964  1.679585e+09\n",
              "2      362     3705  1.706872e+09\n",
              "3     1809    11317  1.673533e+09\n",
              "4     4384     1323  1.681402e+09"
            ],
            "text/html": [
              "\n",
              "  <div id=\"df-12188a30-c62b-4042-9d4a-eeeb100fac7a\" class=\"colab-df-container\">\n",
              "    <div>\n",
              "<style scoped>\n",
              "    .dataframe tbody tr th:only-of-type {\n",
              "        vertical-align: middle;\n",
              "    }\n",
              "\n",
              "    .dataframe tbody tr th {\n",
              "        vertical-align: top;\n",
              "    }\n",
              "\n",
              "    .dataframe thead th {\n",
              "        text-align: right;\n",
              "    }\n",
              "</style>\n",
              "<table border=\"1\" class=\"dataframe\">\n",
              "  <thead>\n",
              "    <tr style=\"text-align: right;\">\n",
              "      <th></th>\n",
              "      <th>user_id</th>\n",
              "      <th>book_id</th>\n",
              "      <th>timestamp</th>\n",
              "    </tr>\n",
              "  </thead>\n",
              "  <tbody>\n",
              "    <tr>\n",
              "      <th>0</th>\n",
              "      <td>4456</td>\n",
              "      <td>8581</td>\n",
              "      <td>1.687541e+09</td>\n",
              "    </tr>\n",
              "    <tr>\n",
              "      <th>1</th>\n",
              "      <td>142</td>\n",
              "      <td>1964</td>\n",
              "      <td>1.679585e+09</td>\n",
              "    </tr>\n",
              "    <tr>\n",
              "      <th>2</th>\n",
              "      <td>362</td>\n",
              "      <td>3705</td>\n",
              "      <td>1.706872e+09</td>\n",
              "    </tr>\n",
              "    <tr>\n",
              "      <th>3</th>\n",
              "      <td>1809</td>\n",
              "      <td>11317</td>\n",
              "      <td>1.673533e+09</td>\n",
              "    </tr>\n",
              "    <tr>\n",
              "      <th>4</th>\n",
              "      <td>4384</td>\n",
              "      <td>1323</td>\n",
              "      <td>1.681402e+09</td>\n",
              "    </tr>\n",
              "  </tbody>\n",
              "</table>\n",
              "</div>\n",
              "    <div class=\"colab-df-buttons\">\n",
              "\n",
              "  <div class=\"colab-df-container\">\n",
              "    <button class=\"colab-df-convert\" onclick=\"convertToInteractive('df-12188a30-c62b-4042-9d4a-eeeb100fac7a')\"\n",
              "            title=\"Convert this dataframe to an interactive table.\"\n",
              "            style=\"display:none;\">\n",
              "\n",
              "  <svg xmlns=\"http://www.w3.org/2000/svg\" height=\"24px\" viewBox=\"0 -960 960 960\">\n",
              "    <path d=\"M120-120v-720h720v720H120Zm60-500h600v-160H180v160Zm220 220h160v-160H400v160Zm0 220h160v-160H400v160ZM180-400h160v-160H180v160Zm440 0h160v-160H620v160ZM180-180h160v-160H180v160Zm440 0h160v-160H620v160Z\"/>\n",
              "  </svg>\n",
              "    </button>\n",
              "\n",
              "  <style>\n",
              "    .colab-df-container {\n",
              "      display:flex;\n",
              "      gap: 12px;\n",
              "    }\n",
              "\n",
              "    .colab-df-convert {\n",
              "      background-color: #E8F0FE;\n",
              "      border: none;\n",
              "      border-radius: 50%;\n",
              "      cursor: pointer;\n",
              "      display: none;\n",
              "      fill: #1967D2;\n",
              "      height: 32px;\n",
              "      padding: 0 0 0 0;\n",
              "      width: 32px;\n",
              "    }\n",
              "\n",
              "    .colab-df-convert:hover {\n",
              "      background-color: #E2EBFA;\n",
              "      box-shadow: 0px 1px 2px rgba(60, 64, 67, 0.3), 0px 1px 3px 1px rgba(60, 64, 67, 0.15);\n",
              "      fill: #174EA6;\n",
              "    }\n",
              "\n",
              "    .colab-df-buttons div {\n",
              "      margin-bottom: 4px;\n",
              "    }\n",
              "\n",
              "    [theme=dark] .colab-df-convert {\n",
              "      background-color: #3B4455;\n",
              "      fill: #D2E3FC;\n",
              "    }\n",
              "\n",
              "    [theme=dark] .colab-df-convert:hover {\n",
              "      background-color: #434B5C;\n",
              "      box-shadow: 0px 1px 3px 1px rgba(0, 0, 0, 0.15);\n",
              "      filter: drop-shadow(0px 1px 2px rgba(0, 0, 0, 0.3));\n",
              "      fill: #FFFFFF;\n",
              "    }\n",
              "  </style>\n",
              "\n",
              "    <script>\n",
              "      const buttonEl =\n",
              "        document.querySelector('#df-12188a30-c62b-4042-9d4a-eeeb100fac7a button.colab-df-convert');\n",
              "      buttonEl.style.display =\n",
              "        google.colab.kernel.accessAllowed ? 'block' : 'none';\n",
              "\n",
              "      async function convertToInteractive(key) {\n",
              "        const element = document.querySelector('#df-12188a30-c62b-4042-9d4a-eeeb100fac7a');\n",
              "        const dataTable =\n",
              "          await google.colab.kernel.invokeFunction('convertToInteractive',\n",
              "                                                    [key], {});\n",
              "        if (!dataTable) return;\n",
              "\n",
              "        const docLinkHtml = 'Like what you see? Visit the ' +\n",
              "          '<a target=\"_blank\" href=https://colab.research.google.com/notebooks/data_table.ipynb>data table notebook</a>'\n",
              "          + ' to learn more about interactive tables.';\n",
              "        element.innerHTML = '';\n",
              "        dataTable['output_type'] = 'display_data';\n",
              "        await google.colab.output.renderOutput(dataTable, element);\n",
              "        const docLink = document.createElement('div');\n",
              "        docLink.innerHTML = docLinkHtml;\n",
              "        element.appendChild(docLink);\n",
              "      }\n",
              "    </script>\n",
              "  </div>\n",
              "\n",
              "\n",
              "    <div id=\"df-c16c28fd-bdaf-471d-9958-ff63982051bd\">\n",
              "      <button class=\"colab-df-quickchart\" onclick=\"quickchart('df-c16c28fd-bdaf-471d-9958-ff63982051bd')\"\n",
              "                title=\"Suggest charts\"\n",
              "                style=\"display:none;\">\n",
              "\n",
              "<svg xmlns=\"http://www.w3.org/2000/svg\" height=\"24px\"viewBox=\"0 0 24 24\"\n",
              "     width=\"24px\">\n",
              "    <g>\n",
              "        <path d=\"M19 3H5c-1.1 0-2 .9-2 2v14c0 1.1.9 2 2 2h14c1.1 0 2-.9 2-2V5c0-1.1-.9-2-2-2zM9 17H7v-7h2v7zm4 0h-2V7h2v10zm4 0h-2v-4h2v4z\"/>\n",
              "    </g>\n",
              "</svg>\n",
              "      </button>\n",
              "\n",
              "<style>\n",
              "  .colab-df-quickchart {\n",
              "      --bg-color: #E8F0FE;\n",
              "      --fill-color: #1967D2;\n",
              "      --hover-bg-color: #E2EBFA;\n",
              "      --hover-fill-color: #174EA6;\n",
              "      --disabled-fill-color: #AAA;\n",
              "      --disabled-bg-color: #DDD;\n",
              "  }\n",
              "\n",
              "  [theme=dark] .colab-df-quickchart {\n",
              "      --bg-color: #3B4455;\n",
              "      --fill-color: #D2E3FC;\n",
              "      --hover-bg-color: #434B5C;\n",
              "      --hover-fill-color: #FFFFFF;\n",
              "      --disabled-bg-color: #3B4455;\n",
              "      --disabled-fill-color: #666;\n",
              "  }\n",
              "\n",
              "  .colab-df-quickchart {\n",
              "    background-color: var(--bg-color);\n",
              "    border: none;\n",
              "    border-radius: 50%;\n",
              "    cursor: pointer;\n",
              "    display: none;\n",
              "    fill: var(--fill-color);\n",
              "    height: 32px;\n",
              "    padding: 0;\n",
              "    width: 32px;\n",
              "  }\n",
              "\n",
              "  .colab-df-quickchart:hover {\n",
              "    background-color: var(--hover-bg-color);\n",
              "    box-shadow: 0 1px 2px rgba(60, 64, 67, 0.3), 0 1px 3px 1px rgba(60, 64, 67, 0.15);\n",
              "    fill: var(--button-hover-fill-color);\n",
              "  }\n",
              "\n",
              "  .colab-df-quickchart-complete:disabled,\n",
              "  .colab-df-quickchart-complete:disabled:hover {\n",
              "    background-color: var(--disabled-bg-color);\n",
              "    fill: var(--disabled-fill-color);\n",
              "    box-shadow: none;\n",
              "  }\n",
              "\n",
              "  .colab-df-spinner {\n",
              "    border: 2px solid var(--fill-color);\n",
              "    border-color: transparent;\n",
              "    border-bottom-color: var(--fill-color);\n",
              "    animation:\n",
              "      spin 1s steps(1) infinite;\n",
              "  }\n",
              "\n",
              "  @keyframes spin {\n",
              "    0% {\n",
              "      border-color: transparent;\n",
              "      border-bottom-color: var(--fill-color);\n",
              "      border-left-color: var(--fill-color);\n",
              "    }\n",
              "    20% {\n",
              "      border-color: transparent;\n",
              "      border-left-color: var(--fill-color);\n",
              "      border-top-color: var(--fill-color);\n",
              "    }\n",
              "    30% {\n",
              "      border-color: transparent;\n",
              "      border-left-color: var(--fill-color);\n",
              "      border-top-color: var(--fill-color);\n",
              "      border-right-color: var(--fill-color);\n",
              "    }\n",
              "    40% {\n",
              "      border-color: transparent;\n",
              "      border-right-color: var(--fill-color);\n",
              "      border-top-color: var(--fill-color);\n",
              "    }\n",
              "    60% {\n",
              "      border-color: transparent;\n",
              "      border-right-color: var(--fill-color);\n",
              "    }\n",
              "    80% {\n",
              "      border-color: transparent;\n",
              "      border-right-color: var(--fill-color);\n",
              "      border-bottom-color: var(--fill-color);\n",
              "    }\n",
              "    90% {\n",
              "      border-color: transparent;\n",
              "      border-bottom-color: var(--fill-color);\n",
              "    }\n",
              "  }\n",
              "</style>\n",
              "\n",
              "      <script>\n",
              "        async function quickchart(key) {\n",
              "          const quickchartButtonEl =\n",
              "            document.querySelector('#' + key + ' button');\n",
              "          quickchartButtonEl.disabled = true;  // To prevent multiple clicks.\n",
              "          quickchartButtonEl.classList.add('colab-df-spinner');\n",
              "          try {\n",
              "            const charts = await google.colab.kernel.invokeFunction(\n",
              "                'suggestCharts', [key], {});\n",
              "          } catch (error) {\n",
              "            console.error('Error during call to suggestCharts:', error);\n",
              "          }\n",
              "          quickchartButtonEl.classList.remove('colab-df-spinner');\n",
              "          quickchartButtonEl.classList.add('colab-df-quickchart-complete');\n",
              "        }\n",
              "        (() => {\n",
              "          let quickchartButtonEl =\n",
              "            document.querySelector('#df-c16c28fd-bdaf-471d-9958-ff63982051bd button');\n",
              "          quickchartButtonEl.style.display =\n",
              "            google.colab.kernel.accessAllowed ? 'block' : 'none';\n",
              "        })();\n",
              "      </script>\n",
              "    </div>\n",
              "\n",
              "    </div>\n",
              "  </div>\n"
            ],
            "application/vnd.google.colaboratory.intrinsic+json": {
              "type": "dataframe",
              "summary": "{\n  \"name\": \"display(items\",\n  \"rows\": 5,\n  \"fields\": [\n    {\n      \"column\": \"user_id\",\n      \"properties\": {\n        \"dtype\": \"number\",\n        \"std\": 2098,\n        \"min\": 142,\n        \"max\": 4456,\n        \"num_unique_values\": 5,\n        \"samples\": [\n          142,\n          4384,\n          362\n        ],\n        \"semantic_type\": \"\",\n        \"description\": \"\"\n      }\n    },\n    {\n      \"column\": \"book_id\",\n      \"properties\": {\n        \"dtype\": \"number\",\n        \"std\": 4371,\n        \"min\": 1323,\n        \"max\": 11317,\n        \"num_unique_values\": 5,\n        \"samples\": [\n          1964,\n          1323,\n          3705\n        ],\n        \"semantic_type\": \"\",\n        \"description\": \"\"\n      }\n    },\n    {\n      \"column\": \"timestamp\",\n      \"properties\": {\n        \"dtype\": \"number\",\n        \"std\": 12801198.97249742,\n        \"min\": 1673533162.0,\n        \"max\": 1706871659.0,\n        \"num_unique_values\": 5,\n        \"samples\": [\n          1679585406.0,\n          1681402162.0,\n          1706871659.0\n        ],\n        \"semantic_type\": \"\",\n        \"description\": \"\"\n      }\n    }\n  ]\n}"
            }
          },
          "metadata": {}
        },
        {
          "output_type": "display_data",
          "data": {
            "text/plain": [
              "                                               Title  \\\n",
              "0  Classification décimale universelle : édition ...   \n",
              "1  Les interactions dans l'enseignement des langu...   \n",
              "2  Histoire de vie et recherche biographique : pe...   \n",
              "3  Ce livre devrait me permettre de résoudre le c...   \n",
              "4                    Les années glorieuses : roman /   \n",
              "\n",
              "                     Author  \\\n",
              "0                       NaN   \n",
              "1  Cicurel, Francine, 1947-   \n",
              "2                       NaN   \n",
              "3     Mazas, Sylvain, 1980-   \n",
              "4   Lemaitre, Pierre, 1951-   \n",
              "\n",
              "                                          ISBN Valid     Publisher  \\\n",
              "0                          9782871303336; 2871303339   Ed du CEFAL   \n",
              "1                          9782278058327; 2278058320        Didier   \n",
              "2                          2343190194; 9782343190198   L'Harmattan   \n",
              "3  9782365350020; 236535002X; 9782365350488; 2365...       Vraoum!   \n",
              "4  9782702180815; 2702180817; 9782702183618; 2702...  Calmann-Lévy   \n",
              "\n",
              "                                            Subjects  book_id  \n",
              "0  Classification décimale universelle; Indexatio...        0  \n",
              "1  didactique--langue étrangère - enseignement; d...        1  \n",
              "2  Histoires de vie en sociologie; Sciences socia...        2  \n",
              "3  Moyen-Orient; Bandes dessinées autobiographiqu...        3  \n",
              "4  France--1945-1975; Roman historique; Roman fra...        4  "
            ],
            "text/html": [
              "\n",
              "  <div id=\"df-7f2bb4aa-c700-4ce4-89b1-fb6bc7d4882c\" class=\"colab-df-container\">\n",
              "    <div>\n",
              "<style scoped>\n",
              "    .dataframe tbody tr th:only-of-type {\n",
              "        vertical-align: middle;\n",
              "    }\n",
              "\n",
              "    .dataframe tbody tr th {\n",
              "        vertical-align: top;\n",
              "    }\n",
              "\n",
              "    .dataframe thead th {\n",
              "        text-align: right;\n",
              "    }\n",
              "</style>\n",
              "<table border=\"1\" class=\"dataframe\">\n",
              "  <thead>\n",
              "    <tr style=\"text-align: right;\">\n",
              "      <th></th>\n",
              "      <th>Title</th>\n",
              "      <th>Author</th>\n",
              "      <th>ISBN Valid</th>\n",
              "      <th>Publisher</th>\n",
              "      <th>Subjects</th>\n",
              "      <th>book_id</th>\n",
              "    </tr>\n",
              "  </thead>\n",
              "  <tbody>\n",
              "    <tr>\n",
              "      <th>0</th>\n",
              "      <td>Classification décimale universelle : édition ...</td>\n",
              "      <td>NaN</td>\n",
              "      <td>9782871303336; 2871303339</td>\n",
              "      <td>Ed du CEFAL</td>\n",
              "      <td>Classification décimale universelle; Indexatio...</td>\n",
              "      <td>0</td>\n",
              "    </tr>\n",
              "    <tr>\n",
              "      <th>1</th>\n",
              "      <td>Les interactions dans l'enseignement des langu...</td>\n",
              "      <td>Cicurel, Francine, 1947-</td>\n",
              "      <td>9782278058327; 2278058320</td>\n",
              "      <td>Didier</td>\n",
              "      <td>didactique--langue étrangère - enseignement; d...</td>\n",
              "      <td>1</td>\n",
              "    </tr>\n",
              "    <tr>\n",
              "      <th>2</th>\n",
              "      <td>Histoire de vie et recherche biographique : pe...</td>\n",
              "      <td>NaN</td>\n",
              "      <td>2343190194; 9782343190198</td>\n",
              "      <td>L'Harmattan</td>\n",
              "      <td>Histoires de vie en sociologie; Sciences socia...</td>\n",
              "      <td>2</td>\n",
              "    </tr>\n",
              "    <tr>\n",
              "      <th>3</th>\n",
              "      <td>Ce livre devrait me permettre de résoudre le c...</td>\n",
              "      <td>Mazas, Sylvain, 1980-</td>\n",
              "      <td>9782365350020; 236535002X; 9782365350488; 2365...</td>\n",
              "      <td>Vraoum!</td>\n",
              "      <td>Moyen-Orient; Bandes dessinées autobiographiqu...</td>\n",
              "      <td>3</td>\n",
              "    </tr>\n",
              "    <tr>\n",
              "      <th>4</th>\n",
              "      <td>Les années glorieuses : roman /</td>\n",
              "      <td>Lemaitre, Pierre, 1951-</td>\n",
              "      <td>9782702180815; 2702180817; 9782702183618; 2702...</td>\n",
              "      <td>Calmann-Lévy</td>\n",
              "      <td>France--1945-1975; Roman historique; Roman fra...</td>\n",
              "      <td>4</td>\n",
              "    </tr>\n",
              "  </tbody>\n",
              "</table>\n",
              "</div>\n",
              "    <div class=\"colab-df-buttons\">\n",
              "\n",
              "  <div class=\"colab-df-container\">\n",
              "    <button class=\"colab-df-convert\" onclick=\"convertToInteractive('df-7f2bb4aa-c700-4ce4-89b1-fb6bc7d4882c')\"\n",
              "            title=\"Convert this dataframe to an interactive table.\"\n",
              "            style=\"display:none;\">\n",
              "\n",
              "  <svg xmlns=\"http://www.w3.org/2000/svg\" height=\"24px\" viewBox=\"0 -960 960 960\">\n",
              "    <path d=\"M120-120v-720h720v720H120Zm60-500h600v-160H180v160Zm220 220h160v-160H400v160Zm0 220h160v-160H400v160ZM180-400h160v-160H180v160Zm440 0h160v-160H620v160ZM180-180h160v-160H180v160Zm440 0h160v-160H620v160Z\"/>\n",
              "  </svg>\n",
              "    </button>\n",
              "\n",
              "  <style>\n",
              "    .colab-df-container {\n",
              "      display:flex;\n",
              "      gap: 12px;\n",
              "    }\n",
              "\n",
              "    .colab-df-convert {\n",
              "      background-color: #E8F0FE;\n",
              "      border: none;\n",
              "      border-radius: 50%;\n",
              "      cursor: pointer;\n",
              "      display: none;\n",
              "      fill: #1967D2;\n",
              "      height: 32px;\n",
              "      padding: 0 0 0 0;\n",
              "      width: 32px;\n",
              "    }\n",
              "\n",
              "    .colab-df-convert:hover {\n",
              "      background-color: #E2EBFA;\n",
              "      box-shadow: 0px 1px 2px rgba(60, 64, 67, 0.3), 0px 1px 3px 1px rgba(60, 64, 67, 0.15);\n",
              "      fill: #174EA6;\n",
              "    }\n",
              "\n",
              "    .colab-df-buttons div {\n",
              "      margin-bottom: 4px;\n",
              "    }\n",
              "\n",
              "    [theme=dark] .colab-df-convert {\n",
              "      background-color: #3B4455;\n",
              "      fill: #D2E3FC;\n",
              "    }\n",
              "\n",
              "    [theme=dark] .colab-df-convert:hover {\n",
              "      background-color: #434B5C;\n",
              "      box-shadow: 0px 1px 3px 1px rgba(0, 0, 0, 0.15);\n",
              "      filter: drop-shadow(0px 1px 2px rgba(0, 0, 0, 0.3));\n",
              "      fill: #FFFFFF;\n",
              "    }\n",
              "  </style>\n",
              "\n",
              "    <script>\n",
              "      const buttonEl =\n",
              "        document.querySelector('#df-7f2bb4aa-c700-4ce4-89b1-fb6bc7d4882c button.colab-df-convert');\n",
              "      buttonEl.style.display =\n",
              "        google.colab.kernel.accessAllowed ? 'block' : 'none';\n",
              "\n",
              "      async function convertToInteractive(key) {\n",
              "        const element = document.querySelector('#df-7f2bb4aa-c700-4ce4-89b1-fb6bc7d4882c');\n",
              "        const dataTable =\n",
              "          await google.colab.kernel.invokeFunction('convertToInteractive',\n",
              "                                                    [key], {});\n",
              "        if (!dataTable) return;\n",
              "\n",
              "        const docLinkHtml = 'Like what you see? Visit the ' +\n",
              "          '<a target=\"_blank\" href=https://colab.research.google.com/notebooks/data_table.ipynb>data table notebook</a>'\n",
              "          + ' to learn more about interactive tables.';\n",
              "        element.innerHTML = '';\n",
              "        dataTable['output_type'] = 'display_data';\n",
              "        await google.colab.output.renderOutput(dataTable, element);\n",
              "        const docLink = document.createElement('div');\n",
              "        docLink.innerHTML = docLinkHtml;\n",
              "        element.appendChild(docLink);\n",
              "      }\n",
              "    </script>\n",
              "  </div>\n",
              "\n",
              "\n",
              "    <div id=\"df-9ea8ffe6-ea4e-4ef0-a549-42b964f7ab6e\">\n",
              "      <button class=\"colab-df-quickchart\" onclick=\"quickchart('df-9ea8ffe6-ea4e-4ef0-a549-42b964f7ab6e')\"\n",
              "                title=\"Suggest charts\"\n",
              "                style=\"display:none;\">\n",
              "\n",
              "<svg xmlns=\"http://www.w3.org/2000/svg\" height=\"24px\"viewBox=\"0 0 24 24\"\n",
              "     width=\"24px\">\n",
              "    <g>\n",
              "        <path d=\"M19 3H5c-1.1 0-2 .9-2 2v14c0 1.1.9 2 2 2h14c1.1 0 2-.9 2-2V5c0-1.1-.9-2-2-2zM9 17H7v-7h2v7zm4 0h-2V7h2v10zm4 0h-2v-4h2v4z\"/>\n",
              "    </g>\n",
              "</svg>\n",
              "      </button>\n",
              "\n",
              "<style>\n",
              "  .colab-df-quickchart {\n",
              "      --bg-color: #E8F0FE;\n",
              "      --fill-color: #1967D2;\n",
              "      --hover-bg-color: #E2EBFA;\n",
              "      --hover-fill-color: #174EA6;\n",
              "      --disabled-fill-color: #AAA;\n",
              "      --disabled-bg-color: #DDD;\n",
              "  }\n",
              "\n",
              "  [theme=dark] .colab-df-quickchart {\n",
              "      --bg-color: #3B4455;\n",
              "      --fill-color: #D2E3FC;\n",
              "      --hover-bg-color: #434B5C;\n",
              "      --hover-fill-color: #FFFFFF;\n",
              "      --disabled-bg-color: #3B4455;\n",
              "      --disabled-fill-color: #666;\n",
              "  }\n",
              "\n",
              "  .colab-df-quickchart {\n",
              "    background-color: var(--bg-color);\n",
              "    border: none;\n",
              "    border-radius: 50%;\n",
              "    cursor: pointer;\n",
              "    display: none;\n",
              "    fill: var(--fill-color);\n",
              "    height: 32px;\n",
              "    padding: 0;\n",
              "    width: 32px;\n",
              "  }\n",
              "\n",
              "  .colab-df-quickchart:hover {\n",
              "    background-color: var(--hover-bg-color);\n",
              "    box-shadow: 0 1px 2px rgba(60, 64, 67, 0.3), 0 1px 3px 1px rgba(60, 64, 67, 0.15);\n",
              "    fill: var(--button-hover-fill-color);\n",
              "  }\n",
              "\n",
              "  .colab-df-quickchart-complete:disabled,\n",
              "  .colab-df-quickchart-complete:disabled:hover {\n",
              "    background-color: var(--disabled-bg-color);\n",
              "    fill: var(--disabled-fill-color);\n",
              "    box-shadow: none;\n",
              "  }\n",
              "\n",
              "  .colab-df-spinner {\n",
              "    border: 2px solid var(--fill-color);\n",
              "    border-color: transparent;\n",
              "    border-bottom-color: var(--fill-color);\n",
              "    animation:\n",
              "      spin 1s steps(1) infinite;\n",
              "  }\n",
              "\n",
              "  @keyframes spin {\n",
              "    0% {\n",
              "      border-color: transparent;\n",
              "      border-bottom-color: var(--fill-color);\n",
              "      border-left-color: var(--fill-color);\n",
              "    }\n",
              "    20% {\n",
              "      border-color: transparent;\n",
              "      border-left-color: var(--fill-color);\n",
              "      border-top-color: var(--fill-color);\n",
              "    }\n",
              "    30% {\n",
              "      border-color: transparent;\n",
              "      border-left-color: var(--fill-color);\n",
              "      border-top-color: var(--fill-color);\n",
              "      border-right-color: var(--fill-color);\n",
              "    }\n",
              "    40% {\n",
              "      border-color: transparent;\n",
              "      border-right-color: var(--fill-color);\n",
              "      border-top-color: var(--fill-color);\n",
              "    }\n",
              "    60% {\n",
              "      border-color: transparent;\n",
              "      border-right-color: var(--fill-color);\n",
              "    }\n",
              "    80% {\n",
              "      border-color: transparent;\n",
              "      border-right-color: var(--fill-color);\n",
              "      border-bottom-color: var(--fill-color);\n",
              "    }\n",
              "    90% {\n",
              "      border-color: transparent;\n",
              "      border-bottom-color: var(--fill-color);\n",
              "    }\n",
              "  }\n",
              "</style>\n",
              "\n",
              "      <script>\n",
              "        async function quickchart(key) {\n",
              "          const quickchartButtonEl =\n",
              "            document.querySelector('#' + key + ' button');\n",
              "          quickchartButtonEl.disabled = true;  // To prevent multiple clicks.\n",
              "          quickchartButtonEl.classList.add('colab-df-spinner');\n",
              "          try {\n",
              "            const charts = await google.colab.kernel.invokeFunction(\n",
              "                'suggestCharts', [key], {});\n",
              "          } catch (error) {\n",
              "            console.error('Error during call to suggestCharts:', error);\n",
              "          }\n",
              "          quickchartButtonEl.classList.remove('colab-df-spinner');\n",
              "          quickchartButtonEl.classList.add('colab-df-quickchart-complete');\n",
              "        }\n",
              "        (() => {\n",
              "          let quickchartButtonEl =\n",
              "            document.querySelector('#df-9ea8ffe6-ea4e-4ef0-a549-42b964f7ab6e button');\n",
              "          quickchartButtonEl.style.display =\n",
              "            google.colab.kernel.accessAllowed ? 'block' : 'none';\n",
              "        })();\n",
              "      </script>\n",
              "    </div>\n",
              "\n",
              "    </div>\n",
              "  </div>\n"
            ],
            "application/vnd.google.colaboratory.intrinsic+json": {
              "type": "dataframe",
              "summary": "{\n  \"name\": \"display(items\",\n  \"rows\": 5,\n  \"fields\": [\n    {\n      \"column\": \"Title\",\n      \"properties\": {\n        \"dtype\": \"string\",\n        \"num_unique_values\": 5,\n        \"samples\": [\n          \"Les interactions dans l'enseignement des langues : agir professoral et pratiques de classe /\",\n          \"Les ann\\u00e9es glorieuses : roman /\",\n          \"Histoire de vie et recherche biographique : perspectives sociohistoriques /\"\n        ],\n        \"semantic_type\": \"\",\n        \"description\": \"\"\n      }\n    },\n    {\n      \"column\": \"Author\",\n      \"properties\": {\n        \"dtype\": \"string\",\n        \"num_unique_values\": 3,\n        \"samples\": [\n          \"Cicurel, Francine, 1947-\",\n          \"Mazas, Sylvain, 1980-\",\n          \"Lemaitre, Pierre, 1951-\"\n        ],\n        \"semantic_type\": \"\",\n        \"description\": \"\"\n      }\n    },\n    {\n      \"column\": \"ISBN Valid\",\n      \"properties\": {\n        \"dtype\": \"string\",\n        \"num_unique_values\": 5,\n        \"samples\": [\n          \"9782278058327; 2278058320\",\n          \"9782702180815; 2702180817; 9782702183618; 2702183611\",\n          \"2343190194; 9782343190198\"\n        ],\n        \"semantic_type\": \"\",\n        \"description\": \"\"\n      }\n    },\n    {\n      \"column\": \"Publisher\",\n      \"properties\": {\n        \"dtype\": \"string\",\n        \"num_unique_values\": 5,\n        \"samples\": [\n          \"Didier\",\n          \"Calmann-L\\u00e9vy\",\n          \"L'Harmattan\"\n        ],\n        \"semantic_type\": \"\",\n        \"description\": \"\"\n      }\n    },\n    {\n      \"column\": \"Subjects\",\n      \"properties\": {\n        \"dtype\": \"string\",\n        \"num_unique_values\": 5,\n        \"samples\": [\n          \"didactique--langue \\u00e9trang\\u00e8re - enseignement; didactique--langue - enseignement\",\n          \"France--1945-1975; Roman historique; Roman fran\\u00e7ais; Litt\\u00e9rature fran\\u00e7aise\",\n          \"Histoires de vie en sociologie; Sciences sociales--M\\u00e9thodologie; Actes de congr\\u00e8s\"\n        ],\n        \"semantic_type\": \"\",\n        \"description\": \"\"\n      }\n    },\n    {\n      \"column\": \"book_id\",\n      \"properties\": {\n        \"dtype\": \"number\",\n        \"std\": 1,\n        \"min\": 0,\n        \"max\": 4,\n        \"num_unique_values\": 5,\n        \"samples\": [\n          1,\n          4,\n          2\n        ],\n        \"semantic_type\": \"\",\n        \"description\": \"\"\n      }\n    }\n  ]\n}"
            }
          },
          "metadata": {}
        }
      ]
    },
    {
      "cell_type": "markdown",
      "metadata": {
        "id": "5GeQ_ys3CeJa"
      },
      "source": [
        "\n",
        "#### Step 2: Check the Number of interactions, users and movies\n",
        "\n",
        "Let’s check how many unique users and items we have in this dataset."
      ]
    },
    {
      "cell_type": "code",
      "execution_count": 8,
      "metadata": {
        "colab": {
          "base_uri": "https://localhost:8080/"
        },
        "id": "LHDaQs3tCeJb",
        "outputId": "3fe61d72-b6c3-4fc6-f2a0-f90e6ab8be2a"
      },
      "outputs": [
        {
          "output_type": "stream",
          "name": "stdout",
          "text": [
            "Number of users = 7838, \n",
            " Number of movies = 15291 \n",
            " Number of interactions = 87047\n"
          ]
        }
      ],
      "source": [
        "n_users = interactions.user_id.nunique()\n",
        "n_items = items.book_id.nunique()\n",
        "print(f'Number of users = {n_users}, \\n Number of movies = {n_items} \\n Number of interactions = {len(interactions)}')\n"
      ]
    },
    {
      "cell_type": "code",
      "source": [
        "n_items = items.book_id.nunique()\n",
        "print(f'Number of books = {n_items}')"
      ],
      "metadata": {
        "id": "J-RX3iodzW4n",
        "outputId": "d8b1c5d5-3351-44d3-ed34-d99a34dacb32",
        "colab": {
          "base_uri": "https://localhost:8080/"
        }
      },
      "execution_count": 9,
      "outputs": [
        {
          "output_type": "stream",
          "name": "stdout",
          "text": [
            "Number of books = 15291\n"
          ]
        }
      ]
    },
    {
      "cell_type": "markdown",
      "metadata": {
        "id": "mQ02IWmrCeJb"
      },
      "source": [
        "\n",
        "#### Step 3: Split the Data into Training and Test Sets\n",
        "\n",
        "Splitting the data to training and test sets for recommendation systems is different from what you have seen in other classification/regression problems. In recommender systems, we want to make recommendations (predictions) for each user. Therefore, we need to make sure that we have training and test data for each user. In other words, we have to split the interactions of each user to training and test sets. For instance, if we want to do 80-20 splitting, we need to make sure that we have 80% of each user's interactions in the training set and the remaining 20% in the test set.\n",
        "\n",
        "Moreover, to have a splitting that is more aligned with the reality, it is better to do the splitting based on the timestamp of the interactions (if the timestamp data is available). To do so, we have to sort the interactions of each user based on time, and pick the first 80% interactions in the training set and the last 20% interactions in the test set. This is more aligned with the reality as we always want to predict the future interactions of a user, that is, *the items that the user might like in the future*.\n",
        "\n",
        "The figure below can help you understand better how this splitting is done."
      ]
    },
    {
      "cell_type": "markdown",
      "metadata": {
        "id": "xfW_11YzhO4j"
      },
      "source": [
        "\n",
        "\n",
        "<img src='https://raw.githubusercontent.com/michalis0/DataScience_and_MachineLearning/refs/heads/master/09-recommender-systems/data/image/train-test-split-reco.png' width=\"700\">"
      ]
    },
    {
      "cell_type": "code",
      "execution_count": 10,
      "metadata": {
        "colab": {
          "base_uri": "https://localhost:8080/",
          "height": 362
        },
        "id": "gd32QvvuZWac",
        "outputId": "e4dd4e91-e8d2-4f71-840f-a93c3050026e"
      },
      "outputs": [
        {
          "output_type": "execute_result",
          "data": {
            "text/plain": [
              "       user_id  book_id     timestamp\n",
              "21035        0        0  1.680191e+09\n",
              "28842        0        1  1.680783e+09\n",
              "3958         0        2  1.680801e+09\n",
              "29592        0        3  1.683715e+09\n",
              "6371         0        3  1.683715e+09\n",
              "41220        0        4  1.686569e+09\n",
              "12217        0        5  1.687014e+09\n",
              "19703        0        6  1.687014e+09\n",
              "64522        0        7  1.687014e+09\n",
              "29380        0        8  1.687260e+09"
            ],
            "text/html": [
              "\n",
              "  <div id=\"df-cd1952de-f30e-4730-aa72-eece3d07325f\" class=\"colab-df-container\">\n",
              "    <div>\n",
              "<style scoped>\n",
              "    .dataframe tbody tr th:only-of-type {\n",
              "        vertical-align: middle;\n",
              "    }\n",
              "\n",
              "    .dataframe tbody tr th {\n",
              "        vertical-align: top;\n",
              "    }\n",
              "\n",
              "    .dataframe thead th {\n",
              "        text-align: right;\n",
              "    }\n",
              "</style>\n",
              "<table border=\"1\" class=\"dataframe\">\n",
              "  <thead>\n",
              "    <tr style=\"text-align: right;\">\n",
              "      <th></th>\n",
              "      <th>user_id</th>\n",
              "      <th>book_id</th>\n",
              "      <th>timestamp</th>\n",
              "    </tr>\n",
              "  </thead>\n",
              "  <tbody>\n",
              "    <tr>\n",
              "      <th>21035</th>\n",
              "      <td>0</td>\n",
              "      <td>0</td>\n",
              "      <td>1.680191e+09</td>\n",
              "    </tr>\n",
              "    <tr>\n",
              "      <th>28842</th>\n",
              "      <td>0</td>\n",
              "      <td>1</td>\n",
              "      <td>1.680783e+09</td>\n",
              "    </tr>\n",
              "    <tr>\n",
              "      <th>3958</th>\n",
              "      <td>0</td>\n",
              "      <td>2</td>\n",
              "      <td>1.680801e+09</td>\n",
              "    </tr>\n",
              "    <tr>\n",
              "      <th>29592</th>\n",
              "      <td>0</td>\n",
              "      <td>3</td>\n",
              "      <td>1.683715e+09</td>\n",
              "    </tr>\n",
              "    <tr>\n",
              "      <th>6371</th>\n",
              "      <td>0</td>\n",
              "      <td>3</td>\n",
              "      <td>1.683715e+09</td>\n",
              "    </tr>\n",
              "    <tr>\n",
              "      <th>41220</th>\n",
              "      <td>0</td>\n",
              "      <td>4</td>\n",
              "      <td>1.686569e+09</td>\n",
              "    </tr>\n",
              "    <tr>\n",
              "      <th>12217</th>\n",
              "      <td>0</td>\n",
              "      <td>5</td>\n",
              "      <td>1.687014e+09</td>\n",
              "    </tr>\n",
              "    <tr>\n",
              "      <th>19703</th>\n",
              "      <td>0</td>\n",
              "      <td>6</td>\n",
              "      <td>1.687014e+09</td>\n",
              "    </tr>\n",
              "    <tr>\n",
              "      <th>64522</th>\n",
              "      <td>0</td>\n",
              "      <td>7</td>\n",
              "      <td>1.687014e+09</td>\n",
              "    </tr>\n",
              "    <tr>\n",
              "      <th>29380</th>\n",
              "      <td>0</td>\n",
              "      <td>8</td>\n",
              "      <td>1.687260e+09</td>\n",
              "    </tr>\n",
              "  </tbody>\n",
              "</table>\n",
              "</div>\n",
              "    <div class=\"colab-df-buttons\">\n",
              "\n",
              "  <div class=\"colab-df-container\">\n",
              "    <button class=\"colab-df-convert\" onclick=\"convertToInteractive('df-cd1952de-f30e-4730-aa72-eece3d07325f')\"\n",
              "            title=\"Convert this dataframe to an interactive table.\"\n",
              "            style=\"display:none;\">\n",
              "\n",
              "  <svg xmlns=\"http://www.w3.org/2000/svg\" height=\"24px\" viewBox=\"0 -960 960 960\">\n",
              "    <path d=\"M120-120v-720h720v720H120Zm60-500h600v-160H180v160Zm220 220h160v-160H400v160Zm0 220h160v-160H400v160ZM180-400h160v-160H180v160Zm440 0h160v-160H620v160ZM180-180h160v-160H180v160Zm440 0h160v-160H620v160Z\"/>\n",
              "  </svg>\n",
              "    </button>\n",
              "\n",
              "  <style>\n",
              "    .colab-df-container {\n",
              "      display:flex;\n",
              "      gap: 12px;\n",
              "    }\n",
              "\n",
              "    .colab-df-convert {\n",
              "      background-color: #E8F0FE;\n",
              "      border: none;\n",
              "      border-radius: 50%;\n",
              "      cursor: pointer;\n",
              "      display: none;\n",
              "      fill: #1967D2;\n",
              "      height: 32px;\n",
              "      padding: 0 0 0 0;\n",
              "      width: 32px;\n",
              "    }\n",
              "\n",
              "    .colab-df-convert:hover {\n",
              "      background-color: #E2EBFA;\n",
              "      box-shadow: 0px 1px 2px rgba(60, 64, 67, 0.3), 0px 1px 3px 1px rgba(60, 64, 67, 0.15);\n",
              "      fill: #174EA6;\n",
              "    }\n",
              "\n",
              "    .colab-df-buttons div {\n",
              "      margin-bottom: 4px;\n",
              "    }\n",
              "\n",
              "    [theme=dark] .colab-df-convert {\n",
              "      background-color: #3B4455;\n",
              "      fill: #D2E3FC;\n",
              "    }\n",
              "\n",
              "    [theme=dark] .colab-df-convert:hover {\n",
              "      background-color: #434B5C;\n",
              "      box-shadow: 0px 1px 3px 1px rgba(0, 0, 0, 0.15);\n",
              "      filter: drop-shadow(0px 1px 2px rgba(0, 0, 0, 0.3));\n",
              "      fill: #FFFFFF;\n",
              "    }\n",
              "  </style>\n",
              "\n",
              "    <script>\n",
              "      const buttonEl =\n",
              "        document.querySelector('#df-cd1952de-f30e-4730-aa72-eece3d07325f button.colab-df-convert');\n",
              "      buttonEl.style.display =\n",
              "        google.colab.kernel.accessAllowed ? 'block' : 'none';\n",
              "\n",
              "      async function convertToInteractive(key) {\n",
              "        const element = document.querySelector('#df-cd1952de-f30e-4730-aa72-eece3d07325f');\n",
              "        const dataTable =\n",
              "          await google.colab.kernel.invokeFunction('convertToInteractive',\n",
              "                                                    [key], {});\n",
              "        if (!dataTable) return;\n",
              "\n",
              "        const docLinkHtml = 'Like what you see? Visit the ' +\n",
              "          '<a target=\"_blank\" href=https://colab.research.google.com/notebooks/data_table.ipynb>data table notebook</a>'\n",
              "          + ' to learn more about interactive tables.';\n",
              "        element.innerHTML = '';\n",
              "        dataTable['output_type'] = 'display_data';\n",
              "        await google.colab.output.renderOutput(dataTable, element);\n",
              "        const docLink = document.createElement('div');\n",
              "        docLink.innerHTML = docLinkHtml;\n",
              "        element.appendChild(docLink);\n",
              "      }\n",
              "    </script>\n",
              "  </div>\n",
              "\n",
              "\n",
              "    <div id=\"df-7c3b453e-447d-42f8-a7bf-7520375d51ff\">\n",
              "      <button class=\"colab-df-quickchart\" onclick=\"quickchart('df-7c3b453e-447d-42f8-a7bf-7520375d51ff')\"\n",
              "                title=\"Suggest charts\"\n",
              "                style=\"display:none;\">\n",
              "\n",
              "<svg xmlns=\"http://www.w3.org/2000/svg\" height=\"24px\"viewBox=\"0 0 24 24\"\n",
              "     width=\"24px\">\n",
              "    <g>\n",
              "        <path d=\"M19 3H5c-1.1 0-2 .9-2 2v14c0 1.1.9 2 2 2h14c1.1 0 2-.9 2-2V5c0-1.1-.9-2-2-2zM9 17H7v-7h2v7zm4 0h-2V7h2v10zm4 0h-2v-4h2v4z\"/>\n",
              "    </g>\n",
              "</svg>\n",
              "      </button>\n",
              "\n",
              "<style>\n",
              "  .colab-df-quickchart {\n",
              "      --bg-color: #E8F0FE;\n",
              "      --fill-color: #1967D2;\n",
              "      --hover-bg-color: #E2EBFA;\n",
              "      --hover-fill-color: #174EA6;\n",
              "      --disabled-fill-color: #AAA;\n",
              "      --disabled-bg-color: #DDD;\n",
              "  }\n",
              "\n",
              "  [theme=dark] .colab-df-quickchart {\n",
              "      --bg-color: #3B4455;\n",
              "      --fill-color: #D2E3FC;\n",
              "      --hover-bg-color: #434B5C;\n",
              "      --hover-fill-color: #FFFFFF;\n",
              "      --disabled-bg-color: #3B4455;\n",
              "      --disabled-fill-color: #666;\n",
              "  }\n",
              "\n",
              "  .colab-df-quickchart {\n",
              "    background-color: var(--bg-color);\n",
              "    border: none;\n",
              "    border-radius: 50%;\n",
              "    cursor: pointer;\n",
              "    display: none;\n",
              "    fill: var(--fill-color);\n",
              "    height: 32px;\n",
              "    padding: 0;\n",
              "    width: 32px;\n",
              "  }\n",
              "\n",
              "  .colab-df-quickchart:hover {\n",
              "    background-color: var(--hover-bg-color);\n",
              "    box-shadow: 0 1px 2px rgba(60, 64, 67, 0.3), 0 1px 3px 1px rgba(60, 64, 67, 0.15);\n",
              "    fill: var(--button-hover-fill-color);\n",
              "  }\n",
              "\n",
              "  .colab-df-quickchart-complete:disabled,\n",
              "  .colab-df-quickchart-complete:disabled:hover {\n",
              "    background-color: var(--disabled-bg-color);\n",
              "    fill: var(--disabled-fill-color);\n",
              "    box-shadow: none;\n",
              "  }\n",
              "\n",
              "  .colab-df-spinner {\n",
              "    border: 2px solid var(--fill-color);\n",
              "    border-color: transparent;\n",
              "    border-bottom-color: var(--fill-color);\n",
              "    animation:\n",
              "      spin 1s steps(1) infinite;\n",
              "  }\n",
              "\n",
              "  @keyframes spin {\n",
              "    0% {\n",
              "      border-color: transparent;\n",
              "      border-bottom-color: var(--fill-color);\n",
              "      border-left-color: var(--fill-color);\n",
              "    }\n",
              "    20% {\n",
              "      border-color: transparent;\n",
              "      border-left-color: var(--fill-color);\n",
              "      border-top-color: var(--fill-color);\n",
              "    }\n",
              "    30% {\n",
              "      border-color: transparent;\n",
              "      border-left-color: var(--fill-color);\n",
              "      border-top-color: var(--fill-color);\n",
              "      border-right-color: var(--fill-color);\n",
              "    }\n",
              "    40% {\n",
              "      border-color: transparent;\n",
              "      border-right-color: var(--fill-color);\n",
              "      border-top-color: var(--fill-color);\n",
              "    }\n",
              "    60% {\n",
              "      border-color: transparent;\n",
              "      border-right-color: var(--fill-color);\n",
              "    }\n",
              "    80% {\n",
              "      border-color: transparent;\n",
              "      border-right-color: var(--fill-color);\n",
              "      border-bottom-color: var(--fill-color);\n",
              "    }\n",
              "    90% {\n",
              "      border-color: transparent;\n",
              "      border-bottom-color: var(--fill-color);\n",
              "    }\n",
              "  }\n",
              "</style>\n",
              "\n",
              "      <script>\n",
              "        async function quickchart(key) {\n",
              "          const quickchartButtonEl =\n",
              "            document.querySelector('#' + key + ' button');\n",
              "          quickchartButtonEl.disabled = true;  // To prevent multiple clicks.\n",
              "          quickchartButtonEl.classList.add('colab-df-spinner');\n",
              "          try {\n",
              "            const charts = await google.colab.kernel.invokeFunction(\n",
              "                'suggestCharts', [key], {});\n",
              "          } catch (error) {\n",
              "            console.error('Error during call to suggestCharts:', error);\n",
              "          }\n",
              "          quickchartButtonEl.classList.remove('colab-df-spinner');\n",
              "          quickchartButtonEl.classList.add('colab-df-quickchart-complete');\n",
              "        }\n",
              "        (() => {\n",
              "          let quickchartButtonEl =\n",
              "            document.querySelector('#df-7c3b453e-447d-42f8-a7bf-7520375d51ff button');\n",
              "          quickchartButtonEl.style.display =\n",
              "            google.colab.kernel.accessAllowed ? 'block' : 'none';\n",
              "        })();\n",
              "      </script>\n",
              "    </div>\n",
              "\n",
              "    </div>\n",
              "  </div>\n"
            ],
            "application/vnd.google.colaboratory.intrinsic+json": {
              "type": "dataframe",
              "variable_name": "interactions",
              "summary": "{\n  \"name\": \"interactions\",\n  \"rows\": 87047,\n  \"fields\": [\n    {\n      \"column\": \"user_id\",\n      \"properties\": {\n        \"dtype\": \"number\",\n        \"std\": 2266,\n        \"min\": 0,\n        \"max\": 7837,\n        \"num_unique_values\": 7838,\n        \"samples\": [\n          2226,\n          2177,\n          4236\n        ],\n        \"semantic_type\": \"\",\n        \"description\": \"\"\n      }\n    },\n    {\n      \"column\": \"book_id\",\n      \"properties\": {\n        \"dtype\": \"number\",\n        \"std\": 4441,\n        \"min\": 0,\n        \"max\": 15290,\n        \"num_unique_values\": 15109,\n        \"samples\": [\n          12344,\n          4093,\n          2388\n        ],\n        \"semantic_type\": \"\",\n        \"description\": \"\"\n      }\n    },\n    {\n      \"column\": \"timestamp\",\n      \"properties\": {\n        \"dtype\": \"number\",\n        \"std\": 14198285.151551325,\n        \"min\": 1672663643.0,\n        \"max\": 1728925054.0,\n        \"num_unique_values\": 86768,\n        \"samples\": [\n          1699375376.0,\n          1718029733.0,\n          1711876194.0\n        ],\n        \"semantic_type\": \"\",\n        \"description\": \"\"\n      }\n    }\n  ]\n}"
            }
          },
          "metadata": {},
          "execution_count": 10
        }
      ],
      "source": [
        "# let's first sort the interactions by user and time stamp\n",
        "interactions = interactions.sort_values([\"user_id\", \"timestamp\"])\n",
        "interactions.head(10)"
      ]
    },
    {
      "cell_type": "markdown",
      "metadata": {
        "id": "TH4vwOSeZ0Js"
      },
      "source": [
        "Next we can use the percentage rank from pandas to get a proportional ranking of the timestamps for each user. Check the documentation on how to use the `rank` funciton with groupby in pandas (https://pandas.pydata.org/docs/reference/api/pandas.core.groupby.DataFrameGroupBy.rank.html#pandas.core.groupby.DataFrameGroupBy.rank)."
      ]
    },
    {
      "cell_type": "code",
      "execution_count": 11,
      "metadata": {
        "colab": {
          "base_uri": "https://localhost:8080/",
          "height": 362
        },
        "id": "_nG-g8CoZuFM",
        "outputId": "9a429305-35a3-41d5-eac1-724c2ac6c30f"
      },
      "outputs": [
        {
          "output_type": "execute_result",
          "data": {
            "text/plain": [
              "   user_id  book_id     timestamp  pct_rank\n",
              "0        0        0  1.680191e+09      0.04\n",
              "1        0        1  1.680783e+09      0.08\n",
              "2        0        2  1.680801e+09      0.12\n",
              "3        0        3  1.683715e+09      0.16\n",
              "4        0        3  1.683715e+09      0.20\n",
              "5        0        4  1.686569e+09      0.24\n",
              "6        0        5  1.687014e+09      0.28\n",
              "7        0        6  1.687014e+09      0.32\n",
              "8        0        7  1.687014e+09      0.36\n",
              "9        0        8  1.687260e+09      0.40"
            ],
            "text/html": [
              "\n",
              "  <div id=\"df-81c32dad-5031-4378-90d5-c37db2e78926\" class=\"colab-df-container\">\n",
              "    <div>\n",
              "<style scoped>\n",
              "    .dataframe tbody tr th:only-of-type {\n",
              "        vertical-align: middle;\n",
              "    }\n",
              "\n",
              "    .dataframe tbody tr th {\n",
              "        vertical-align: top;\n",
              "    }\n",
              "\n",
              "    .dataframe thead th {\n",
              "        text-align: right;\n",
              "    }\n",
              "</style>\n",
              "<table border=\"1\" class=\"dataframe\">\n",
              "  <thead>\n",
              "    <tr style=\"text-align: right;\">\n",
              "      <th></th>\n",
              "      <th>user_id</th>\n",
              "      <th>book_id</th>\n",
              "      <th>timestamp</th>\n",
              "      <th>pct_rank</th>\n",
              "    </tr>\n",
              "  </thead>\n",
              "  <tbody>\n",
              "    <tr>\n",
              "      <th>0</th>\n",
              "      <td>0</td>\n",
              "      <td>0</td>\n",
              "      <td>1.680191e+09</td>\n",
              "      <td>0.04</td>\n",
              "    </tr>\n",
              "    <tr>\n",
              "      <th>1</th>\n",
              "      <td>0</td>\n",
              "      <td>1</td>\n",
              "      <td>1.680783e+09</td>\n",
              "      <td>0.08</td>\n",
              "    </tr>\n",
              "    <tr>\n",
              "      <th>2</th>\n",
              "      <td>0</td>\n",
              "      <td>2</td>\n",
              "      <td>1.680801e+09</td>\n",
              "      <td>0.12</td>\n",
              "    </tr>\n",
              "    <tr>\n",
              "      <th>3</th>\n",
              "      <td>0</td>\n",
              "      <td>3</td>\n",
              "      <td>1.683715e+09</td>\n",
              "      <td>0.16</td>\n",
              "    </tr>\n",
              "    <tr>\n",
              "      <th>4</th>\n",
              "      <td>0</td>\n",
              "      <td>3</td>\n",
              "      <td>1.683715e+09</td>\n",
              "      <td>0.20</td>\n",
              "    </tr>\n",
              "    <tr>\n",
              "      <th>5</th>\n",
              "      <td>0</td>\n",
              "      <td>4</td>\n",
              "      <td>1.686569e+09</td>\n",
              "      <td>0.24</td>\n",
              "    </tr>\n",
              "    <tr>\n",
              "      <th>6</th>\n",
              "      <td>0</td>\n",
              "      <td>5</td>\n",
              "      <td>1.687014e+09</td>\n",
              "      <td>0.28</td>\n",
              "    </tr>\n",
              "    <tr>\n",
              "      <th>7</th>\n",
              "      <td>0</td>\n",
              "      <td>6</td>\n",
              "      <td>1.687014e+09</td>\n",
              "      <td>0.32</td>\n",
              "    </tr>\n",
              "    <tr>\n",
              "      <th>8</th>\n",
              "      <td>0</td>\n",
              "      <td>7</td>\n",
              "      <td>1.687014e+09</td>\n",
              "      <td>0.36</td>\n",
              "    </tr>\n",
              "    <tr>\n",
              "      <th>9</th>\n",
              "      <td>0</td>\n",
              "      <td>8</td>\n",
              "      <td>1.687260e+09</td>\n",
              "      <td>0.40</td>\n",
              "    </tr>\n",
              "  </tbody>\n",
              "</table>\n",
              "</div>\n",
              "    <div class=\"colab-df-buttons\">\n",
              "\n",
              "  <div class=\"colab-df-container\">\n",
              "    <button class=\"colab-df-convert\" onclick=\"convertToInteractive('df-81c32dad-5031-4378-90d5-c37db2e78926')\"\n",
              "            title=\"Convert this dataframe to an interactive table.\"\n",
              "            style=\"display:none;\">\n",
              "\n",
              "  <svg xmlns=\"http://www.w3.org/2000/svg\" height=\"24px\" viewBox=\"0 -960 960 960\">\n",
              "    <path d=\"M120-120v-720h720v720H120Zm60-500h600v-160H180v160Zm220 220h160v-160H400v160Zm0 220h160v-160H400v160ZM180-400h160v-160H180v160Zm440 0h160v-160H620v160ZM180-180h160v-160H180v160Zm440 0h160v-160H620v160Z\"/>\n",
              "  </svg>\n",
              "    </button>\n",
              "\n",
              "  <style>\n",
              "    .colab-df-container {\n",
              "      display:flex;\n",
              "      gap: 12px;\n",
              "    }\n",
              "\n",
              "    .colab-df-convert {\n",
              "      background-color: #E8F0FE;\n",
              "      border: none;\n",
              "      border-radius: 50%;\n",
              "      cursor: pointer;\n",
              "      display: none;\n",
              "      fill: #1967D2;\n",
              "      height: 32px;\n",
              "      padding: 0 0 0 0;\n",
              "      width: 32px;\n",
              "    }\n",
              "\n",
              "    .colab-df-convert:hover {\n",
              "      background-color: #E2EBFA;\n",
              "      box-shadow: 0px 1px 2px rgba(60, 64, 67, 0.3), 0px 1px 3px 1px rgba(60, 64, 67, 0.15);\n",
              "      fill: #174EA6;\n",
              "    }\n",
              "\n",
              "    .colab-df-buttons div {\n",
              "      margin-bottom: 4px;\n",
              "    }\n",
              "\n",
              "    [theme=dark] .colab-df-convert {\n",
              "      background-color: #3B4455;\n",
              "      fill: #D2E3FC;\n",
              "    }\n",
              "\n",
              "    [theme=dark] .colab-df-convert:hover {\n",
              "      background-color: #434B5C;\n",
              "      box-shadow: 0px 1px 3px 1px rgba(0, 0, 0, 0.15);\n",
              "      filter: drop-shadow(0px 1px 2px rgba(0, 0, 0, 0.3));\n",
              "      fill: #FFFFFF;\n",
              "    }\n",
              "  </style>\n",
              "\n",
              "    <script>\n",
              "      const buttonEl =\n",
              "        document.querySelector('#df-81c32dad-5031-4378-90d5-c37db2e78926 button.colab-df-convert');\n",
              "      buttonEl.style.display =\n",
              "        google.colab.kernel.accessAllowed ? 'block' : 'none';\n",
              "\n",
              "      async function convertToInteractive(key) {\n",
              "        const element = document.querySelector('#df-81c32dad-5031-4378-90d5-c37db2e78926');\n",
              "        const dataTable =\n",
              "          await google.colab.kernel.invokeFunction('convertToInteractive',\n",
              "                                                    [key], {});\n",
              "        if (!dataTable) return;\n",
              "\n",
              "        const docLinkHtml = 'Like what you see? Visit the ' +\n",
              "          '<a target=\"_blank\" href=https://colab.research.google.com/notebooks/data_table.ipynb>data table notebook</a>'\n",
              "          + ' to learn more about interactive tables.';\n",
              "        element.innerHTML = '';\n",
              "        dataTable['output_type'] = 'display_data';\n",
              "        await google.colab.output.renderOutput(dataTable, element);\n",
              "        const docLink = document.createElement('div');\n",
              "        docLink.innerHTML = docLinkHtml;\n",
              "        element.appendChild(docLink);\n",
              "      }\n",
              "    </script>\n",
              "  </div>\n",
              "\n",
              "\n",
              "    <div id=\"df-cac4a3b2-cc0e-4fda-95bb-03db516a911c\">\n",
              "      <button class=\"colab-df-quickchart\" onclick=\"quickchart('df-cac4a3b2-cc0e-4fda-95bb-03db516a911c')\"\n",
              "                title=\"Suggest charts\"\n",
              "                style=\"display:none;\">\n",
              "\n",
              "<svg xmlns=\"http://www.w3.org/2000/svg\" height=\"24px\"viewBox=\"0 0 24 24\"\n",
              "     width=\"24px\">\n",
              "    <g>\n",
              "        <path d=\"M19 3H5c-1.1 0-2 .9-2 2v14c0 1.1.9 2 2 2h14c1.1 0 2-.9 2-2V5c0-1.1-.9-2-2-2zM9 17H7v-7h2v7zm4 0h-2V7h2v10zm4 0h-2v-4h2v4z\"/>\n",
              "    </g>\n",
              "</svg>\n",
              "      </button>\n",
              "\n",
              "<style>\n",
              "  .colab-df-quickchart {\n",
              "      --bg-color: #E8F0FE;\n",
              "      --fill-color: #1967D2;\n",
              "      --hover-bg-color: #E2EBFA;\n",
              "      --hover-fill-color: #174EA6;\n",
              "      --disabled-fill-color: #AAA;\n",
              "      --disabled-bg-color: #DDD;\n",
              "  }\n",
              "\n",
              "  [theme=dark] .colab-df-quickchart {\n",
              "      --bg-color: #3B4455;\n",
              "      --fill-color: #D2E3FC;\n",
              "      --hover-bg-color: #434B5C;\n",
              "      --hover-fill-color: #FFFFFF;\n",
              "      --disabled-bg-color: #3B4455;\n",
              "      --disabled-fill-color: #666;\n",
              "  }\n",
              "\n",
              "  .colab-df-quickchart {\n",
              "    background-color: var(--bg-color);\n",
              "    border: none;\n",
              "    border-radius: 50%;\n",
              "    cursor: pointer;\n",
              "    display: none;\n",
              "    fill: var(--fill-color);\n",
              "    height: 32px;\n",
              "    padding: 0;\n",
              "    width: 32px;\n",
              "  }\n",
              "\n",
              "  .colab-df-quickchart:hover {\n",
              "    background-color: var(--hover-bg-color);\n",
              "    box-shadow: 0 1px 2px rgba(60, 64, 67, 0.3), 0 1px 3px 1px rgba(60, 64, 67, 0.15);\n",
              "    fill: var(--button-hover-fill-color);\n",
              "  }\n",
              "\n",
              "  .colab-df-quickchart-complete:disabled,\n",
              "  .colab-df-quickchart-complete:disabled:hover {\n",
              "    background-color: var(--disabled-bg-color);\n",
              "    fill: var(--disabled-fill-color);\n",
              "    box-shadow: none;\n",
              "  }\n",
              "\n",
              "  .colab-df-spinner {\n",
              "    border: 2px solid var(--fill-color);\n",
              "    border-color: transparent;\n",
              "    border-bottom-color: var(--fill-color);\n",
              "    animation:\n",
              "      spin 1s steps(1) infinite;\n",
              "  }\n",
              "\n",
              "  @keyframes spin {\n",
              "    0% {\n",
              "      border-color: transparent;\n",
              "      border-bottom-color: var(--fill-color);\n",
              "      border-left-color: var(--fill-color);\n",
              "    }\n",
              "    20% {\n",
              "      border-color: transparent;\n",
              "      border-left-color: var(--fill-color);\n",
              "      border-top-color: var(--fill-color);\n",
              "    }\n",
              "    30% {\n",
              "      border-color: transparent;\n",
              "      border-left-color: var(--fill-color);\n",
              "      border-top-color: var(--fill-color);\n",
              "      border-right-color: var(--fill-color);\n",
              "    }\n",
              "    40% {\n",
              "      border-color: transparent;\n",
              "      border-right-color: var(--fill-color);\n",
              "      border-top-color: var(--fill-color);\n",
              "    }\n",
              "    60% {\n",
              "      border-color: transparent;\n",
              "      border-right-color: var(--fill-color);\n",
              "    }\n",
              "    80% {\n",
              "      border-color: transparent;\n",
              "      border-right-color: var(--fill-color);\n",
              "      border-bottom-color: var(--fill-color);\n",
              "    }\n",
              "    90% {\n",
              "      border-color: transparent;\n",
              "      border-bottom-color: var(--fill-color);\n",
              "    }\n",
              "  }\n",
              "</style>\n",
              "\n",
              "      <script>\n",
              "        async function quickchart(key) {\n",
              "          const quickchartButtonEl =\n",
              "            document.querySelector('#' + key + ' button');\n",
              "          quickchartButtonEl.disabled = true;  // To prevent multiple clicks.\n",
              "          quickchartButtonEl.classList.add('colab-df-spinner');\n",
              "          try {\n",
              "            const charts = await google.colab.kernel.invokeFunction(\n",
              "                'suggestCharts', [key], {});\n",
              "          } catch (error) {\n",
              "            console.error('Error during call to suggestCharts:', error);\n",
              "          }\n",
              "          quickchartButtonEl.classList.remove('colab-df-spinner');\n",
              "          quickchartButtonEl.classList.add('colab-df-quickchart-complete');\n",
              "        }\n",
              "        (() => {\n",
              "          let quickchartButtonEl =\n",
              "            document.querySelector('#df-cac4a3b2-cc0e-4fda-95bb-03db516a911c button');\n",
              "          quickchartButtonEl.style.display =\n",
              "            google.colab.kernel.accessAllowed ? 'block' : 'none';\n",
              "        })();\n",
              "      </script>\n",
              "    </div>\n",
              "\n",
              "    </div>\n",
              "  </div>\n"
            ],
            "application/vnd.google.colaboratory.intrinsic+json": {
              "type": "dataframe",
              "variable_name": "interactions",
              "summary": "{\n  \"name\": \"interactions\",\n  \"rows\": 87047,\n  \"fields\": [\n    {\n      \"column\": \"user_id\",\n      \"properties\": {\n        \"dtype\": \"number\",\n        \"std\": 2266,\n        \"min\": 0,\n        \"max\": 7837,\n        \"num_unique_values\": 7838,\n        \"samples\": [\n          2226,\n          2177,\n          4236\n        ],\n        \"semantic_type\": \"\",\n        \"description\": \"\"\n      }\n    },\n    {\n      \"column\": \"book_id\",\n      \"properties\": {\n        \"dtype\": \"number\",\n        \"std\": 4441,\n        \"min\": 0,\n        \"max\": 15290,\n        \"num_unique_values\": 15109,\n        \"samples\": [\n          12344,\n          4093,\n          2388\n        ],\n        \"semantic_type\": \"\",\n        \"description\": \"\"\n      }\n    },\n    {\n      \"column\": \"timestamp\",\n      \"properties\": {\n        \"dtype\": \"number\",\n        \"std\": 14198285.151551325,\n        \"min\": 1672663643.0,\n        \"max\": 1728925054.0,\n        \"num_unique_values\": 86768,\n        \"samples\": [\n          1699375376.0,\n          1718029733.0,\n          1711876194.0\n        ],\n        \"semantic_type\": \"\",\n        \"description\": \"\"\n      }\n    },\n    {\n      \"column\": \"pct_rank\",\n      \"properties\": {\n        \"dtype\": \"number\",\n        \"std\": 0.29010488163455683,\n        \"min\": 0.0025974025974025974,\n        \"max\": 1.0,\n        \"num_unique_values\": 6116,\n        \"samples\": [\n          0.05042016806722689,\n          0.8811188811188811,\n          0.794392523364486\n        ],\n        \"semantic_type\": \"\",\n        \"description\": \"\"\n      }\n    }\n  ]\n}"
            }
          },
          "metadata": {},
          "execution_count": 11
        }
      ],
      "source": [
        "interactions[\"pct_rank\"] = interactions.groupby(\"user_id\")[\"timestamp\"].rank(pct=True, method='dense')\n",
        "interactions.reset_index(inplace=True, drop=True)\n",
        "interactions.head(10)"
      ]
    },
    {
      "cell_type": "markdown",
      "metadata": {
        "id": "8JaLSrKya5P6"
      },
      "source": [
        "Now all remains to do is to pick the first 80% of the interactions of each user in the training set and the rest in the test set. We can do so using the `pct_rank` column."
      ]
    },
    {
      "cell_type": "code",
      "execution_count": 12,
      "metadata": {
        "id": "keedrU6da4Kd"
      },
      "outputs": [],
      "source": [
        "train_data = interactions[interactions[\"pct_rank\"] < 0.8]\n",
        "test_data = interactions[interactions[\"pct_rank\"] >= 0.8]"
      ]
    },
    {
      "cell_type": "code",
      "execution_count": 13,
      "metadata": {
        "colab": {
          "base_uri": "https://localhost:8080/"
        },
        "id": "P68b_ijzCeJb",
        "outputId": "ff407ca9-7454-4997-b859-9fca9d4ef3c2"
      },
      "outputs": [
        {
          "output_type": "stream",
          "name": "stdout",
          "text": [
            "Training set size: 65419\n",
            "Testing set size: 21628\n"
          ]
        }
      ],
      "source": [
        "print(\"Training set size:\", train_data.shape[0])\n",
        "print(\"Testing set size:\", test_data.shape[0])"
      ]
    },
    {
      "cell_type": "markdown",
      "metadata": {
        "id": "0qX6z1MoCeJb"
      },
      "source": [
        "## Task 2: Creating User-Item Matrices for Implicit Feedback\n"
      ]
    },
    {
      "cell_type": "code",
      "execution_count": 14,
      "metadata": {
        "colab": {
          "base_uri": "https://localhost:8080/"
        },
        "id": "Nv7ZMDzNCeJc",
        "outputId": "06a9be4b-540a-4760-8f55-5cc9800f3c26"
      },
      "outputs": [
        {
          "output_type": "stream",
          "name": "stdout",
          "text": [
            "number of users = 7838 | number of movies = 15291\n"
          ]
        }
      ],
      "source": [
        "print('number of users =', n_users, '| number of movies =', n_items)"
      ]
    },
    {
      "cell_type": "markdown",
      "metadata": {
        "id": "G4WD0VpYCeJc"
      },
      "source": [
        "#### Step 1: Define the Function to Create the Data Matrix\n",
        "\n",
        "Next, we’ll define a function that creates the user-item data matrix. Each matrix cell will contain a 1 if there was an interaction and a 0 otherwise.\n"
      ]
    },
    {
      "cell_type": "code",
      "execution_count": 15,
      "metadata": {
        "id": "3hk-nUZgCeJc"
      },
      "outputs": [],
      "source": [
        "import numpy as np\n",
        "\n",
        "# Define a function to create the data matrix\n",
        "def create_data_matrix(data, n_users, n_items):\n",
        "    \"\"\"\n",
        "    This function returns a numpy matrix with shape (n_users, n_items).\n",
        "    Each entry is a binary value indicating positive interaction.\n",
        "    \"\"\"\n",
        "    data_matrix = np.zeros((n_users, n_items))\n",
        "    data_matrix[data[\"user_id\"].values, data[\"book_id\"].values] = 1\n",
        "    return data_matrix"
      ]
    },
    {
      "cell_type": "markdown",
      "metadata": {
        "id": "EnvgOARgCeJc"
      },
      "source": [
        "#### Step 2: Create the Training and Testing Matrices\n",
        "\n",
        "Now we can use the function to create matrices for both the training and testing data. Each cell in the matrix will show a 1 if there was a positive interaction in the training or testing data, and a 0 otherwise."
      ]
    },
    {
      "cell_type": "code",
      "execution_count": 16,
      "metadata": {
        "colab": {
          "base_uri": "https://localhost:8080/"
        },
        "id": "hFQ62rQWCeJc",
        "outputId": "a7eacb96-5ad4-459a-de6e-c986e4632ec9"
      },
      "outputs": [
        {
          "output_type": "stream",
          "name": "stdout",
          "text": [
            "train_data_matrix\n",
            "[[1. 1. 1. ... 0. 0. 0.]\n",
            " [0. 0. 0. ... 0. 0. 0.]\n",
            " [0. 0. 0. ... 0. 0. 0.]\n",
            " ...\n",
            " [0. 0. 0. ... 0. 0. 0.]\n",
            " [0. 0. 0. ... 0. 0. 0.]\n",
            " [0. 0. 0. ... 0. 0. 0.]]\n",
            "number of non-zero values:  49689.0\n",
            "test_data_matrix\n",
            "[[0. 0. 0. ... 0. 0. 0.]\n",
            " [0. 0. 0. ... 0. 0. 0.]\n",
            " [0. 0. 0. ... 0. 0. 0.]\n",
            " ...\n",
            " [0. 0. 0. ... 0. 0. 0.]\n",
            " [0. 0. 0. ... 0. 0. 0.]\n",
            " [0. 0. 0. ... 0. 0. 0.]]\n",
            "number of non-zero values:  19409.0\n"
          ]
        }
      ],
      "source": [
        "# Create the training and testing matrices\n",
        "train_data_matrix = create_data_matrix(train_data, n_users, n_items)\n",
        "test_data_matrix = create_data_matrix(test_data, n_users, n_items)\n",
        "\n",
        "# Display the matrices to understand their structure\n",
        "print('train_data_matrix')\n",
        "print(train_data_matrix)\n",
        "print(\"number of non-zero values: \", np.sum(train_data_matrix))\n",
        "print('test_data_matrix')\n",
        "print(test_data_matrix)\n",
        "print(\"number of non-zero values: \", np.sum(test_data_matrix))\n"
      ]
    },
    {
      "cell_type": "code",
      "source": [
        "#give the dimensions of matrices\n",
        "\n",
        "print(\"Train data matrix dimensions:\", train_data_matrix.shape)\n",
        "print(\"Test data matrix dimensions:\", test_data_matrix.shape)"
      ],
      "metadata": {
        "colab": {
          "base_uri": "https://localhost:8080/"
        },
        "id": "9x2mjoA_tFG4",
        "outputId": "e2525ba8-ccaa-4d84-848b-cf57912aa887"
      },
      "execution_count": 17,
      "outputs": [
        {
          "output_type": "stream",
          "name": "stdout",
          "text": [
            "Train data matrix dimensions: (7838, 15291)\n",
            "Test data matrix dimensions: (7838, 15291)\n"
          ]
        }
      ]
    },
    {
      "cell_type": "markdown",
      "metadata": {
        "id": "UCt8PmpXCeJd"
      },
      "source": [
        "#### Step 3: Visualize the User-Item Interaction Matrices\n",
        "\n",
        "To better understand the distribution of  interactions, we’ll use a **heatmap** to visualize a subset of each user-item matrix. In the heatmap:\n",
        "- Rows represent users, and columns represent items.\n",
        "- Each cell shows whether there’s a positive interaction (`1`) or no interaction (`0`).\n",
        "- A color gradient makes it easy to spot clusters of interactions.\n",
        "\n",
        "We’ll visualize only a small portion of the interaction matrices (e.g., 50x50) to keep the display manageable."
      ]
    },
    {
      "cell_type": "code",
      "execution_count": 18,
      "metadata": {
        "colab": {
          "base_uri": "https://localhost:8080/",
          "height": 636
        },
        "id": "Q1L9p0NcCeJd",
        "outputId": "e1d9d4a1-93d2-482e-cb6f-a776b62dd35a"
      },
      "outputs": [
        {
          "output_type": "display_data",
          "data": {
            "text/plain": [
              "<Figure size 1000x800 with 2 Axes>"
            ],
            "image/png": "[encoded data removed]"
          },
          "metadata": {}
        }
      ],
      "source": [
        "# Function to plot a heatmap for a subset of the user-item matrix\n",
        "def plot_interaction_heatmap(data_matrix, title, num_users=50, num_items=50):\n",
        "    \"\"\"\n",
        "    Plots a heatmap of a subset of the user-item interaction matrix.\n",
        "    Parameters:\n",
        "        data_matrix: The matrix to visualize.\n",
        "        title: The title of the plot.\n",
        "        num_users: The number of users to display (rows).\n",
        "        num_items: The number of items to display (columns).\n",
        "    \"\"\"\n",
        "    # Extract a subset of the matrix for visualization purposes\n",
        "    matrix_subset = data_matrix[:num_users, :num_items]\n",
        "\n",
        "    plt.figure(figsize=(10, 8))\n",
        "    sns.heatmap(matrix_subset, cmap=\"YlGnBu\", cbar=True, cbar_kws={'label': 'Interaction (1 = Positive, 0 = None)'})\n",
        "    plt.xlabel('Item ID')\n",
        "    plt.ylabel('User ID')\n",
        "    plt.title(title)\n",
        "    plt.show()\n",
        "\n",
        "# Visualize a subset of the training and testing matrices\n",
        "plot_interaction_heatmap(train_data_matrix, 'User-Item Interaction Matrix (Train Data)')\n",
        "\n"
      ]
    },
    {
      "cell_type": "code",
      "source": [
        "# Fit the KNN model\n",
        "knn = NearestNeighbors(metric='cosine', algorithm='brute')\n",
        "knn.fit(train_data_matrix)"
      ],
      "metadata": {
        "colab": {
          "base_uri": "https://localhost:8080/",
          "height": 79
        },
        "id": "NnbYUqAqhvn-",
        "outputId": "e8bb6f77-6220-434d-e126-43a08af40da2"
      },
      "execution_count": 19,
      "outputs": [
        {
          "output_type": "execute_result",
          "data": {
            "text/plain": [
              "NearestNeighbors(algorithm='brute', metric='cosine')"
            ],
            "text/html": [
              "<style>#sk-container-id-1 {\n",
              "  /* Definition of color scheme common for light and dark mode */\n",
              "  --sklearn-color-text: #000;\n",
              "  --sklearn-color-text-muted: #666;\n",
              "  --sklearn-color-line: gray;\n",
              "  /* Definition of color scheme for unfitted estimators */\n",
              "  --sklearn-color-unfitted-level-0: #fff5e6;\n",
              "  --sklearn-color-unfitted-level-1: #f6e4d2;\n",
              "  --sklearn-color-unfitted-level-2: #ffe0b3;\n",
              "  --sklearn-color-unfitted-level-3: chocolate;\n",
              "  /* Definition of color scheme for fitted estimators */\n",
              "  --sklearn-color-fitted-level-0: #f0f8ff;\n",
              "  --sklearn-color-fitted-level-1: #d4ebff;\n",
              "  --sklearn-color-fitted-level-2: #b3dbfd;\n",
              "  --sklearn-color-fitted-level-3: cornflowerblue;\n",
              "\n",
              "  /* Specific color for light theme */\n",
              "  --sklearn-color-text-on-default-background: var(--sg-text-color, var(--theme-code-foreground, var(--jp-content-font-color1, black)));\n",
              "  --sklearn-color-background: var(--sg-background-color, var(--theme-background, var(--jp-layout-color0, white)));\n",
              "  --sklearn-color-border-box: var(--sg-text-color, var(--theme-code-foreground, var(--jp-content-font-color1, black)));\n",
              "  --sklearn-color-icon: #696969;\n",
              "\n",
              "  @media (prefers-color-scheme: dark) {\n",
              "    /* Redefinition of color scheme for dark theme */\n",
              "    --sklearn-color-text-on-default-background: var(--sg-text-color, var(--theme-code-foreground, var(--jp-content-font-color1, white)));\n",
              "    --sklearn-color-background: var(--sg-background-color, var(--theme-background, var(--jp-layout-color0, #111)));\n",
              "    --sklearn-color-border-box: var(--sg-text-color, var(--theme-code-foreground, var(--jp-content-font-color1, white)));\n",
              "    --sklearn-color-icon: #878787;\n",
              "  }\n",
              "}\n",
              "\n",
              "#sk-container-id-1 {\n",
              "  color: var(--sklearn-color-text);\n",
              "}\n",
              "\n",
              "#sk-container-id-1 pre {\n",
              "  padding: 0;\n",
              "}\n",
              "\n",
              "#sk-container-id-1 input.sk-hidden--visually {\n",
              "  border: 0;\n",
              "  clip: rect(1px 1px 1px 1px);\n",
              "  clip: rect(1px, 1px, 1px, 1px);\n",
              "  height: 1px;\n",
              "  margin: -1px;\n",
              "  overflow: hidden;\n",
              "  padding: 0;\n",
              "  position: absolute;\n",
              "  width: 1px;\n",
              "}\n",
              "\n",
              "#sk-container-id-1 div.sk-dashed-wrapped {\n",
              "  border: 1px dashed var(--sklearn-color-line);\n",
              "  margin: 0 0.4em 0.5em 0.4em;\n",
              "  box-sizing: border-box;\n",
              "  padding-bottom: 0.4em;\n",
              "  background-color: var(--sklearn-color-background);\n",
              "}\n",
              "\n",
              "#sk-container-id-1 div.sk-container {\n",
              "  /* jupyter's `normalize.less` sets `[hidden] { display: none; }`\n",
              "     but bootstrap.min.css set `[hidden] { display: none !important; }`\n",
              "     so we also need the `!important` here to be able to override the\n",
              "     default hidden behavior on the sphinx rendered scikit-learn.org.\n",
              "     See: https://github.com/scikit-learn/scikit-learn/issues/21755 */\n",
              "  display: inline-block !important;\n",
              "  position: relative;\n",
              "}\n",
              "\n",
              "#sk-container-id-1 div.sk-text-repr-fallback {\n",
              "  display: none;\n",
              "}\n",
              "\n",
              "div.sk-parallel-item,\n",
              "div.sk-serial,\n",
              "div.sk-item {\n",
              "  /* draw centered vertical line to link estimators */\n",
              "  background-image: linear-gradient(var(--sklearn-color-text-on-default-background), var(--sklearn-color-text-on-default-background));\n",
              "  background-size: 2px 100%;\n",
              "  background-repeat: no-repeat;\n",
              "  background-position: center center;\n",
              "}\n",
              "\n",
              "/* Parallel-specific style estimator block */\n",
              "\n",
              "#sk-container-id-1 div.sk-parallel-item::after {\n",
              "  content: \"\";\n",
              "  width: 100%;\n",
              "  border-bottom: 2px solid var(--sklearn-color-text-on-default-background);\n",
              "  flex-grow: 1;\n",
              "}\n",
              "\n",
              "#sk-container-id-1 div.sk-parallel {\n",
              "  display: flex;\n",
              "  align-items: stretch;\n",
              "  justify-content: center;\n",
              "  background-color: var(--sklearn-color-background);\n",
              "  position: relative;\n",
              "}\n",
              "\n",
              "#sk-container-id-1 div.sk-parallel-item {\n",
              "  display: flex;\n",
              "  flex-direction: column;\n",
              "}\n",
              "\n",
              "#sk-container-id-1 div.sk-parallel-item:first-child::after {\n",
              "  align-self: flex-end;\n",
              "  width: 50%;\n",
              "}\n",
              "\n",
              "#sk-container-id-1 div.sk-parallel-item:last-child::after {\n",
              "  align-self: flex-start;\n",
              "  width: 50%;\n",
              "}\n",
              "\n",
              "#sk-container-id-1 div.sk-parallel-item:only-child::after {\n",
              "  width: 0;\n",
              "}\n",
              "\n",
              "/* Serial-specific style estimator block */\n",
              "\n",
              "#sk-container-id-1 div.sk-serial {\n",
              "  display: flex;\n",
              "  flex-direction: column;\n",
              "  align-items: center;\n",
              "  background-color: var(--sklearn-color-background);\n",
              "  padding-right: 1em;\n",
              "  padding-left: 1em;\n",
              "}\n",
              "\n",
              "\n",
              "/* Toggleable style: style used for estimator/Pipeline/ColumnTransformer box that is\n",
              "clickable and can be expanded/collapsed.\n",
              "- Pipeline and ColumnTransformer use this feature and define the default style\n",
              "- Estimators will overwrite some part of the style using the `sk-estimator` class\n",
              "*/\n",
              "\n",
              "/* Pipeline and ColumnTransformer style (default) */\n",
              "\n",
              "#sk-container-id-1 div.sk-toggleable {\n",
              "  /* Default theme specific background. It is overwritten whether we have a\n",
              "  specific estimator or a Pipeline/ColumnTransformer */\n",
              "  background-color: var(--sklearn-color-background);\n",
              "}\n",
              "\n",
              "/* Toggleable label */\n",
              "#sk-container-id-1 label.sk-toggleable__label {\n",
              "  cursor: pointer;\n",
              "  display: flex;\n",
              "  width: 100%;\n",
              "  margin-bottom: 0;\n",
              "  padding: 0.5em;\n",
              "  box-sizing: border-box;\n",
              "  text-align: center;\n",
              "  align-items: start;\n",
              "  justify-content: space-between;\n",
              "  gap: 0.5em;\n",
              "}\n",
              "\n",
              "#sk-container-id-1 label.sk-toggleable__label .caption {\n",
              "  font-size: 0.6rem;\n",
              "  font-weight: lighter;\n",
              "  color: var(--sklearn-color-text-muted);\n",
              "}\n",
              "\n",
              "#sk-container-id-1 label.sk-toggleable__label-arrow:before {\n",
              "  /* Arrow on the left of the label */\n",
              "  content: \"▸\";\n",
              "  float: left;\n",
              "  margin-right: 0.25em;\n",
              "  color: var(--sklearn-color-icon);\n",
              "}\n",
              "\n",
              "#sk-container-id-1 label.sk-toggleable__label-arrow:hover:before {\n",
              "  color: var(--sklearn-color-text);\n",
              "}\n",
              "\n",
              "/* Toggleable content - dropdown */\n",
              "\n",
              "#sk-container-id-1 div.sk-toggleable__content {\n",
              "  max-height: 0;\n",
              "  max-width: 0;\n",
              "  overflow: hidden;\n",
              "  text-align: left;\n",
              "  /* unfitted */\n",
              "  background-color: var(--sklearn-color-unfitted-level-0);\n",
              "}\n",
              "\n",
              "#sk-container-id-1 div.sk-toggleable__content.fitted {\n",
              "  /* fitted */\n",
              "  background-color: var(--sklearn-color-fitted-level-0);\n",
              "}\n",
              "\n",
              "#sk-container-id-1 div.sk-toggleable__content pre {\n",
              "  margin: 0.2em;\n",
              "  border-radius: 0.25em;\n",
              "  color: var(--sklearn-color-text);\n",
              "  /* unfitted */\n",
              "  background-color: var(--sklearn-color-unfitted-level-0);\n",
              "}\n",
              "\n",
              "#sk-container-id-1 div.sk-toggleable__content.fitted pre {\n",
              "  /* unfitted */\n",
              "  background-color: var(--sklearn-color-fitted-level-0);\n",
              "}\n",
              "\n",
              "#sk-container-id-1 input.sk-toggleable__control:checked~div.sk-toggleable__content {\n",
              "  /* Expand drop-down */\n",
              "  max-height: 200px;\n",
              "  max-width: 100%;\n",
              "  overflow: auto;\n",
              "}\n",
              "\n",
              "#sk-container-id-1 input.sk-toggleable__control:checked~label.sk-toggleable__label-arrow:before {\n",
              "  content: \"▾\";\n",
              "}\n",
              "\n",
              "/* Pipeline/ColumnTransformer-specific style */\n",
              "\n",
              "#sk-container-id-1 div.sk-label input.sk-toggleable__control:checked~label.sk-toggleable__label {\n",
              "  color: var(--sklearn-color-text);\n",
              "  background-color: var(--sklearn-color-unfitted-level-2);\n",
              "}\n",
              "\n",
              "#sk-container-id-1 div.sk-label.fitted input.sk-toggleable__control:checked~label.sk-toggleable__label {\n",
              "  background-color: var(--sklearn-color-fitted-level-2);\n",
              "}\n",
              "\n",
              "/* Estimator-specific style */\n",
              "\n",
              "/* Colorize estimator box */\n",
              "#sk-container-id-1 div.sk-estimator input.sk-toggleable__control:checked~label.sk-toggleable__label {\n",
              "  /* unfitted */\n",
              "  background-color: var(--sklearn-color-unfitted-level-2);\n",
              "}\n",
              "\n",
              "#sk-container-id-1 div.sk-estimator.fitted input.sk-toggleable__control:checked~label.sk-toggleable__label {\n",
              "  /* fitted */\n",
              "  background-color: var(--sklearn-color-fitted-level-2);\n",
              "}\n",
              "\n",
              "#sk-container-id-1 div.sk-label label.sk-toggleable__label,\n",
              "#sk-container-id-1 div.sk-label label {\n",
              "  /* The background is the default theme color */\n",
              "  color: var(--sklearn-color-text-on-default-background);\n",
              "}\n",
              "\n",
              "/* On hover, darken the color of the background */\n",
              "#sk-container-id-1 div.sk-label:hover label.sk-toggleable__label {\n",
              "  color: var(--sklearn-color-text);\n",
              "  background-color: var(--sklearn-color-unfitted-level-2);\n",
              "}\n",
              "\n",
              "/* Label box, darken color on hover, fitted */\n",
              "#sk-container-id-1 div.sk-label.fitted:hover label.sk-toggleable__label.fitted {\n",
              "  color: var(--sklearn-color-text);\n",
              "  background-color: var(--sklearn-color-fitted-level-2);\n",
              "}\n",
              "\n",
              "/* Estimator label */\n",
              "\n",
              "#sk-container-id-1 div.sk-label label {\n",
              "  font-family: monospace;\n",
              "  font-weight: bold;\n",
              "  display: inline-block;\n",
              "  line-height: 1.2em;\n",
              "}\n",
              "\n",
              "#sk-container-id-1 div.sk-label-container {\n",
              "  text-align: center;\n",
              "}\n",
              "\n",
              "/* Estimator-specific */\n",
              "#sk-container-id-1 div.sk-estimator {\n",
              "  font-family: monospace;\n",
              "  border: 1px dotted var(--sklearn-color-border-box);\n",
              "  border-radius: 0.25em;\n",
              "  box-sizing: border-box;\n",
              "  margin-bottom: 0.5em;\n",
              "  /* unfitted */\n",
              "  background-color: var(--sklearn-color-unfitted-level-0);\n",
              "}\n",
              "\n",
              "#sk-container-id-1 div.sk-estimator.fitted {\n",
              "  /* fitted */\n",
              "  background-color: var(--sklearn-color-fitted-level-0);\n",
              "}\n",
              "\n",
              "/* on hover */\n",
              "#sk-container-id-1 div.sk-estimator:hover {\n",
              "  /* unfitted */\n",
              "  background-color: var(--sklearn-color-unfitted-level-2);\n",
              "}\n",
              "\n",
              "#sk-container-id-1 div.sk-estimator.fitted:hover {\n",
              "  /* fitted */\n",
              "  background-color: var(--sklearn-color-fitted-level-2);\n",
              "}\n",
              "\n",
              "/* Specification for estimator info (e.g. \"i\" and \"?\") */\n",
              "\n",
              "/* Common style for \"i\" and \"?\" */\n",
              "\n",
              ".sk-estimator-doc-link,\n",
              "a:link.sk-estimator-doc-link,\n",
              "a:visited.sk-estimator-doc-link {\n",
              "  float: right;\n",
              "  font-size: smaller;\n",
              "  line-height: 1em;\n",
              "  font-family: monospace;\n",
              "  background-color: var(--sklearn-color-background);\n",
              "  border-radius: 1em;\n",
              "  height: 1em;\n",
              "  width: 1em;\n",
              "  text-decoration: none !important;\n",
              "  margin-left: 0.5em;\n",
              "  text-align: center;\n",
              "  /* unfitted */\n",
              "  border: var(--sklearn-color-unfitted-level-1) 1pt solid;\n",
              "  color: var(--sklearn-color-unfitted-level-1);\n",
              "}\n",
              "\n",
              ".sk-estimator-doc-link.fitted,\n",
              "a:link.sk-estimator-doc-link.fitted,\n",
              "a:visited.sk-estimator-doc-link.fitted {\n",
              "  /* fitted */\n",
              "  border: var(--sklearn-color-fitted-level-1) 1pt solid;\n",
              "  color: var(--sklearn-color-fitted-level-1);\n",
              "}\n",
              "\n",
              "/* On hover */\n",
              "div.sk-estimator:hover .sk-estimator-doc-link:hover,\n",
              ".sk-estimator-doc-link:hover,\n",
              "div.sk-label-container:hover .sk-estimator-doc-link:hover,\n",
              ".sk-estimator-doc-link:hover {\n",
              "  /* unfitted */\n",
              "  background-color: var(--sklearn-color-unfitted-level-3);\n",
              "  color: var(--sklearn-color-background);\n",
              "  text-decoration: none;\n",
              "}\n",
              "\n",
              "div.sk-estimator.fitted:hover .sk-estimator-doc-link.fitted:hover,\n",
              ".sk-estimator-doc-link.fitted:hover,\n",
              "div.sk-label-container:hover .sk-estimator-doc-link.fitted:hover,\n",
              ".sk-estimator-doc-link.fitted:hover {\n",
              "  /* fitted */\n",
              "  background-color: var(--sklearn-color-fitted-level-3);\n",
              "  color: var(--sklearn-color-background);\n",
              "  text-decoration: none;\n",
              "}\n",
              "\n",
              "/* Span, style for the box shown on hovering the info icon */\n",
              ".sk-estimator-doc-link span {\n",
              "  display: none;\n",
              "  z-index: 9999;\n",
              "  position: relative;\n",
              "  font-weight: normal;\n",
              "  right: .2ex;\n",
              "  padding: .5ex;\n",
              "  margin: .5ex;\n",
              "  width: min-content;\n",
              "  min-width: 20ex;\n",
              "  max-width: 50ex;\n",
              "  color: var(--sklearn-color-text);\n",
              "  box-shadow: 2pt 2pt 4pt #999;\n",
              "  /* unfitted */\n",
              "  background: var(--sklearn-color-unfitted-level-0);\n",
              "  border: .5pt solid var(--sklearn-color-unfitted-level-3);\n",
              "}\n",
              "\n",
              ".sk-estimator-doc-link.fitted span {\n",
              "  /* fitted */\n",
              "  background: var(--sklearn-color-fitted-level-0);\n",
              "  border: var(--sklearn-color-fitted-level-3);\n",
              "}\n",
              "\n",
              ".sk-estimator-doc-link:hover span {\n",
              "  display: block;\n",
              "}\n",
              "\n",
              "/* \"?\"-specific style due to the `<a>` HTML tag */\n",
              "\n",
              "#sk-container-id-1 a.estimator_doc_link {\n",
              "  float: right;\n",
              "  font-size: 1rem;\n",
              "  line-height: 1em;\n",
              "  font-family: monospace;\n",
              "  background-color: var(--sklearn-color-background);\n",
              "  border-radius: 1rem;\n",
              "  height: 1rem;\n",
              "  width: 1rem;\n",
              "  text-decoration: none;\n",
              "  /* unfitted */\n",
              "  color: var(--sklearn-color-unfitted-level-1);\n",
              "  border: var(--sklearn-color-unfitted-level-1) 1pt solid;\n",
              "}\n",
              "\n",
              "#sk-container-id-1 a.estimator_doc_link.fitted {\n",
              "  /* fitted */\n",
              "  border: var(--sklearn-color-fitted-level-1) 1pt solid;\n",
              "  color: var(--sklearn-color-fitted-level-1);\n",
              "}\n",
              "\n",
              "/* On hover */\n",
              "#sk-container-id-1 a.estimator_doc_link:hover {\n",
              "  /* unfitted */\n",
              "  background-color: var(--sklearn-color-unfitted-level-3);\n",
              "  color: var(--sklearn-color-background);\n",
              "  text-decoration: none;\n",
              "}\n",
              "\n",
              "#sk-container-id-1 a.estimator_doc_link.fitted:hover {\n",
              "  /* fitted */\n",
              "  background-color: var(--sklearn-color-fitted-level-3);\n",
              "}\n",
              "</style><div id=\"sk-container-id-1\" class=\"sk-top-container\"><div class=\"sk-text-repr-fallback\"><pre>NearestNeighbors(algorithm=&#x27;brute&#x27;, metric=&#x27;cosine&#x27;)</pre><b>In a Jupyter environment, please rerun this cell to show the HTML representation or trust the notebook. <br />On GitHub, the HTML representation is unable to render, please try loading this page with nbviewer.org.</b></div><div class=\"sk-container\" hidden><div class=\"sk-item\"><div class=\"sk-estimator fitted sk-toggleable\"><input class=\"sk-toggleable__control sk-hidden--visually\" id=\"sk-estimator-id-1\" type=\"checkbox\" checked><label for=\"sk-estimator-id-1\" class=\"sk-toggleable__label fitted sk-toggleable__label-arrow\"><div><div>NearestNeighbors</div></div><div><a class=\"sk-estimator-doc-link fitted\" rel=\"noreferrer\" target=\"_blank\" href=\"https://scikit-learn.org/1.6/modules/generated/sklearn.neighbors.NearestNeighbors.html\">?<span>Documentation for NearestNeighbors</span></a><span class=\"sk-estimator-doc-link fitted\">i<span>Fitted</span></span></div></label><div class=\"sk-toggleable__content fitted\"><pre>NearestNeighbors(algorithm=&#x27;brute&#x27;, metric=&#x27;cosine&#x27;)</pre></div> </div></div></div></div>"
            ]
          },
          "metadata": {},
          "execution_count": 19
        }
      ]
    },
    {
      "cell_type": "code",
      "source": [
        "# Find the k nearest neighbors for a target user (e.g., user index 0)\n",
        "target_user_index = 0\n",
        "distances, indices = knn.kneighbors(train_data_matrix[target_user_index].reshape(1, -1), n_neighbors=3)"
      ],
      "metadata": {
        "id": "wFWkdIceiBgn"
      },
      "execution_count": 20,
      "outputs": []
    },
    {
      "cell_type": "code",
      "source": [
        "# Aggregate ratings from the nearest neighbors\n",
        "neighbors_ratings = train_data_matrix[indices.flatten()]\n",
        "predicted_ratings = neighbors_ratings.mean(axis=0)"
      ],
      "metadata": {
        "id": "pF3tqLTGiLMH"
      },
      "execution_count": 21,
      "outputs": []
    },
    {
      "cell_type": "code",
      "source": [
        "# Recommend items with the highest predicted ratings that the target user hasn't rated\n",
        "unrated_items = np.where(train_data_matrix[target_user_index] == 0)[0]\n",
        "recommended_items = unrated_items[np.argsort(predicted_ratings[unrated_items])[::-1]]\n",
        "\n",
        "print(f\"Recommended items for user {target_user_index}: {recommended_items}\")"
      ],
      "metadata": {
        "colab": {
          "base_uri": "https://localhost:8080/"
        },
        "id": "LjYD_LYOiXXX",
        "outputId": "2552a503-5a62-49dc-a00b-911450843463"
      },
      "execution_count": 22,
      "outputs": [
        {
          "output_type": "stream",
          "name": "stdout",
          "text": [
            "Recommended items for user 0: [13307  5268  5117 ... 10191 10190 10204]\n"
          ]
        }
      ]
    },
    {
      "cell_type": "markdown",
      "metadata": {
        "id": "Oscd4UZoCeJd"
      },
      "source": [
        "## Task 3: Item-to-Item Collaborative Filtering with Implicit Feedback\n",
        "\n",
        "Now that we’ve prepared our data, our next task is to create a recommender system using **Item-to-Item Collaborative Filtering**. In this context, the recommendation translates to “Users who liked this item (movie) also liked …”.\n",
        "\n",
        "Since we’re working with implicit feedback, the prediction formula will focus on the **likelihood of positive interactions** rather than ratings. This will predict items the user may interact with based on similarities to items they’ve previously liked."
      ]
    },
    {
      "cell_type": "markdown",
      "metadata": {
        "id": "vGqXN7n1CeJd"
      },
      "source": [
        "The following formula shows how to compute the likelihood of interaction between a user $u$ and item $i$ using item-to-item colaborative filtering."
      ]
    },
    {
      "cell_type": "markdown",
      "metadata": {
        "id": "0CAmSG5CCeJe"
      },
      "source": [
        "\\begin{equation}\n",
        "{p}_{u}(i) =  \\frac{\\sum\\limits_{i' \\in I} \\text{sim}(i, i') \\cdot {R}_{u}(i')}{\\sum\\limits_{i' \\in I} \\text{sim}(i, i')}\n",
        "\\end{equation}"
      ]
    },
    {
      "cell_type": "markdown",
      "metadata": {
        "id": "r0ZK_p8tOBSP"
      },
      "source": [
        "In the above formula:\n",
        "\n",
        "\n",
        "*   $P_u(i)$ is the likelihood of user $u$ interacting with item $i$. This is the value we want to compute.\n",
        "*   $\\text{sim}(i, i')$ is the cosine similarity between items $i$ and $i'$.\n",
        "*   $R_u(i')$ is one if user $u$ has already interacted with item $i'$. Otherwise it is zero.\n",
        "*   $I$ is the set of all items in the dataset.\n",
        "\n",
        "The value $P_u(i)$ is expected to be between 0 and 1.\n",
        "\n"
      ]
    },
    {
      "cell_type": "markdown",
      "metadata": {
        "id": "iYOQFOCDCeJe"
      },
      "source": [
        "#### Step 1: Compute Item Similarity Matrix\n",
        "\n",
        "As a first step, we’ll calculate the pairwise similarity matrix between all items using **cosine similarity**. This matrix will show how similar each item is to every other item based on the interaction patterns of users. The output will be an `n_items` by `n_items` symmetric 2D numpy matrix."
      ]
    },
    {
      "cell_type": "code",
      "execution_count": 23,
      "metadata": {
        "colab": {
          "base_uri": "https://localhost:8080/"
        },
        "id": "wsMkfi7GCeJe",
        "outputId": "54083975-1318-42d6-eabf-21a7b00c6de9",
        "scrolled": true
      },
      "outputs": [
        {
          "output_type": "stream",
          "name": "stdout",
          "text": [
            "Item-Item Similarity Matrix:\n",
            "[[1.         0.40824829 0.33333333 ... 0.         0.         0.        ]\n",
            " [0.40824829 1.         0.40824829 ... 0.         0.         0.        ]\n",
            " [0.33333333 0.40824829 1.         ... 0.         0.         0.        ]\n",
            " ...\n",
            " [0.         0.         0.         ... 1.         0.         0.        ]\n",
            " [0.         0.         0.         ... 0.         1.         0.        ]\n",
            " [0.         0.         0.         ... 0.         0.         1.        ]]\n",
            "(15291, 15291)\n"
          ]
        }
      ],
      "source": [
        "from sklearn.metrics.pairwise import cosine_similarity\n",
        "\n",
        "# Compute the item-item similarity matrix\n",
        "# Check sklearn documentation for cosine similarity to understand how we are\n",
        "# using this function.\n",
        "item_similarity = cosine_similarity(train_data_matrix.T)\n",
        "print(\"Item-Item Similarity Matrix:\")\n",
        "print(item_similarity)\n",
        "print(item_similarity.shape)\n"
      ]
    },
    {
      "cell_type": "code",
      "execution_count": 24,
      "metadata": {
        "colab": {
          "base_uri": "https://localhost:8080/",
          "height": 636
        },
        "id": "7bg-mTTYCeJe",
        "outputId": "0eb6d035-8686-4366-acb2-16f5891d477a"
      },
      "outputs": [
        {
          "output_type": "display_data",
          "data": {
            "text/plain": [
              "<Figure size 1000x800 with 2 Axes>"
            ],
            "image/png": "[encoded data removed]"
          },
          "metadata": {}
        }
      ],
      "source": [
        "# Function to visualize the item similarity matrix\n",
        "def plot_item_similarity_heatmap(similarity_matrix, title, num_items=50):\n",
        "    \"\"\"\n",
        "    Plots a heatmap of a subset of the item similarity matrix.\n",
        "    Parameters:\n",
        "        similarity_matrix: The item-item similarity matrix.\n",
        "        title: The title of the plot.\n",
        "        num_items: The number of items to display (both rows and columns).\n",
        "    \"\"\"\n",
        "    # Extract a subset of the matrix for visualization\n",
        "    matrix_subset = similarity_matrix[:num_items, :num_items]\n",
        "\n",
        "    plt.figure(figsize=(10, 8))\n",
        "    sns.heatmap(matrix_subset, cmap=\"coolwarm\", cbar=True, cbar_kws={'label': 'Similarity Score'})\n",
        "    plt.xlabel('Item ID')\n",
        "    plt.ylabel('Item ID')\n",
        "    plt.title(title)\n",
        "    plt.show()\n",
        "\n",
        "# Visualize a subset of the item similarity matrix\n",
        "plot_item_similarity_heatmap(item_similarity, 'Item-Item Similarity Matrix')\n"
      ]
    },
    {
      "cell_type": "markdown",
      "metadata": {
        "id": "zcNdtcvVQ0MI"
      },
      "source": [
        "Let's have a look at the 2 items that have a similarity of one [14 and 11] --> Have same user_id & timestamp"
      ]
    },
    {
      "cell_type": "code",
      "source": [
        "# comparison 14 & 11 from train_data get all entries w. book_id 14\n",
        "\n",
        "# Display entries where book_id is 14 in the train_data DataFrame.\n",
        "print(train_data[train_data['book_id'] == 14])\n",
        "\n",
        "# Display entries where book_id is 14 in the train_data DataFrame.\n",
        "print(train_data[train_data['book_id'] == 11])"
      ],
      "metadata": {
        "id": "nlRUyUbU1qJZ",
        "outputId": "36a96aa5-6d51-4aa8-92ec-70c28699b8dc",
        "colab": {
          "base_uri": "https://localhost:8080/"
        }
      },
      "execution_count": 25,
      "outputs": [
        {
          "output_type": "stream",
          "name": "stdout",
          "text": [
            "       user_id  book_id     timestamp  pct_rank\n",
            "15           0       14  1.693907e+09  0.600000\n",
            "17661     1106       14  1.693905e+09  0.282209\n",
            "17663     1106       14  1.693905e+09  0.294479\n",
            "42768     2749       14  1.678371e+09  0.285714\n",
            "       user_id  book_id     timestamp  pct_rank\n",
            "12           0       11  1.693907e+09  0.520000\n",
            "17660     1106       11  1.693905e+09  0.276074\n",
            "17662     1106       11  1.693905e+09  0.288344\n",
            "42767     2749       11  1.678371e+09  0.142857\n"
          ]
        }
      ]
    },
    {
      "cell_type": "markdown",
      "metadata": {
        "id": "4Kr58GNrCeJf"
      },
      "source": [
        "#### Step 2: Predict Positive Interactions Using Item Similarity\n",
        "\n",
        "Next, we’ll use the item similarity matrix to predict the likelihood of positive interactions for each user with each item.\n",
        "\n",
        "In what follows, we create a function that implements the above formula for item-to-item cf recommendation."
      ]
    },
    {
      "cell_type": "code",
      "execution_count": 26,
      "metadata": {
        "colab": {
          "base_uri": "https://localhost:8080/"
        },
        "id": "SUFiIfM-CeJf",
        "outputId": "b415e56e-a958-47f1-b4b4-cd355ee6fedb"
      },
      "outputs": [
        {
          "output_type": "stream",
          "name": "stdout",
          "text": [
            "Predicted Interaction Matrix:\n",
            "[[0.41809123 0.7380335  0.62516736 ... 0.         0.         0.        ]\n",
            " [0.         0.         0.         ... 0.         0.         0.        ]\n",
            " [0.         0.         0.         ... 0.         0.         0.        ]\n",
            " ...\n",
            " [0.         0.         0.         ... 0.         0.         0.        ]\n",
            " [0.         0.         0.         ... 0.         0.         0.        ]\n",
            " [0.         0.         0.         ... 0.         0.         0.        ]]\n",
            "(7838, 15291)\n"
          ]
        }
      ],
      "source": [
        "# Define the function to predict interactions based on item similarity\n",
        "def item_based_knn_predict(interactions, item_similarity, k=10, epsilon=1e-9):\n",
        "    \"\"\"\n",
        "    Predicts user-item interactions using top-k most similar items.\n",
        "\n",
        "    Parameters:\n",
        "        interactions (numpy array): User-item matrix.\n",
        "        item_similarity (numpy array): Item-item similarity matrix.\n",
        "        k (int): Number of similar items to consider.\n",
        "        epsilon (float): Small constant to avoid division by zero.\n",
        "\n",
        "    Returns:\n",
        "        numpy array: Predicted interaction scores.\n",
        "    \"\"\"\n",
        "    n_users, n_items = interactions.shape\n",
        "    pred = np.zeros((n_users, n_items))\n",
        "\n",
        "    for i in range(n_items):\n",
        "        sim_scores = item_similarity[i]\n",
        "        top_k_items = np.argsort(sim_scores)[::-1][1:k+1]  # exclude self\n",
        "        sim_weights = sim_scores[top_k_items]\n",
        "        sim_weights_sum = np.sum(np.abs(sim_weights)) + epsilon\n",
        "\n",
        "        pred[:, i] = interactions[:, top_k_items].dot(sim_weights) / sim_weights_sum\n",
        "\n",
        "    return pred\n",
        "\n",
        "# Calculate the item-based predictions for positive interactions\n",
        "item_prediction_knn = item_based_knn_predict(train_data_matrix, item_similarity)\n",
        "print(\"Predicted Interaction Matrix:\")\n",
        "print(item_prediction_knn)\n",
        "print(item_prediction_knn.shape)"
      ]
    },
    {
      "cell_type": "code",
      "execution_count": 27,
      "metadata": {
        "colab": {
          "base_uri": "https://localhost:8080/",
          "height": 636
        },
        "id": "gPB_HiqiCeJf",
        "outputId": "437aa58b-1a6f-4622-8c63-36183b91bc19"
      },
      "outputs": [
        {
          "output_type": "display_data",
          "data": {
            "text/plain": [
              "<Figure size 1000x800 with 2 Axes>"
            ],
            "image/png": "[encoded data removed]"
          },
          "metadata": {}
        }
      ],
      "source": [
        "# Function to visualize the predicted interaction matrix for a subset of users and items\n",
        "def plot_interaction_prediction_heatmap(prediction_matrix, title, num_users=50, num_items=50):\n",
        "    \"\"\"\n",
        "    Plots a heatmap of a subset of the user-item predicted interaction matrix.\n",
        "    Parameters:\n",
        "        prediction_matrix: The predicted interaction matrix.\n",
        "        title: The title of the plot.\n",
        "        num_users: The number of users to display (rows).\n",
        "        num_items: The number of items to display (columns).\n",
        "    \"\"\"\n",
        "    # Extract a subset of the matrix for visualization\n",
        "    matrix_subset = prediction_matrix[:num_users, :num_items]\n",
        "\n",
        "    plt.figure(figsize=(10, 8))\n",
        "    sns.heatmap(matrix_subset, cmap=\"YlGnBu\", cbar=True, cbar_kws={'label': 'Predicted Interaction Score'})\n",
        "    plt.xlabel('Item ID')\n",
        "    plt.ylabel('User ID')\n",
        "    plt.title(title)\n",
        "    plt.show()\n",
        "\n",
        "# Visualize a subset of the predicted interaction matrix\n",
        "plot_interaction_prediction_heatmap(item_prediction_knn, 'User-Item Predicted Interaction Matrix')\n"
      ]
    },
    {
      "cell_type": "markdown",
      "metadata": {
        "id": "gtQSEyVECeJf"
      },
      "source": [
        "\n",
        "In this setup:\n",
        "- The `item_based_predict` function calculates a score for each user-item pair using the item-to-item colaborative filtering formula.\n",
        "- The result is a prediction matrix where each cell indicates the predicted likelihood of an interaction between each user and item."
      ]
    },
    {
      "cell_type": "markdown",
      "metadata": {
        "id": "wogtvY8ECeJf"
      },
      "source": [
        "## Task 4: User-to-User Collaborative Filtering with Implicit Feedback\n",
        "\n",
        "In this task, we’ll create a recommender system using **User-to-User Collaborative Filtering**. This approach translates to “Users who are similar to you also liked…”. We’ll predict the likelihood of a user interacting with an item based on the behavior of similar users."
      ]
    },
    {
      "cell_type": "markdown",
      "metadata": {
        "id": "yzCwi1hYCeJl"
      },
      "source": [
        "\n",
        "#### Step 1: Compute User Similarity Matrix\n",
        "\n",
        "To start, we’ll compute the similarity matrix between users using **cosine similarity**. This matrix shows how similar each user is to every other user based on their interaction patterns. This will create a `num_users * num_users` matrix."
      ]
    },
    {
      "cell_type": "code",
      "execution_count": 28,
      "metadata": {
        "colab": {
          "base_uri": "https://localhost:8080/"
        },
        "id": "ESZMztZTCeJl",
        "outputId": "5611834e-d4b7-4977-8065-6923fb77ba1a"
      },
      "outputs": [
        {
          "output_type": "stream",
          "name": "stdout",
          "text": [
            "User-User Similarity Matrix:\n",
            "[[1. 0. 0. ... 0. 0. 0.]\n",
            " [0. 1. 0. ... 0. 0. 0.]\n",
            " [0. 0. 1. ... 0. 0. 0.]\n",
            " ...\n",
            " [0. 0. 0. ... 1. 0. 0.]\n",
            " [0. 0. 0. ... 0. 1. 0.]\n",
            " [0. 0. 0. ... 0. 0. 1.]]\n",
            "Shape of User Similarity Matrix: (7838, 7838)\n"
          ]
        }
      ],
      "source": [
        "# Compute the user-user similarity matrix\n",
        "user_similarity = cosine_similarity(train_data_matrix)\n",
        "print(\"User-User Similarity Matrix:\")\n",
        "print(user_similarity)\n",
        "\n",
        "# Check the shape as a sanity check\n",
        "print(\"Shape of User Similarity Matrix:\", user_similarity.shape)\n"
      ]
    },
    {
      "cell_type": "code",
      "execution_count": 29,
      "metadata": {
        "colab": {
          "base_uri": "https://localhost:8080/",
          "height": 636
        },
        "id": "Nliw5yY9CeJl",
        "outputId": "fa7f4cb0-d1e2-48e5-f02b-7eb8b4d14539"
      },
      "outputs": [
        {
          "output_type": "display_data",
          "data": {
            "text/plain": [
              "<Figure size 1000x800 with 2 Axes>"
            ],
            "image/png": "[encoded data removed]"
          },
          "metadata": {}
        }
      ],
      "source": [
        "# Function to plot the user similarity matrix\n",
        "def plot_user_similarity_heatmap(similarity_matrix, title, num_users=50):\n",
        "    \"\"\"\n",
        "    Plots a heatmap of a subset of the user similarity matrix.\n",
        "    Parameters:\n",
        "        similarity_matrix: The user-user similarity matrix.\n",
        "        title: The title of the plot.\n",
        "        num_users: The number of users to display (both rows and columns).\n",
        "    \"\"\"\n",
        "    # Extract a subset of the matrix for visualization\n",
        "    matrix_subset = similarity_matrix[:num_users, :num_users]\n",
        "\n",
        "    plt.figure(figsize=(10, 8))\n",
        "    sns.heatmap(matrix_subset, cmap=\"coolwarm\", cbar=True, cbar_kws={'label': 'Similarity Score'})\n",
        "    plt.xlabel('User ID')\n",
        "    plt.ylabel('User ID')\n",
        "    plt.title(title)\n",
        "    plt.show()\n",
        "\n",
        "# Visualize a subset of the user similarity matrix\n",
        "plot_user_similarity_heatmap(user_similarity, 'User-User Similarity Matrix')\n"
      ]
    },
    {
      "cell_type": "markdown",
      "metadata": {
        "id": "b8ZUmYVQCeJl"
      },
      "source": [
        "### Step 2: Predict Positive Interactions Using User Similarity\n",
        "\n",
        "Next, we’ll use the user similarity matrix to predict the likelihood of positive interactions for each user with each item. Since we’re working with implicit feedback, we’ll calculate a score for each item based on binary interaction values (1 for positive interactions, 0 for none).\n",
        "\n",
        "The prediction formula is as follows:\n",
        "\n",
        "\\begin{equation}\n",
        "{p}_{u}(i) = \\frac{\\sum\\limits_{u' \\in U} \\text{sim}(u, u') \\cdot {R}_{u'}(i)}{\\sum\\limits_{u' \\in U} \\text{sim}(u, u')}\n",
        "\\end{equation}\n",
        "\n",
        "\n",
        "#### Explanation:\n",
        "*   $P_u(i)$ is the likelihood of user $u$ interacting with item $i$. This is the value we want to compute.\n",
        "*   $\\text{sim}(u, u')$ is the cosine similarity between users $u$ and $u'$.\n",
        "*   $R_u'(i)$ is one if user $u'$ has already interacted with item $i$. Otherwise it is zero.\n",
        "*   $U$ is the set of all users in the dataset.\n",
        "\n",
        "\n",
        "This formula calculates the likelihood of interaction between user $ u $ and item $ i $ based on interactions of similar users with that item. The weighted sum of interactions from similar users is normalized by the sum of the similarities."
      ]
    },
    {
      "cell_type": "markdown",
      "metadata": {
        "id": "mm1pJJAhCeJm"
      },
      "source": [
        "- **`similarity.dot(interactions)`**: Calculates the weighted sum of interactions for each user, based on similar users’ interactions.\n",
        "- **`np.abs(similarity).sum(axis=1)[:, np.newaxis]`**: The denominator normalizes the prediction by the sum of absolute similarities to avoid bias from users with more neighbors.\n",
        "- **`epsilon`**: Prevents division by zero, which could result in `NaN` values."
      ]
    },
    {
      "cell_type": "code",
      "execution_count": 30,
      "metadata": {
        "colab": {
          "base_uri": "https://localhost:8080/"
        },
        "id": "E577LOFhCeJm",
        "outputId": "210131f2-8c09-407a-fd3f-66f9bfdb49e3"
      },
      "outputs": [
        {
          "output_type": "stream",
          "name": "stdout",
          "text": [
            "Predicted Interaction Matrix (User-Based):\n",
            "[[0.13171649 0.13259591 0.14274867 ... 0.         0.         0.        ]\n",
            " [0.         0.         0.         ... 0.         0.         0.        ]\n",
            " [0.         0.         0.         ... 0.         0.         0.        ]\n",
            " ...\n",
            " [0.         0.         0.         ... 0.         0.         0.        ]\n",
            " [0.         0.         0.         ... 0.         0.         0.        ]\n",
            " [0.         0.         0.         ... 0.         0.         0.        ]]\n",
            "(7838, 15291)\n"
          ]
        }
      ],
      "source": [
        "# Define the function to predict interactions based on user similarity\n",
        "def user_based_predict(interactions, similarity, epsilon=1e-9):\n",
        "    \"\"\"\n",
        "    Predicts user-item interactions based on user-user similarity.\n",
        "    Parameters:\n",
        "        interactions (numpy array): The user-item interaction matrix.\n",
        "        similarity (numpy array): The user-user similarity matrix.\n",
        "        epsilon (float): Small constant added to the denominator to avoid division by zero.\n",
        "    Returns:\n",
        "        numpy array: The predicted interaction scores for each user-item pair.\n",
        "    \"\"\"\n",
        "    # Calculate the weighted sum of interactions based on user similarity\n",
        "    pred = similarity.dot(interactions) / (np.abs(similarity).sum(axis=1)[:, np.newaxis] + epsilon)\n",
        "    return pred\n",
        "\n",
        "# Calculate the user-based predictions for positive interactions\n",
        "user_prediction = user_based_predict(train_data_matrix, user_similarity)\n",
        "print(\"Predicted Interaction Matrix (User-Based):\")\n",
        "print(user_prediction)\n",
        "print(user_prediction.shape)\n"
      ]
    },
    {
      "cell_type": "code",
      "source": [
        "def user_based_knn_predict(interactions, similarity, k=110, epsilon=1e-9):\n",
        "    \"\"\"\n",
        "    Predicts user-item interactions using only the top-k most similar users.\n",
        "\n",
        "    Parameters:\n",
        "        interactions (numpy array): The user-item interaction matrix.\n",
        "        similarity (numpy array): The user-user similarity matrix.\n",
        "        k (int): Number of nearest neighbors to consider.\n",
        "        epsilon (float): Small value to prevent division by zero.\n",
        "\n",
        "    Returns:\n",
        "        numpy array: Predicted interaction scores for each user-item pair.\n",
        "    \"\"\"\n",
        "    n_users = interactions.shape[0]\n",
        "    pred = np.zeros_like(interactions, dtype=float)\n",
        "\n",
        "    for u in range(n_users):\n",
        "        sim_scores = similarity[u]\n",
        "        top_k_users = np.argsort(sim_scores)[::-1][1:k+1]  # exclude self\n",
        "        sim_weights = sim_scores[top_k_users]\n",
        "        sim_weights_sum = np.sum(np.abs(sim_weights)) + epsilon\n",
        "\n",
        "        pred[u] = np.dot(sim_weights, interactions[top_k_users]) / sim_weights_sum\n",
        "\n",
        "    return pred\n",
        "\n",
        "# Calculate the user-based predictions for positive interactions\n",
        "user_prediction_knn = user_based_knn_predict(train_data_matrix, user_similarity)\n",
        "print(\"Predicted Interaction Matrix (User-Based):\")\n",
        "print(user_prediction_knn)\n",
        "print(user_prediction_knn.shape)"
      ],
      "metadata": {
        "colab": {
          "base_uri": "https://localhost:8080/"
        },
        "id": "OG4oNWSJlMYg",
        "outputId": "8433c6ed-7419-43af-8152-b66e42264deb"
      },
      "execution_count": 31,
      "outputs": [
        {
          "output_type": "stream",
          "name": "stdout",
          "text": [
            "Predicted Interaction Matrix (User-Based):\n",
            "[[0.01656922 0.01756526 0.02906443 ... 0.         0.         0.        ]\n",
            " [0.         0.         0.         ... 0.         0.         0.        ]\n",
            " [0.         0.         0.         ... 0.         0.         0.        ]\n",
            " ...\n",
            " [0.         0.         0.         ... 0.         0.         0.        ]\n",
            " [0.         0.         0.         ... 0.         0.         0.        ]\n",
            " [0.         0.         0.         ... 0.         0.         0.        ]]\n",
            "(7838, 15291)\n"
          ]
        }
      ]
    },
    {
      "cell_type": "code",
      "execution_count": 32,
      "metadata": {
        "colab": {
          "base_uri": "https://localhost:8080/",
          "height": 629
        },
        "id": "_VNGoRBiCeJm",
        "outputId": "c9879850-e67a-410d-ff5b-7cf0e427d716"
      },
      "outputs": [
        {
          "output_type": "display_data",
          "data": {
            "text/plain": [
              "<Figure size 1000x800 with 2 Axes>"
            ],
            "image/png": "[encoded data removed]"
          },
          "metadata": {}
        }
      ],
      "source": [
        "# Function to visualize the predicted interaction matrix for a subset of users and items\n",
        "def plot_interaction_prediction_heatmap(prediction_matrix, title, num_users=50, num_items=50):\n",
        "    \"\"\"\n",
        "    Plots a heatmap of a subset of the user-item predicted interaction matrix.\n",
        "    Parameters:\n",
        "        prediction_matrix: The predicted interaction matrix.\n",
        "        title: The title of the plot.\n",
        "        num_users: The number of users to display (rows).\n",
        "        num_items: The number of items to display (columns).\n",
        "    \"\"\"\n",
        "    # Extract a subset of the matrix for visualization\n",
        "    matrix_subset = prediction_matrix[:num_users, :num_items]\n",
        "\n",
        "    plt.figure(figsize=(10, 8))\n",
        "    sns.heatmap(matrix_subset, cmap=\"YlGnBu\", cbar=True, cbar_kws={'label': 'Predicted Interaction Score'})\n",
        "    plt.xlabel('Item ID')\n",
        "    plt.ylabel('User ID')\n",
        "    plt.title(title)\n",
        "    plt.show()\n",
        "\n",
        "# Visualize a subset of the predicted interaction matrix\n",
        "plot_interaction_prediction_heatmap(user_prediction_knn, 'User-Item Predicted Interaction Matrix (User-Based)')\n"
      ]
    },
    {
      "cell_type": "code",
      "source": [
        "import numpy as np\n",
        "import matplotlib.pyplot as plt\n",
        "from sklearn.metrics.pairwise import cosine_similarity\n",
        "\n",
        "# Define evaluation function if not already done\n",
        "def precision_at_k(predictions, test_matrix, k=10):\n",
        "    precisions = []\n",
        "    for u in range(predictions.shape[0]):\n",
        "        top_k_pred = predictions[u].argsort()[::-1][:k]\n",
        "        relevant_items = set(np.where(test_matrix[u] > 0)[0])\n",
        "        if not relevant_items:\n",
        "            continue\n",
        "        hits = sum([1 for item in top_k_pred if item in relevant_items])\n",
        "        precisions.append(hits / k)\n",
        "    return np.mean(precisions)\n",
        "\n",
        "# Define safe per-user shuffling function\n",
        "def shuffle_user_rows(df):\n",
        "    return df.sample(frac=1, random_state=np.random.randint(0, 1e6)).reset_index(drop=True)\n",
        "\n",
        "# Parameters\n",
        "k_values = list(range(50, 200, 10))\n",
        "n_splits = 5\n",
        "precision_scores = {k: [] for k in k_values}\n",
        "\n",
        "# Main loop\n",
        "for k in k_values:\n",
        "    print(f\"\\nEvaluating for k = {k}...\")\n",
        "    for split_num in range(n_splits):\n",
        "        print(f\"  🔁 Split {split_num + 1} / {n_splits}\")\n",
        "\n",
        "        # Shuffle user interactions\n",
        "        shuffled_interactions = (\n",
        "            interactions.groupby(\"user_id\", group_keys=False)\n",
        "            .apply(shuffle_user_rows)\n",
        "            .reset_index(drop=True)\n",
        "        )\n",
        "\n",
        "        # Generate randomized per-user rank\n",
        "        shuffled_interactions[\"interaction_order\"] = shuffled_interactions.groupby(\"user_id\").cumcount() + 1\n",
        "        shuffled_interactions[\"pct_rank\"] = (\n",
        "            shuffled_interactions[\"interaction_order\"] /\n",
        "            shuffled_interactions.groupby(\"user_id\")[\"interaction_order\"].transform(\"max\")\n",
        "        )\n",
        "\n",
        "        # Split into train/test\n",
        "        train_data = shuffled_interactions[shuffled_interactions[\"pct_rank\"] < 0.8]\n",
        "        test_data = shuffled_interactions[shuffled_interactions[\"pct_rank\"] >= 0.8]\n",
        "\n",
        "        # Build matrices\n",
        "        train_data_matrix = create_data_matrix(train_data, n_users, n_items)\n",
        "        test_data_matrix = create_data_matrix(test_data, n_users, n_items)\n",
        "        user_similarity = cosine_similarity(train_data_matrix)\n",
        "\n",
        "        # Predict and evaluate\n",
        "        preds = user_based_knn_predict(train_data_matrix, user_similarity, k=k)\n",
        "        score = precision_at_k(preds, test_data_matrix, k=10)\n",
        "        precision_scores[k].append(score)\n",
        "\n",
        "# Compute summary stats\n",
        "avg_precision_scores = [np.mean(precision_scores[k]) for k in k_values]\n",
        "std_precision_scores = [np.std(precision_scores[k]) for k in k_values]\n",
        "\n",
        "# Identify best k\n",
        "best_index = np.argmax(avg_precision_scores)\n",
        "best_k = k_values[best_index]\n",
        "best_score = avg_precision_scores[best_index]\n",
        "\n",
        "print(f\"\\n🏆 Best k = {best_k} with average Precision@10 = {best_score:.4f}\")\n",
        "\n",
        "# Plot\n",
        "plt.figure(figsize=(10, 5))\n",
        "plt.errorbar(k_values, avg_precision_scores, yerr=std_precision_scores, fmt='-o', capsize=5, label='Mean ± Std Dev')\n",
        "plt.axvline(best_k, linestyle='--', color='red', label=f'Best k = {best_k}')\n",
        "plt.title(f'Precision@10 vs Number of Neighbors (k)\\nAveraged over {n_splits} Randomized Splits')\n",
        "plt.xlabel('Number of Neighbors (k)')\n",
        "plt.ylabel('Precision@10')\n",
        "plt.legend()\n",
        "plt.grid(True)\n",
        "plt.tight_layout()\n",
        "plt.show()\n"
      ],
      "metadata": {
        "colab": {
          "base_uri": "https://localhost:8080/",
          "height": 1000
        },
        "id": "37zXv-OZwqyE",
        "outputId": "67cef7f4-9a7e-47b9-8472-1a5ead689909"
      },
      "execution_count": 35,
      "outputs": [
        {
          "output_type": "stream",
          "name": "stdout",
          "text": [
            "\n",
            "Evaluating for k = 50...\n",
            "  🔁 Split 1 / 5\n"
          ]
        },
        {
          "output_type": "stream",
          "name": "stderr",
          "text": [
            "<ipython-input-35-27dc8967a4ed>:35: DeprecationWarning: DataFrameGroupBy.apply operated on the grouping columns. This behavior is deprecated, and in a future version of pandas the grouping columns will be excluded from the operation. Either pass `include_groups=False` to exclude the groupings or explicitly select the grouping columns after groupby to silence this warning.\n",
            "  .apply(shuffle_user_rows)\n"
          ]
        },
        {
          "output_type": "stream",
          "name": "stdout",
          "text": [
            "  🔁 Split 2 / 5\n"
          ]
        },
        {
          "output_type": "stream",
          "name": "stderr",
          "text": [
            "<ipython-input-35-27dc8967a4ed>:35: DeprecationWarning: DataFrameGroupBy.apply operated on the grouping columns. This behavior is deprecated, and in a future version of pandas the grouping columns will be excluded from the operation. Either pass `include_groups=False` to exclude the groupings or explicitly select the grouping columns after groupby to silence this warning.\n",
            "  .apply(shuffle_user_rows)\n"
          ]
        },
        {
          "output_type": "stream",
          "name": "stdout",
          "text": [
            "  🔁 Split 3 / 5\n"
          ]
        },
        {
          "output_type": "stream",
          "name": "stderr",
          "text": [
            "<ipython-input-35-27dc8967a4ed>:35: DeprecationWarning: DataFrameGroupBy.apply operated on the grouping columns. This behavior is deprecated, and in a future version of pandas the grouping columns will be excluded from the operation. Either pass `include_groups=False` to exclude the groupings or explicitly select the grouping columns after groupby to silence this warning.\n",
            "  .apply(shuffle_user_rows)\n"
          ]
        },
        {
          "output_type": "stream",
          "name": "stdout",
          "text": [
            "  🔁 Split 4 / 5\n"
          ]
        },
        {
          "output_type": "stream",
          "name": "stderr",
          "text": [
            "<ipython-input-35-27dc8967a4ed>:35: DeprecationWarning: DataFrameGroupBy.apply operated on the grouping columns. This behavior is deprecated, and in a future version of pandas the grouping columns will be excluded from the operation. Either pass `include_groups=False` to exclude the groupings or explicitly select the grouping columns after groupby to silence this warning.\n",
            "  .apply(shuffle_user_rows)\n"
          ]
        },
        {
          "output_type": "stream",
          "name": "stdout",
          "text": [
            "  🔁 Split 5 / 5\n"
          ]
        },
        {
          "output_type": "stream",
          "name": "stderr",
          "text": [
            "<ipython-input-35-27dc8967a4ed>:35: DeprecationWarning: DataFrameGroupBy.apply operated on the grouping columns. This behavior is deprecated, and in a future version of pandas the grouping columns will be excluded from the operation. Either pass `include_groups=False` to exclude the groupings or explicitly select the grouping columns after groupby to silence this warning.\n",
            "  .apply(shuffle_user_rows)\n"
          ]
        },
        {
          "output_type": "stream",
          "name": "stdout",
          "text": [
            "\n",
            "Evaluating for k = 60...\n",
            "  🔁 Split 1 / 5\n"
          ]
        },
        {
          "output_type": "stream",
          "name": "stderr",
          "text": [
            "<ipython-input-35-27dc8967a4ed>:35: DeprecationWarning: DataFrameGroupBy.apply operated on the grouping columns. This behavior is deprecated, and in a future version of pandas the grouping columns will be excluded from the operation. Either pass `include_groups=False` to exclude the groupings or explicitly select the grouping columns after groupby to silence this warning.\n",
            "  .apply(shuffle_user_rows)\n"
          ]
        },
        {
          "output_type": "stream",
          "name": "stdout",
          "text": [
            "  🔁 Split 2 / 5\n"
          ]
        },
        {
          "output_type": "stream",
          "name": "stderr",
          "text": [
            "<ipython-input-35-27dc8967a4ed>:35: DeprecationWarning: DataFrameGroupBy.apply operated on the grouping columns. This behavior is deprecated, and in a future version of pandas the grouping columns will be excluded from the operation. Either pass `include_groups=False` to exclude the groupings or explicitly select the grouping columns after groupby to silence this warning.\n",
            "  .apply(shuffle_user_rows)\n"
          ]
        },
        {
          "output_type": "stream",
          "name": "stdout",
          "text": [
            "  🔁 Split 3 / 5\n"
          ]
        },
        {
          "output_type": "stream",
          "name": "stderr",
          "text": [
            "<ipython-input-35-27dc8967a4ed>:35: DeprecationWarning: DataFrameGroupBy.apply operated on the grouping columns. This behavior is deprecated, and in a future version of pandas the grouping columns will be excluded from the operation. Either pass `include_groups=False` to exclude the groupings or explicitly select the grouping columns after groupby to silence this warning.\n",
            "  .apply(shuffle_user_rows)\n"
          ]
        },
        {
          "output_type": "stream",
          "name": "stdout",
          "text": [
            "  🔁 Split 4 / 5\n"
          ]
        },
        {
          "output_type": "stream",
          "name": "stderr",
          "text": [
            "<ipython-input-35-27dc8967a4ed>:35: DeprecationWarning: DataFrameGroupBy.apply operated on the grouping columns. This behavior is deprecated, and in a future version of pandas the grouping columns will be excluded from the operation. Either pass `include_groups=False` to exclude the groupings or explicitly select the grouping columns after groupby to silence this warning.\n",
            "  .apply(shuffle_user_rows)\n"
          ]
        },
        {
          "output_type": "stream",
          "name": "stdout",
          "text": [
            "  🔁 Split 5 / 5\n"
          ]
        },
        {
          "output_type": "stream",
          "name": "stderr",
          "text": [
            "<ipython-input-35-27dc8967a4ed>:35: DeprecationWarning: DataFrameGroupBy.apply operated on the grouping columns. This behavior is deprecated, and in a future version of pandas the grouping columns will be excluded from the operation. Either pass `include_groups=False` to exclude the groupings or explicitly select the grouping columns after groupby to silence this warning.\n",
            "  .apply(shuffle_user_rows)\n"
          ]
        },
        {
          "output_type": "stream",
          "name": "stdout",
          "text": [
            "\n",
            "Evaluating for k = 70...\n",
            "  🔁 Split 1 / 5\n"
          ]
        },
        {
          "output_type": "stream",
          "name": "stderr",
          "text": [
            "<ipython-input-35-27dc8967a4ed>:35: DeprecationWarning: DataFrameGroupBy.apply operated on the grouping columns. This behavior is deprecated, and in a future version of pandas the grouping columns will be excluded from the operation. Either pass `include_groups=False` to exclude the groupings or explicitly select the grouping columns after groupby to silence this warning.\n",
            "  .apply(shuffle_user_rows)\n"
          ]
        },
        {
          "output_type": "stream",
          "name": "stdout",
          "text": [
            "  🔁 Split 2 / 5\n"
          ]
        },
        {
          "output_type": "stream",
          "name": "stderr",
          "text": [
            "<ipython-input-35-27dc8967a4ed>:35: DeprecationWarning: DataFrameGroupBy.apply operated on the grouping columns. This behavior is deprecated, and in a future version of pandas the grouping columns will be excluded from the operation. Either pass `include_groups=False` to exclude the groupings or explicitly select the grouping columns after groupby to silence this warning.\n",
            "  .apply(shuffle_user_rows)\n"
          ]
        },
        {
          "output_type": "stream",
          "name": "stdout",
          "text": [
            "  🔁 Split 3 / 5\n"
          ]
        },
        {
          "output_type": "stream",
          "name": "stderr",
          "text": [
            "<ipython-input-35-27dc8967a4ed>:35: DeprecationWarning: DataFrameGroupBy.apply operated on the grouping columns. This behavior is deprecated, and in a future version of pandas the grouping columns will be excluded from the operation. Either pass `include_groups=False` to exclude the groupings or explicitly select the grouping columns after groupby to silence this warning.\n",
            "  .apply(shuffle_user_rows)\n"
          ]
        },
        {
          "output_type": "stream",
          "name": "stdout",
          "text": [
            "  🔁 Split 4 / 5\n"
          ]
        },
        {
          "output_type": "stream",
          "name": "stderr",
          "text": [
            "<ipython-input-35-27dc8967a4ed>:35: DeprecationWarning: DataFrameGroupBy.apply operated on the grouping columns. This behavior is deprecated, and in a future version of pandas the grouping columns will be excluded from the operation. Either pass `include_groups=False` to exclude the groupings or explicitly select the grouping columns after groupby to silence this warning.\n",
            "  .apply(shuffle_user_rows)\n"
          ]
        },
        {
          "output_type": "stream",
          "name": "stdout",
          "text": [
            "  🔁 Split 5 / 5\n"
          ]
        },
        {
          "output_type": "stream",
          "name": "stderr",
          "text": [
            "<ipython-input-35-27dc8967a4ed>:35: DeprecationWarning: DataFrameGroupBy.apply operated on the grouping columns. This behavior is deprecated, and in a future version of pandas the grouping columns will be excluded from the operation. Either pass `include_groups=False` to exclude the groupings or explicitly select the grouping columns after groupby to silence this warning.\n",
            "  .apply(shuffle_user_rows)\n"
          ]
        },
        {
          "output_type": "stream",
          "name": "stdout",
          "text": [
            "\n",
            "Evaluating for k = 80...\n",
            "  🔁 Split 1 / 5\n"
          ]
        },
        {
          "output_type": "stream",
          "name": "stderr",
          "text": [
            "<ipython-input-35-27dc8967a4ed>:35: DeprecationWarning: DataFrameGroupBy.apply operated on the grouping columns. This behavior is deprecated, and in a future version of pandas the grouping columns will be excluded from the operation. Either pass `include_groups=False` to exclude the groupings or explicitly select the grouping columns after groupby to silence this warning.\n",
            "  .apply(shuffle_user_rows)\n"
          ]
        },
        {
          "output_type": "stream",
          "name": "stdout",
          "text": [
            "  🔁 Split 2 / 5\n"
          ]
        },
        {
          "output_type": "stream",
          "name": "stderr",
          "text": [
            "<ipython-input-35-27dc8967a4ed>:35: DeprecationWarning: DataFrameGroupBy.apply operated on the grouping columns. This behavior is deprecated, and in a future version of pandas the grouping columns will be excluded from the operation. Either pass `include_groups=False` to exclude the groupings or explicitly select the grouping columns after groupby to silence this warning.\n",
            "  .apply(shuffle_user_rows)\n"
          ]
        },
        {
          "output_type": "stream",
          "name": "stdout",
          "text": [
            "  🔁 Split 3 / 5\n"
          ]
        },
        {
          "output_type": "stream",
          "name": "stderr",
          "text": [
            "<ipython-input-35-27dc8967a4ed>:35: DeprecationWarning: DataFrameGroupBy.apply operated on the grouping columns. This behavior is deprecated, and in a future version of pandas the grouping columns will be excluded from the operation. Either pass `include_groups=False` to exclude the groupings or explicitly select the grouping columns after groupby to silence this warning.\n",
            "  .apply(shuffle_user_rows)\n"
          ]
        },
        {
          "output_type": "stream",
          "name": "stdout",
          "text": [
            "  🔁 Split 4 / 5\n"
          ]
        },
        {
          "output_type": "stream",
          "name": "stderr",
          "text": [
            "<ipython-input-35-27dc8967a4ed>:35: DeprecationWarning: DataFrameGroupBy.apply operated on the grouping columns. This behavior is deprecated, and in a future version of pandas the grouping columns will be excluded from the operation. Either pass `include_groups=False` to exclude the groupings or explicitly select the grouping columns after groupby to silence this warning.\n",
            "  .apply(shuffle_user_rows)\n"
          ]
        },
        {
          "output_type": "stream",
          "name": "stdout",
          "text": [
            "  🔁 Split 5 / 5\n"
          ]
        },
        {
          "output_type": "stream",
          "name": "stderr",
          "text": [
            "<ipython-input-35-27dc8967a4ed>:35: DeprecationWarning: DataFrameGroupBy.apply operated on the grouping columns. This behavior is deprecated, and in a future version of pandas the grouping columns will be excluded from the operation. Either pass `include_groups=False` to exclude the groupings or explicitly select the grouping columns after groupby to silence this warning.\n",
            "  .apply(shuffle_user_rows)\n"
          ]
        },
        {
          "output_type": "stream",
          "name": "stdout",
          "text": [
            "\n",
            "Evaluating for k = 90...\n",
            "  🔁 Split 1 / 5\n"
          ]
        },
        {
          "output_type": "stream",
          "name": "stderr",
          "text": [
            "<ipython-input-35-27dc8967a4ed>:35: DeprecationWarning: DataFrameGroupBy.apply operated on the grouping columns. This behavior is deprecated, and in a future version of pandas the grouping columns will be excluded from the operation. Either pass `include_groups=False` to exclude the groupings or explicitly select the grouping columns after groupby to silence this warning.\n",
            "  .apply(shuffle_user_rows)\n"
          ]
        },
        {
          "output_type": "stream",
          "name": "stdout",
          "text": [
            "  🔁 Split 2 / 5\n"
          ]
        },
        {
          "output_type": "stream",
          "name": "stderr",
          "text": [
            "<ipython-input-35-27dc8967a4ed>:35: DeprecationWarning: DataFrameGroupBy.apply operated on the grouping columns. This behavior is deprecated, and in a future version of pandas the grouping columns will be excluded from the operation. Either pass `include_groups=False` to exclude the groupings or explicitly select the grouping columns after groupby to silence this warning.\n",
            "  .apply(shuffle_user_rows)\n"
          ]
        },
        {
          "output_type": "stream",
          "name": "stdout",
          "text": [
            "  🔁 Split 3 / 5\n"
          ]
        },
        {
          "output_type": "stream",
          "name": "stderr",
          "text": [
            "<ipython-input-35-27dc8967a4ed>:35: DeprecationWarning: DataFrameGroupBy.apply operated on the grouping columns. This behavior is deprecated, and in a future version of pandas the grouping columns will be excluded from the operation. Either pass `include_groups=False` to exclude the groupings or explicitly select the grouping columns after groupby to silence this warning.\n",
            "  .apply(shuffle_user_rows)\n"
          ]
        },
        {
          "output_type": "stream",
          "name": "stdout",
          "text": [
            "  🔁 Split 4 / 5\n"
          ]
        },
        {
          "output_type": "stream",
          "name": "stderr",
          "text": [
            "<ipython-input-35-27dc8967a4ed>:35: DeprecationWarning: DataFrameGroupBy.apply operated on the grouping columns. This behavior is deprecated, and in a future version of pandas the grouping columns will be excluded from the operation. Either pass `include_groups=False` to exclude the groupings or explicitly select the grouping columns after groupby to silence this warning.\n",
            "  .apply(shuffle_user_rows)\n"
          ]
        },
        {
          "output_type": "stream",
          "name": "stdout",
          "text": [
            "  🔁 Split 5 / 5\n"
          ]
        },
        {
          "output_type": "stream",
          "name": "stderr",
          "text": [
            "<ipython-input-35-27dc8967a4ed>:35: DeprecationWarning: DataFrameGroupBy.apply operated on the grouping columns. This behavior is deprecated, and in a future version of pandas the grouping columns will be excluded from the operation. Either pass `include_groups=False` to exclude the groupings or explicitly select the grouping columns after groupby to silence this warning.\n",
            "  .apply(shuffle_user_rows)\n"
          ]
        },
        {
          "output_type": "stream",
          "name": "stdout",
          "text": [
            "\n",
            "Evaluating for k = 100...\n",
            "  🔁 Split 1 / 5\n"
          ]
        },
        {
          "output_type": "stream",
          "name": "stderr",
          "text": [
            "<ipython-input-35-27dc8967a4ed>:35: DeprecationWarning: DataFrameGroupBy.apply operated on the grouping columns. This behavior is deprecated, and in a future version of pandas the grouping columns will be excluded from the operation. Either pass `include_groups=False` to exclude the groupings or explicitly select the grouping columns after groupby to silence this warning.\n",
            "  .apply(shuffle_user_rows)\n"
          ]
        },
        {
          "output_type": "stream",
          "name": "stdout",
          "text": [
            "  🔁 Split 2 / 5\n"
          ]
        },
        {
          "output_type": "stream",
          "name": "stderr",
          "text": [
            "<ipython-input-35-27dc8967a4ed>:35: DeprecationWarning: DataFrameGroupBy.apply operated on the grouping columns. This behavior is deprecated, and in a future version of pandas the grouping columns will be excluded from the operation. Either pass `include_groups=False` to exclude the groupings or explicitly select the grouping columns after groupby to silence this warning.\n",
            "  .apply(shuffle_user_rows)\n"
          ]
        },
        {
          "output_type": "stream",
          "name": "stdout",
          "text": [
            "  🔁 Split 3 / 5\n"
          ]
        },
        {
          "output_type": "stream",
          "name": "stderr",
          "text": [
            "<ipython-input-35-27dc8967a4ed>:35: DeprecationWarning: DataFrameGroupBy.apply operated on the grouping columns. This behavior is deprecated, and in a future version of pandas the grouping columns will be excluded from the operation. Either pass `include_groups=False` to exclude the groupings or explicitly select the grouping columns after groupby to silence this warning.\n",
            "  .apply(shuffle_user_rows)\n"
          ]
        },
        {
          "output_type": "stream",
          "name": "stdout",
          "text": [
            "  🔁 Split 4 / 5\n"
          ]
        },
        {
          "output_type": "stream",
          "name": "stderr",
          "text": [
            "<ipython-input-35-27dc8967a4ed>:35: DeprecationWarning: DataFrameGroupBy.apply operated on the grouping columns. This behavior is deprecated, and in a future version of pandas the grouping columns will be excluded from the operation. Either pass `include_groups=False` to exclude the groupings or explicitly select the grouping columns after groupby to silence this warning.\n",
            "  .apply(shuffle_user_rows)\n"
          ]
        },
        {
          "output_type": "stream",
          "name": "stdout",
          "text": [
            "  🔁 Split 5 / 5\n"
          ]
        },
        {
          "output_type": "stream",
          "name": "stderr",
          "text": [
            "<ipython-input-35-27dc8967a4ed>:35: DeprecationWarning: DataFrameGroupBy.apply operated on the grouping columns. This behavior is deprecated, and in a future version of pandas the grouping columns will be excluded from the operation. Either pass `include_groups=False` to exclude the groupings or explicitly select the grouping columns after groupby to silence this warning.\n",
            "  .apply(shuffle_user_rows)\n"
          ]
        },
        {
          "output_type": "stream",
          "name": "stdout",
          "text": [
            "\n",
            "Evaluating for k = 110...\n",
            "  🔁 Split 1 / 5\n"
          ]
        },
        {
          "output_type": "stream",
          "name": "stderr",
          "text": [
            "<ipython-input-35-27dc8967a4ed>:35: DeprecationWarning: DataFrameGroupBy.apply operated on the grouping columns. This behavior is deprecated, and in a future version of pandas the grouping columns will be excluded from the operation. Either pass `include_groups=False` to exclude the groupings or explicitly select the grouping columns after groupby to silence this warning.\n",
            "  .apply(shuffle_user_rows)\n"
          ]
        },
        {
          "output_type": "stream",
          "name": "stdout",
          "text": [
            "  🔁 Split 2 / 5\n"
          ]
        },
        {
          "output_type": "stream",
          "name": "stderr",
          "text": [
            "<ipython-input-35-27dc8967a4ed>:35: DeprecationWarning: DataFrameGroupBy.apply operated on the grouping columns. This behavior is deprecated, and in a future version of pandas the grouping columns will be excluded from the operation. Either pass `include_groups=False` to exclude the groupings or explicitly select the grouping columns after groupby to silence this warning.\n",
            "  .apply(shuffle_user_rows)\n"
          ]
        },
        {
          "output_type": "stream",
          "name": "stdout",
          "text": [
            "  🔁 Split 3 / 5\n"
          ]
        },
        {
          "output_type": "stream",
          "name": "stderr",
          "text": [
            "<ipython-input-35-27dc8967a4ed>:35: DeprecationWarning: DataFrameGroupBy.apply operated on the grouping columns. This behavior is deprecated, and in a future version of pandas the grouping columns will be excluded from the operation. Either pass `include_groups=False` to exclude the groupings or explicitly select the grouping columns after groupby to silence this warning.\n",
            "  .apply(shuffle_user_rows)\n"
          ]
        },
        {
          "output_type": "stream",
          "name": "stdout",
          "text": [
            "  🔁 Split 4 / 5\n"
          ]
        },
        {
          "output_type": "stream",
          "name": "stderr",
          "text": [
            "<ipython-input-35-27dc8967a4ed>:35: DeprecationWarning: DataFrameGroupBy.apply operated on the grouping columns. This behavior is deprecated, and in a future version of pandas the grouping columns will be excluded from the operation. Either pass `include_groups=False` to exclude the groupings or explicitly select the grouping columns after groupby to silence this warning.\n",
            "  .apply(shuffle_user_rows)\n"
          ]
        },
        {
          "output_type": "stream",
          "name": "stdout",
          "text": [
            "  🔁 Split 5 / 5\n"
          ]
        },
        {
          "output_type": "stream",
          "name": "stderr",
          "text": [
            "<ipython-input-35-27dc8967a4ed>:35: DeprecationWarning: DataFrameGroupBy.apply operated on the grouping columns. This behavior is deprecated, and in a future version of pandas the grouping columns will be excluded from the operation. Either pass `include_groups=False` to exclude the groupings or explicitly select the grouping columns after groupby to silence this warning.\n",
            "  .apply(shuffle_user_rows)\n"
          ]
        },
        {
          "output_type": "stream",
          "name": "stdout",
          "text": [
            "\n",
            "Evaluating for k = 120...\n",
            "  🔁 Split 1 / 5\n"
          ]
        },
        {
          "output_type": "stream",
          "name": "stderr",
          "text": [
            "<ipython-input-35-27dc8967a4ed>:35: DeprecationWarning: DataFrameGroupBy.apply operated on the grouping columns. This behavior is deprecated, and in a future version of pandas the grouping columns will be excluded from the operation. Either pass `include_groups=False` to exclude the groupings or explicitly select the grouping columns after groupby to silence this warning.\n",
            "  .apply(shuffle_user_rows)\n"
          ]
        },
        {
          "output_type": "stream",
          "name": "stdout",
          "text": [
            "  🔁 Split 2 / 5\n"
          ]
        },
        {
          "output_type": "stream",
          "name": "stderr",
          "text": [
            "<ipython-input-35-27dc8967a4ed>:35: DeprecationWarning: DataFrameGroupBy.apply operated on the grouping columns. This behavior is deprecated, and in a future version of pandas the grouping columns will be excluded from the operation. Either pass `include_groups=False` to exclude the groupings or explicitly select the grouping columns after groupby to silence this warning.\n",
            "  .apply(shuffle_user_rows)\n"
          ]
        },
        {
          "output_type": "stream",
          "name": "stdout",
          "text": [
            "  🔁 Split 3 / 5\n"
          ]
        },
        {
          "output_type": "stream",
          "name": "stderr",
          "text": [
            "<ipython-input-35-27dc8967a4ed>:35: DeprecationWarning: DataFrameGroupBy.apply operated on the grouping columns. This behavior is deprecated, and in a future version of pandas the grouping columns will be excluded from the operation. Either pass `include_groups=False` to exclude the groupings or explicitly select the grouping columns after groupby to silence this warning.\n",
            "  .apply(shuffle_user_rows)\n"
          ]
        },
        {
          "output_type": "stream",
          "name": "stdout",
          "text": [
            "  🔁 Split 4 / 5\n"
          ]
        },
        {
          "output_type": "stream",
          "name": "stderr",
          "text": [
            "<ipython-input-35-27dc8967a4ed>:35: DeprecationWarning: DataFrameGroupBy.apply operated on the grouping columns. This behavior is deprecated, and in a future version of pandas the grouping columns will be excluded from the operation. Either pass `include_groups=False` to exclude the groupings or explicitly select the grouping columns after groupby to silence this warning.\n",
            "  .apply(shuffle_user_rows)\n"
          ]
        },
        {
          "output_type": "stream",
          "name": "stdout",
          "text": [
            "  🔁 Split 5 / 5\n"
          ]
        },
        {
          "output_type": "stream",
          "name": "stderr",
          "text": [
            "<ipython-input-35-27dc8967a4ed>:35: DeprecationWarning: DataFrameGroupBy.apply operated on the grouping columns. This behavior is deprecated, and in a future version of pandas the grouping columns will be excluded from the operation. Either pass `include_groups=False` to exclude the groupings or explicitly select the grouping columns after groupby to silence this warning.\n",
            "  .apply(shuffle_user_rows)\n"
          ]
        },
        {
          "output_type": "stream",
          "name": "stdout",
          "text": [
            "\n",
            "Evaluating for k = 130...\n",
            "  🔁 Split 1 / 5\n"
          ]
        },
        {
          "output_type": "stream",
          "name": "stderr",
          "text": [
            "<ipython-input-35-27dc8967a4ed>:35: DeprecationWarning: DataFrameGroupBy.apply operated on the grouping columns. This behavior is deprecated, and in a future version of pandas the grouping columns will be excluded from the operation. Either pass `include_groups=False` to exclude the groupings or explicitly select the grouping columns after groupby to silence this warning.\n",
            "  .apply(shuffle_user_rows)\n"
          ]
        },
        {
          "output_type": "stream",
          "name": "stdout",
          "text": [
            "  🔁 Split 2 / 5\n"
          ]
        },
        {
          "output_type": "stream",
          "name": "stderr",
          "text": [
            "<ipython-input-35-27dc8967a4ed>:35: DeprecationWarning: DataFrameGroupBy.apply operated on the grouping columns. This behavior is deprecated, and in a future version of pandas the grouping columns will be excluded from the operation. Either pass `include_groups=False` to exclude the groupings or explicitly select the grouping columns after groupby to silence this warning.\n",
            "  .apply(shuffle_user_rows)\n"
          ]
        },
        {
          "output_type": "stream",
          "name": "stdout",
          "text": [
            "  🔁 Split 3 / 5\n"
          ]
        },
        {
          "output_type": "stream",
          "name": "stderr",
          "text": [
            "<ipython-input-35-27dc8967a4ed>:35: DeprecationWarning: DataFrameGroupBy.apply operated on the grouping columns. This behavior is deprecated, and in a future version of pandas the grouping columns will be excluded from the operation. Either pass `include_groups=False` to exclude the groupings or explicitly select the grouping columns after groupby to silence this warning.\n",
            "  .apply(shuffle_user_rows)\n"
          ]
        },
        {
          "output_type": "stream",
          "name": "stdout",
          "text": [
            "  🔁 Split 4 / 5\n"
          ]
        },
        {
          "output_type": "stream",
          "name": "stderr",
          "text": [
            "<ipython-input-35-27dc8967a4ed>:35: DeprecationWarning: DataFrameGroupBy.apply operated on the grouping columns. This behavior is deprecated, and in a future version of pandas the grouping columns will be excluded from the operation. Either pass `include_groups=False` to exclude the groupings or explicitly select the grouping columns after groupby to silence this warning.\n",
            "  .apply(shuffle_user_rows)\n"
          ]
        },
        {
          "output_type": "stream",
          "name": "stdout",
          "text": [
            "  🔁 Split 5 / 5\n"
          ]
        },
        {
          "output_type": "stream",
          "name": "stderr",
          "text": [
            "<ipython-input-35-27dc8967a4ed>:35: DeprecationWarning: DataFrameGroupBy.apply operated on the grouping columns. This behavior is deprecated, and in a future version of pandas the grouping columns will be excluded from the operation. Either pass `include_groups=False` to exclude the groupings or explicitly select the grouping columns after groupby to silence this warning.\n",
            "  .apply(shuffle_user_rows)\n"
          ]
        },
        {
          "output_type": "stream",
          "name": "stdout",
          "text": [
            "\n",
            "Evaluating for k = 140...\n",
            "  🔁 Split 1 / 5\n"
          ]
        },
        {
          "output_type": "stream",
          "name": "stderr",
          "text": [
            "<ipython-input-35-27dc8967a4ed>:35: DeprecationWarning: DataFrameGroupBy.apply operated on the grouping columns. This behavior is deprecated, and in a future version of pandas the grouping columns will be excluded from the operation. Either pass `include_groups=False` to exclude the groupings or explicitly select the grouping columns after groupby to silence this warning.\n",
            "  .apply(shuffle_user_rows)\n"
          ]
        },
        {
          "output_type": "stream",
          "name": "stdout",
          "text": [
            "  🔁 Split 2 / 5\n"
          ]
        },
        {
          "output_type": "stream",
          "name": "stderr",
          "text": [
            "<ipython-input-35-27dc8967a4ed>:35: DeprecationWarning: DataFrameGroupBy.apply operated on the grouping columns. This behavior is deprecated, and in a future version of pandas the grouping columns will be excluded from the operation. Either pass `include_groups=False` to exclude the groupings or explicitly select the grouping columns after groupby to silence this warning.\n",
            "  .apply(shuffle_user_rows)\n"
          ]
        },
        {
          "output_type": "stream",
          "name": "stdout",
          "text": [
            "  🔁 Split 3 / 5\n"
          ]
        },
        {
          "output_type": "stream",
          "name": "stderr",
          "text": [
            "<ipython-input-35-27dc8967a4ed>:35: DeprecationWarning: DataFrameGroupBy.apply operated on the grouping columns. This behavior is deprecated, and in a future version of pandas the grouping columns will be excluded from the operation. Either pass `include_groups=False` to exclude the groupings or explicitly select the grouping columns after groupby to silence this warning.\n",
            "  .apply(shuffle_user_rows)\n"
          ]
        },
        {
          "output_type": "stream",
          "name": "stdout",
          "text": [
            "  🔁 Split 4 / 5\n"
          ]
        },
        {
          "output_type": "stream",
          "name": "stderr",
          "text": [
            "<ipython-input-35-27dc8967a4ed>:35: DeprecationWarning: DataFrameGroupBy.apply operated on the grouping columns. This behavior is deprecated, and in a future version of pandas the grouping columns will be excluded from the operation. Either pass `include_groups=False` to exclude the groupings or explicitly select the grouping columns after groupby to silence this warning.\n",
            "  .apply(shuffle_user_rows)\n"
          ]
        },
        {
          "output_type": "stream",
          "name": "stdout",
          "text": [
            "  🔁 Split 5 / 5\n"
          ]
        },
        {
          "output_type": "stream",
          "name": "stderr",
          "text": [
            "<ipython-input-35-27dc8967a4ed>:35: DeprecationWarning: DataFrameGroupBy.apply operated on the grouping columns. This behavior is deprecated, and in a future version of pandas the grouping columns will be excluded from the operation. Either pass `include_groups=False` to exclude the groupings or explicitly select the grouping columns after groupby to silence this warning.\n",
            "  .apply(shuffle_user_rows)\n"
          ]
        },
        {
          "output_type": "stream",
          "name": "stdout",
          "text": [
            "\n",
            "Evaluating for k = 150...\n",
            "  🔁 Split 1 / 5\n"
          ]
        },
        {
          "output_type": "stream",
          "name": "stderr",
          "text": [
            "<ipython-input-35-27dc8967a4ed>:35: DeprecationWarning: DataFrameGroupBy.apply operated on the grouping columns. This behavior is deprecated, and in a future version of pandas the grouping columns will be excluded from the operation. Either pass `include_groups=False` to exclude the groupings or explicitly select the grouping columns after groupby to silence this warning.\n",
            "  .apply(shuffle_user_rows)\n"
          ]
        },
        {
          "output_type": "stream",
          "name": "stdout",
          "text": [
            "  🔁 Split 2 / 5\n"
          ]
        },
        {
          "output_type": "stream",
          "name": "stderr",
          "text": [
            "<ipython-input-35-27dc8967a4ed>:35: DeprecationWarning: DataFrameGroupBy.apply operated on the grouping columns. This behavior is deprecated, and in a future version of pandas the grouping columns will be excluded from the operation. Either pass `include_groups=False` to exclude the groupings or explicitly select the grouping columns after groupby to silence this warning.\n",
            "  .apply(shuffle_user_rows)\n"
          ]
        },
        {
          "output_type": "stream",
          "name": "stdout",
          "text": [
            "  🔁 Split 3 / 5\n"
          ]
        },
        {
          "output_type": "stream",
          "name": "stderr",
          "text": [
            "<ipython-input-35-27dc8967a4ed>:35: DeprecationWarning: DataFrameGroupBy.apply operated on the grouping columns. This behavior is deprecated, and in a future version of pandas the grouping columns will be excluded from the operation. Either pass `include_groups=False` to exclude the groupings or explicitly select the grouping columns after groupby to silence this warning.\n",
            "  .apply(shuffle_user_rows)\n"
          ]
        },
        {
          "output_type": "stream",
          "name": "stdout",
          "text": [
            "  🔁 Split 4 / 5\n"
          ]
        },
        {
          "output_type": "stream",
          "name": "stderr",
          "text": [
            "<ipython-input-35-27dc8967a4ed>:35: DeprecationWarning: DataFrameGroupBy.apply operated on the grouping columns. This behavior is deprecated, and in a future version of pandas the grouping columns will be excluded from the operation. Either pass `include_groups=False` to exclude the groupings or explicitly select the grouping columns after groupby to silence this warning.\n",
            "  .apply(shuffle_user_rows)\n"
          ]
        },
        {
          "output_type": "stream",
          "name": "stdout",
          "text": [
            "  🔁 Split 5 / 5\n"
          ]
        },
        {
          "output_type": "stream",
          "name": "stderr",
          "text": [
            "<ipython-input-35-27dc8967a4ed>:35: DeprecationWarning: DataFrameGroupBy.apply operated on the grouping columns. This behavior is deprecated, and in a future version of pandas the grouping columns will be excluded from the operation. Either pass `include_groups=False` to exclude the groupings or explicitly select the grouping columns after groupby to silence this warning.\n",
            "  .apply(shuffle_user_rows)\n"
          ]
        },
        {
          "output_type": "stream",
          "name": "stdout",
          "text": [
            "\n",
            "Evaluating for k = 160...\n",
            "  🔁 Split 1 / 5\n"
          ]
        },
        {
          "output_type": "stream",
          "name": "stderr",
          "text": [
            "<ipython-input-35-27dc8967a4ed>:35: DeprecationWarning: DataFrameGroupBy.apply operated on the grouping columns. This behavior is deprecated, and in a future version of pandas the grouping columns will be excluded from the operation. Either pass `include_groups=False` to exclude the groupings or explicitly select the grouping columns after groupby to silence this warning.\n",
            "  .apply(shuffle_user_rows)\n"
          ]
        },
        {
          "output_type": "stream",
          "name": "stdout",
          "text": [
            "  🔁 Split 2 / 5\n"
          ]
        },
        {
          "output_type": "stream",
          "name": "stderr",
          "text": [
            "<ipython-input-35-27dc8967a4ed>:35: DeprecationWarning: DataFrameGroupBy.apply operated on the grouping columns. This behavior is deprecated, and in a future version of pandas the grouping columns will be excluded from the operation. Either pass `include_groups=False` to exclude the groupings or explicitly select the grouping columns after groupby to silence this warning.\n",
            "  .apply(shuffle_user_rows)\n"
          ]
        },
        {
          "output_type": "stream",
          "name": "stdout",
          "text": [
            "  🔁 Split 3 / 5\n"
          ]
        },
        {
          "output_type": "stream",
          "name": "stderr",
          "text": [
            "<ipython-input-35-27dc8967a4ed>:35: DeprecationWarning: DataFrameGroupBy.apply operated on the grouping columns. This behavior is deprecated, and in a future version of pandas the grouping columns will be excluded from the operation. Either pass `include_groups=False` to exclude the groupings or explicitly select the grouping columns after groupby to silence this warning.\n",
            "  .apply(shuffle_user_rows)\n"
          ]
        },
        {
          "output_type": "stream",
          "name": "stdout",
          "text": [
            "  🔁 Split 4 / 5\n"
          ]
        },
        {
          "output_type": "stream",
          "name": "stderr",
          "text": [
            "<ipython-input-35-27dc8967a4ed>:35: DeprecationWarning: DataFrameGroupBy.apply operated on the grouping columns. This behavior is deprecated, and in a future version of pandas the grouping columns will be excluded from the operation. Either pass `include_groups=False` to exclude the groupings or explicitly select the grouping columns after groupby to silence this warning.\n",
            "  .apply(shuffle_user_rows)\n"
          ]
        },
        {
          "output_type": "stream",
          "name": "stdout",
          "text": [
            "  🔁 Split 5 / 5\n"
          ]
        },
        {
          "output_type": "stream",
          "name": "stderr",
          "text": [
            "<ipython-input-35-27dc8967a4ed>:35: DeprecationWarning: DataFrameGroupBy.apply operated on the grouping columns. This behavior is deprecated, and in a future version of pandas the grouping columns will be excluded from the operation. Either pass `include_groups=False` to exclude the groupings or explicitly select the grouping columns after groupby to silence this warning.\n",
            "  .apply(shuffle_user_rows)\n"
          ]
        },
        {
          "output_type": "stream",
          "name": "stdout",
          "text": [
            "\n",
            "Evaluating for k = 170...\n",
            "  🔁 Split 1 / 5\n"
          ]
        },
        {
          "output_type": "stream",
          "name": "stderr",
          "text": [
            "<ipython-input-35-27dc8967a4ed>:35: DeprecationWarning: DataFrameGroupBy.apply operated on the grouping columns. This behavior is deprecated, and in a future version of pandas the grouping columns will be excluded from the operation. Either pass `include_groups=False` to exclude the groupings or explicitly select the grouping columns after groupby to silence this warning.\n",
            "  .apply(shuffle_user_rows)\n"
          ]
        },
        {
          "output_type": "stream",
          "name": "stdout",
          "text": [
            "  🔁 Split 2 / 5\n"
          ]
        },
        {
          "output_type": "stream",
          "name": "stderr",
          "text": [
            "<ipython-input-35-27dc8967a4ed>:35: DeprecationWarning: DataFrameGroupBy.apply operated on the grouping columns. This behavior is deprecated, and in a future version of pandas the grouping columns will be excluded from the operation. Either pass `include_groups=False` to exclude the groupings or explicitly select the grouping columns after groupby to silence this warning.\n",
            "  .apply(shuffle_user_rows)\n"
          ]
        },
        {
          "output_type": "stream",
          "name": "stdout",
          "text": [
            "  🔁 Split 3 / 5\n"
          ]
        },
        {
          "output_type": "stream",
          "name": "stderr",
          "text": [
            "<ipython-input-35-27dc8967a4ed>:35: DeprecationWarning: DataFrameGroupBy.apply operated on the grouping columns. This behavior is deprecated, and in a future version of pandas the grouping columns will be excluded from the operation. Either pass `include_groups=False` to exclude the groupings or explicitly select the grouping columns after groupby to silence this warning.\n",
            "  .apply(shuffle_user_rows)\n"
          ]
        },
        {
          "output_type": "stream",
          "name": "stdout",
          "text": [
            "  🔁 Split 4 / 5\n"
          ]
        },
        {
          "output_type": "stream",
          "name": "stderr",
          "text": [
            "<ipython-input-35-27dc8967a4ed>:35: DeprecationWarning: DataFrameGroupBy.apply operated on the grouping columns. This behavior is deprecated, and in a future version of pandas the grouping columns will be excluded from the operation. Either pass `include_groups=False` to exclude the groupings or explicitly select the grouping columns after groupby to silence this warning.\n",
            "  .apply(shuffle_user_rows)\n"
          ]
        },
        {
          "output_type": "stream",
          "name": "stdout",
          "text": [
            "  🔁 Split 5 / 5\n"
          ]
        },
        {
          "output_type": "stream",
          "name": "stderr",
          "text": [
            "<ipython-input-35-27dc8967a4ed>:35: DeprecationWarning: DataFrameGroupBy.apply operated on the grouping columns. This behavior is deprecated, and in a future version of pandas the grouping columns will be excluded from the operation. Either pass `include_groups=False` to exclude the groupings or explicitly select the grouping columns after groupby to silence this warning.\n",
            "  .apply(shuffle_user_rows)\n"
          ]
        },
        {
          "output_type": "stream",
          "name": "stdout",
          "text": [
            "\n",
            "Evaluating for k = 180...\n",
            "  🔁 Split 1 / 5\n"
          ]
        },
        {
          "output_type": "stream",
          "name": "stderr",
          "text": [
            "<ipython-input-35-27dc8967a4ed>:35: DeprecationWarning: DataFrameGroupBy.apply operated on the grouping columns. This behavior is deprecated, and in a future version of pandas the grouping columns will be excluded from the operation. Either pass `include_groups=False` to exclude the groupings or explicitly select the grouping columns after groupby to silence this warning.\n",
            "  .apply(shuffle_user_rows)\n"
          ]
        },
        {
          "output_type": "stream",
          "name": "stdout",
          "text": [
            "  🔁 Split 2 / 5\n"
          ]
        },
        {
          "output_type": "stream",
          "name": "stderr",
          "text": [
            "<ipython-input-35-27dc8967a4ed>:35: DeprecationWarning: DataFrameGroupBy.apply operated on the grouping columns. This behavior is deprecated, and in a future version of pandas the grouping columns will be excluded from the operation. Either pass `include_groups=False` to exclude the groupings or explicitly select the grouping columns after groupby to silence this warning.\n",
            "  .apply(shuffle_user_rows)\n"
          ]
        },
        {
          "output_type": "stream",
          "name": "stdout",
          "text": [
            "  🔁 Split 3 / 5\n"
          ]
        },
        {
          "output_type": "stream",
          "name": "stderr",
          "text": [
            "<ipython-input-35-27dc8967a4ed>:35: DeprecationWarning: DataFrameGroupBy.apply operated on the grouping columns. This behavior is deprecated, and in a future version of pandas the grouping columns will be excluded from the operation. Either pass `include_groups=False` to exclude the groupings or explicitly select the grouping columns after groupby to silence this warning.\n",
            "  .apply(shuffle_user_rows)\n"
          ]
        },
        {
          "output_type": "stream",
          "name": "stdout",
          "text": [
            "  🔁 Split 4 / 5\n"
          ]
        },
        {
          "output_type": "stream",
          "name": "stderr",
          "text": [
            "<ipython-input-35-27dc8967a4ed>:35: DeprecationWarning: DataFrameGroupBy.apply operated on the grouping columns. This behavior is deprecated, and in a future version of pandas the grouping columns will be excluded from the operation. Either pass `include_groups=False` to exclude the groupings or explicitly select the grouping columns after groupby to silence this warning.\n",
            "  .apply(shuffle_user_rows)\n"
          ]
        },
        {
          "output_type": "stream",
          "name": "stdout",
          "text": [
            "  🔁 Split 5 / 5\n"
          ]
        },
        {
          "output_type": "stream",
          "name": "stderr",
          "text": [
            "<ipython-input-35-27dc8967a4ed>:35: DeprecationWarning: DataFrameGroupBy.apply operated on the grouping columns. This behavior is deprecated, and in a future version of pandas the grouping columns will be excluded from the operation. Either pass `include_groups=False` to exclude the groupings or explicitly select the grouping columns after groupby to silence this warning.\n",
            "  .apply(shuffle_user_rows)\n"
          ]
        },
        {
          "output_type": "stream",
          "name": "stdout",
          "text": [
            "\n",
            "Evaluating for k = 190...\n",
            "  🔁 Split 1 / 5\n"
          ]
        },
        {
          "output_type": "stream",
          "name": "stderr",
          "text": [
            "<ipython-input-35-27dc8967a4ed>:35: DeprecationWarning: DataFrameGroupBy.apply operated on the grouping columns. This behavior is deprecated, and in a future version of pandas the grouping columns will be excluded from the operation. Either pass `include_groups=False` to exclude the groupings or explicitly select the grouping columns after groupby to silence this warning.\n",
            "  .apply(shuffle_user_rows)\n"
          ]
        },
        {
          "output_type": "stream",
          "name": "stdout",
          "text": [
            "  🔁 Split 2 / 5\n"
          ]
        },
        {
          "output_type": "stream",
          "name": "stderr",
          "text": [
            "<ipython-input-35-27dc8967a4ed>:35: DeprecationWarning: DataFrameGroupBy.apply operated on the grouping columns. This behavior is deprecated, and in a future version of pandas the grouping columns will be excluded from the operation. Either pass `include_groups=False` to exclude the groupings or explicitly select the grouping columns after groupby to silence this warning.\n",
            "  .apply(shuffle_user_rows)\n"
          ]
        },
        {
          "output_type": "stream",
          "name": "stdout",
          "text": [
            "  🔁 Split 3 / 5\n"
          ]
        },
        {
          "output_type": "stream",
          "name": "stderr",
          "text": [
            "<ipython-input-35-27dc8967a4ed>:35: DeprecationWarning: DataFrameGroupBy.apply operated on the grouping columns. This behavior is deprecated, and in a future version of pandas the grouping columns will be excluded from the operation. Either pass `include_groups=False` to exclude the groupings or explicitly select the grouping columns after groupby to silence this warning.\n",
            "  .apply(shuffle_user_rows)\n"
          ]
        },
        {
          "output_type": "stream",
          "name": "stdout",
          "text": [
            "  🔁 Split 4 / 5\n"
          ]
        },
        {
          "output_type": "stream",
          "name": "stderr",
          "text": [
            "<ipython-input-35-27dc8967a4ed>:35: DeprecationWarning: DataFrameGroupBy.apply operated on the grouping columns. This behavior is deprecated, and in a future version of pandas the grouping columns will be excluded from the operation. Either pass `include_groups=False` to exclude the groupings or explicitly select the grouping columns after groupby to silence this warning.\n",
            "  .apply(shuffle_user_rows)\n"
          ]
        },
        {
          "output_type": "stream",
          "name": "stdout",
          "text": [
            "  🔁 Split 5 / 5\n"
          ]
        },
        {
          "output_type": "stream",
          "name": "stderr",
          "text": [
            "<ipython-input-35-27dc8967a4ed>:35: DeprecationWarning: DataFrameGroupBy.apply operated on the grouping columns. This behavior is deprecated, and in a future version of pandas the grouping columns will be excluded from the operation. Either pass `include_groups=False` to exclude the groupings or explicitly select the grouping columns after groupby to silence this warning.\n",
            "  .apply(shuffle_user_rows)\n"
          ]
        },
        {
          "output_type": "stream",
          "name": "stdout",
          "text": [
            "\n",
            "🏆 Best k = 70 with average Precision@10 = 0.0464\n"
          ]
        },
        {
          "output_type": "display_data",
          "data": {
            "text/plain": [
              "<Figure size 1000x500 with 1 Axes>"
            ],
            "image/png": "[encoded data removed]"
          },
          "metadata": {}
        }
      ]
    },
    {
      "cell_type": "markdown",
      "metadata": {
        "id": "LxtVflCUCeJn"
      },
      "source": [
        "## Task 5: Evaluating Our Recommenders"
      ]
    },
    {
      "cell_type": "markdown",
      "metadata": {
        "id": "iKOIA-MKCeJo"
      },
      "source": [
        "#### Ranking Accurarcy (Precision@K and Recall@K)\n",
        "\n",
        "An implicit recommendation system is a ranking system which ranks items for each user based on their relevance to the user. Therefore, to evaluate such system, we’re interested in the quality of the top ranked recommendations rather than the actual predicted score for each recommendation. **Precision@K** and **Recall@K** focus on the top-K items recommended for each user, measuring relevance of the top-ranked recommended items to a user.\n",
        "\n",
        "- **Precision@K**: Measures the proportion of relevant items in the top-K recommendations.\n",
        "  \n",
        "  \\begin{equation}\n",
        "  \\text{Precision@K} = \\frac{\\text{Number of relevant items in top-K}}{K}\n",
        "  \\end{equation}\n",
        "\n",
        "- **Recall@K**: Measures the proportion of actual relevant items that appear in the top-K recommendations.\n",
        "\n",
        "  \\begin{equation}\n",
        "  \\text{Recall@K} = \\frac{\\text{Number of relevant items in top-K}}{\\text{Total number of relevant items}}\n",
        "  \\end{equation}\n",
        "\n",
        "Recall@k and Precision@k are metrics that are computed per user. To have a single value to evaluate a recommender system as a whole, we can take the average of Recall@K and Precision@K among all of the users."
      ]
    },
    {
      "cell_type": "markdown",
      "metadata": {
        "id": "UzPzKqEIhO4x"
      },
      "source": [
        "### Your Turn !\n",
        "\n",
        "As an exercise, complete the function precision_recall_at_k below to calculate Precision@K and Recall@K for a given value of K. Follow the instructions provided in the function to fill in the missing parts."
      ]
    },
    {
      "cell_type": "code",
      "execution_count": null,
      "metadata": {
        "id": "7f096JBcCeJo"
      },
      "outputs": [],
      "source": [
        "# Implement the precision_recall_at_k function\n",
        "def precision_recall_at_k(prediction, ground_truth, k=10):\n",
        "    \"\"\"\n",
        "    Calculates Precision@K and Recall@K for top-K recommendations.\n",
        "    Parameters:\n",
        "        prediction (numpy array): The predicted interaction matrix with scores.\n",
        "        ground_truth (numpy array): The ground truth interaction matrix (binary).\n",
        "        k (int): Number of top recommendations to consider.\n",
        "    Returns:\n",
        "        precision_at_k (float): The average precision@K over all users.\n",
        "        recall_at_k (float): The average recall@K over all users.\n",
        "    \"\"\"\n",
        "    num_users = prediction.shape[0]\n",
        "    precision_at_k, recall_at_k = 0, 0\n",
        "\n",
        "    for user in range(num_users):\n",
        "        # TODO: Get the indices of the top-K items for the user based on predicted scores\n",
        "        top_k_items = np.argsort(prediction[user, :])[-k:]\n",
        "\n",
        "        # TODO: Calculate the number of relevant items in the top-K items for the user\n",
        "        relevant_items_in_top_k = np.isin(top_k_items, np.where(ground_truth[user, :] == 1)[0]).sum()\n",
        "\n",
        "        # TODO: Calculate the total number of relevant items for the user\n",
        "        total_relevant_items = ground_truth[user, :].sum()\n",
        "\n",
        "        # Precision@K and Recall@K for this user\n",
        "        precision_at_k += relevant_items_in_top_k / k\n",
        "        recall_at_k += relevant_items_in_top_k / total_relevant_items if total_relevant_items > 0 else 0\n",
        "\n",
        "    # Average Precision@K and Recall@K over all users\n",
        "    precision_at_k /= num_users\n",
        "    recall_at_k /= num_users\n",
        "\n",
        "    return precision_at_k, recall_at_k\n"
      ]
    },
    {
      "cell_type": "markdown",
      "metadata": {
        "id": "DxFMp_tchO4x"
      },
      "source": [
        "After completing the function, you can calculate Precision@K and Recall@K for the user-based and item-based predictions as follows:\n",
        "\n"
      ]
    },
    {
      "cell_type": "code",
      "execution_count": null,
      "metadata": {
        "id": "W7i8xI3khO4y"
      },
      "outputs": [],
      "source": [
        "# Run this line after implementing the function\n",
        "precision_user_k, recall_user_k = precision_recall_at_k(user_prediction, test_data_matrix, k=10)\n",
        "precision_item_k, recall_item_k = precision_recall_at_k(item_prediction, test_data_matrix, k=10)\n",
        "\n",
        "print('User-based CF Precision@K:', precision_user_k)\n",
        "print('User-based CF Recall@K:', recall_user_k)\n",
        "print('Item-based CF Precision@K:', precision_item_k)\n",
        "print('Item-based CF Recall@K:', recall_item_k)\n"
      ]
    },
    {
      "cell_type": "markdown",
      "metadata": {
        "id": "nRhr1MC7a2yO"
      },
      "source": [
        "## Task 6: Show the Recommendations for a Specific User\n",
        "\n",
        "Pick a user at random. Extract the top-10 recommendations for this user by both the User-to-User and Item-to-Item Collaborative Filtering models. Present the recommendations by showing the movie posters.\n",
        "\n",
        "__Hint:__ You can get the movie posters from the TMDb API. In the `links` DataFrame, you’ll find the TMDb ID corresponding to each movie. Using this ID, retrieve the movie poster and display it."
      ]
    },
    {
      "cell_type": "markdown",
      "metadata": {
        "id": "US_DyZM-hO4y"
      },
      "source": [
        "### Step 6.1: Select a User and Get Recommendations\n",
        "\n",
        "Start by selecting a user at random, and then extract the top-10 recommended movies for that user from both the User-to-User and Item-to-Item models."
      ]
    },
    {
      "cell_type": "code",
      "execution_count": null,
      "metadata": {
        "id": "PcKFbtO6b25l"
      },
      "outputs": [],
      "source": [
        "# Pick a user at random\n",
        "user_id = random.choice(range(user_prediction_knn.shape[0]))\n",
        "print(\"Selected User ID:\", user_id)\n",
        "\n",
        "# Get top-10 recommendations for the user from User-to-User CF\n",
        "user_top_10 = np.argsort(user_prediction_knn[user_id, :])[-10:][::-1]\n",
        "\n",
        "# Get top-10 recommendations for the user from Item-to-Item CF\n",
        "item_top_10 = np.argsort(item_prediction_knn[user_id, :])[-10:][::-1]\n",
        "\n",
        "# Display top-10 recommended movie IDs for both models\n",
        "display(user_top_10)\n",
        "display(item_top_10)"
      ]
    },
    {
      "cell_type": "code",
      "source": [
        "def create_recommendation_table(user_predictions, top_n=10, separator=\" \"):\n",
        "    \"\"\"\n",
        "    Creates a table of top-N recommendations for each user.\n",
        "\n",
        "    Args:\n",
        "        user_predictions (numpy.ndarray): Rows = users, columns = items. Predicted scores.\n",
        "        top_n (int): Number of top recommendations per user.\n",
        "        separator (str): Delimiter to join recommended book IDs.\n",
        "\n",
        "    Returns:\n",
        "        pandas.DataFrame: Columns = ['user_id', 'recommendation'].\n",
        "    \"\"\"\n",
        "    recommendations = []\n",
        "    num_users = user_prediction_knn.shape[0]\n",
        "\n",
        "    for user_id in range(num_users):\n",
        "        top_items = np.argsort(user_prediction_knn[user_id, :])[-top_n:][::-1]\n",
        "        recommendations.append({\n",
        "            'user_id': user_id,\n",
        "            'recommendation': separator.join(map(str, top_items))\n",
        "        })\n",
        "\n",
        "    return pd.DataFrame(recommendations)\n",
        "\n",
        "# Example usage with space-separated book_ids\n",
        "user_recommendation_knn_df = create_recommendation_table(user_prediction_knn, top_n=10, separator=\" \")\n",
        "item_recommendation_knn_df = create_recommendation_table(item_prediction_knn, top_n=10, separator=\" \")\n",
        "\n",
        "# Save and display\n",
        "user_recommendation_knn_df.to_csv('user_recommendations_knn.csv', index=False)\n",
        "item_recommendation_knn_df.to_csv('item_recommendations_knn.csv', index=False)\n",
        "\n",
        "print(\"User-based-knn Recommendations:\")\n",
        "display(user_recommendation_knn_df)\n",
        "\n",
        "print(\"\\nItem-based-knn Recommendations:\")\n",
        "display(item_recommendation_knn_df)"
      ],
      "metadata": {
        "id": "aBb3xg6S_hc_"
      },
      "execution_count": null,
      "outputs": []
    },
    {
      "cell_type": "markdown",
      "metadata": {
        "id": "FNhtZnnOhO4z"
      },
      "source": [
        "### Step 6.2: Create Recommendation DataFrames\n",
        "\n",
        "Merge the recommendations with the `item` and DataFrames to create two DataFrames (`user_recommendations_df` and `item_recommendations_df`) with columns `book_id`, `title`\n"
      ]
    },
    {
      "cell_type": "code",
      "execution_count": null,
      "metadata": {
        "id": "j5zJuIVXhO4z"
      },
      "outputs": [],
      "source": [
        "# Convert user_top_10 and item_top_10 arrays into DataFrames\n",
        "user_top_10_df = pd.DataFrame({'book_id': user_top_10})\n",
        "item_top_10_df = pd.DataFrame({'book_id': item_top_10})\n",
        "\n",
        "# Merge with items_df to add the title column\n",
        "user_recommendations_df = user_top_10_df.merge(items[['book_id', 'Title']], left_on='book_id', right_on='book_id')\n",
        "item_recommendations_df = item_top_10_df.merge(items[['book_id', 'Title']], left_on='book_id', right_on='book_id')\n",
        "\n",
        "# Select only the columns we want to display\n",
        "user_recommendations_df = user_recommendations_df[['book_id', 'Title']]\n",
        "item_recommendations_df = item_recommendations_df[['book_id', 'Title']]\n",
        "\n",
        "# Display the results\n",
        "display(user_recommendations_df)\n",
        "display(item_recommendations_df)"
      ]
    },
    {
      "cell_type": "markdown",
      "metadata": {
        "id": "GP_tmmhBhO4z"
      },
      "source": [
        "### Fetching and Displaying Movie Posters\n",
        "\n",
        "The following code uses the **TMDb API** to fetch movie posters based on the `tmdbId` of each recommended movie. The `fetch_poster` function retrieves the movie poster URL, and the `show_recommendations` function displays the posters for the top-10 recommendations.\n",
        "\n",
        "You’ll use these functions in the next step to display the movie recommendations for a specific user."
      ]
    },
    {
      "cell_type": "code",
      "execution_count": null,
      "metadata": {
        "id": "NKQo_nIFhO40"
      },
      "outputs": [],
      "source": [
        "%pip install tmdbv3api"
      ]
    },
    {
      "cell_type": "code",
      "execution_count": null,
      "metadata": {
        "id": "lU7GidcAhO40"
      },
      "outputs": [],
      "source": [
        "from tmdbv3api import TMDb, Movie\n",
        "import pandas as pd\n",
        "\n",
        "# Set up the TMDb API with your API key\n",
        "tmdb = TMDb()\n",
        "tmdb.api_key = '37117cc09d5e00673f14f1cb7c7468b2'  # Replace with your actual TMDb API key\n",
        "\n",
        "movie_api = Movie()\n",
        "\n",
        "# Function to fetch movie posters\n",
        "def fetch_poster(tmdb_id):\n",
        "    try:\n",
        "        details = movie_api.details(tmdb_id)\n",
        "        poster_path = details.poster_path\n",
        "        return f\"https://image.tmdb.org/t/p/w200{poster_path}\" if poster_path else None\n",
        "    except:\n",
        "        return None"
      ]
    },
    {
      "cell_type": "markdown",
      "metadata": {
        "id": "Udpk6xxThO40"
      },
      "source": [
        "#### Displaying Movie Posters for Top-10 Recommendations\n",
        "\n",
        "In this step, you’ll complete the `show_recommendations` function to display the movie posters for the top-10 recommendations for a specific user, using the `tmdbId` from the `links` DataFrame.\n",
        "\n",
        "1. **Fetch the `tmdbId`** for each movie in the recommendations:\n",
        "   - Use the `links` DataFrame to retrieve the `tmdbId` for each recommended `movie_id`.\n",
        "   - This `tmdbId` is then used to fetch the poster image via the TMDb API.\n",
        "\n",
        "2. **Fetch and Display the Poster Image**:\n",
        "   - Use the `fetch_poster` function (already defined) to get the poster URL based on the `tmdbId`.\n",
        "   - If the poster URL is available, retrieve the image using the `requests` library and display it in the subplot.\n",
        "   - If no poster is available, show a \"No Image\" placeholder text.\n",
        "\n",
        "Here’s the code with placeholders where you need to complete each step:"
      ]
    },
    {
      "cell_type": "code",
      "execution_count": null,
      "metadata": {
        "id": "6mfxE5C3hO40"
      },
      "outputs": [],
      "source": [
        "import matplotlib.pyplot as plt\n",
        "import requests\n",
        "from PIL import Image\n",
        "from io import BytesIO\n",
        "\n",
        "def show_recommendations(recommendations, model_name):\n",
        "    \"\"\"\n",
        "    Displays the movie posters for the top-10 recommended movies.\n",
        "\n",
        "    Parameters:\n",
        "    - recommendations: List or array of recommended movie IDs.\n",
        "    - model_name: Name of the recommendation model (e.g., \"User-to-User CF\" or \"Item-to-Item CF\").\n",
        "    \"\"\"\n",
        "    fig, axes = plt.subplots(1, len(recommendations), figsize=(20, 5))\n",
        "    fig.suptitle(f\"Top-10 Recommendations for User {user_id} - {model_name}\", fontsize=16)\n",
        "\n",
        "    for i, movie_id in enumerate(recommendations):\n",
        "        # Step 1: Fetch the `tmdbId` for the movie from the `links` DataFrame\n",
        "        # - Use `movie_id` to locate the corresponding `tmdbId`\n",
        "        # - Ensure `tmdb_id` is extracted as an integer\n",
        "        tmdb_id = links.loc[links['movie_id'] == movie_id, 'tmdbId'].values\n",
        "        if len(tmdb_id) == 0:\n",
        "            axes[i].axis('off')\n",
        "            continue\n",
        "\n",
        "        # Step 2: Fetch the poster URL using the `fetch_poster` function\n",
        "        # - Pass `tmdb_id[0]` to `fetch_poster` and store the result in `poster_url`\n",
        "        poster_url = fetch_poster(int(tmdb_id[0]))\n",
        "\n",
        "        # Step 3: Display the poster image if available\n",
        "        # - If `poster_url` is valid, use `requests` to get the image and display it\n",
        "        # - If `poster_url` is None, display \"No Image\" text in the placeholder\n",
        "        if poster_url:\n",
        "            response = requests.get(poster_url)\n",
        "            img = Image.open(BytesIO(response.content))\n",
        "            axes[i].imshow(img)\n",
        "            axes[i].axis('off')\n",
        "        else:\n",
        "            axes[i].text(0.5, 0.5, \"No Image\", ha='center', va='center')\n",
        "            axes[i].axis('off')\n",
        "\n",
        "    plt.show()\n",
        "\n",
        "# Example usage after completing the TODOs:\n",
        "# Display top-10 recommendations for User-to-User CF\n",
        "show_recommendations(user_top_10, \"User-to-User CF\")\n",
        "\n",
        "# Display top-10 recommendations for Item-to-Item CF\n",
        "show_recommendations(item_top_10, \"Item-to-Item CF\")"
      ]
    }
  ],
  "metadata": {
    "anaconda-cloud": {},
    "colab": {
      "provenance": [],
      "include_colab_link": true
    },
    "kernelspec": {
      "display_name": "intro-ml",
      "language": "python",
      "name": "python3"
    },
    "language_info": {
      "codemirror_mode": {
        "name": "ipython",
        "version": 3
      },
      "file_extension": ".py",
      "mimetype": "text/x-python",
      "name": "python",
      "nbconvert_exporter": "python",
      "pygments_lexer": "ipython3",
      "version": "3.12.9"
    }
  },
  "nbformat": 4,
  "nbformat_minor": 0
}