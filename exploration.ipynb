{
 "cells": [
  {
   "cell_type": "markdown",
   "id": "829a321b",
   "metadata": {},
   "source": [
    "# Recommender library competition \n",
    "## By Amélie Madrona & Linne Verhoeven\n",
    "Link to the [kaggle competition](https://www.kaggle.com/competitions/library-recommender-competition/overview)\n",
    "\n",
    "Goal:\n",
    "* Train recommender system on training interactions data\n",
    "* Generate recommendations for each user ID in the dataset. \n",
    "* Provide the top 10 recommendations of your model for each user\n",
    "* Make sure that your submission file has the same format as the sample_submission.csv file in the Data tab (i.e. separated by a space)"
   ]
  },
  {
   "cell_type": "code",
   "execution_count": 9,
   "id": "b7bb1f67",
   "metadata": {},
   "outputs": [],
   "source": [
    "import pandas as pd\n",
    "import numpy as np\n",
    "import matplotlib.pyplot as plt\n",
    "import re\n",
    "from bertopic import BERTopic\n",
    "import seaborn as sns"
   ]
  },
  {
   "cell_type": "code",
   "execution_count": 4,
   "id": "3479143d",
   "metadata": {},
   "outputs": [
    {
     "name": "stdout",
     "output_type": "stream",
     "text": [
      "(87047, 3)\n"
     ]
    },
    {
     "data": {
      "text/html": [
       "<div>\n",
       "<style scoped>\n",
       "    .dataframe tbody tr th:only-of-type {\n",
       "        vertical-align: middle;\n",
       "    }\n",
       "\n",
       "    .dataframe tbody tr th {\n",
       "        vertical-align: top;\n",
       "    }\n",
       "\n",
       "    .dataframe thead th {\n",
       "        text-align: right;\n",
       "    }\n",
       "</style>\n",
       "<table border=\"1\" class=\"dataframe\">\n",
       "  <thead>\n",
       "    <tr style=\"text-align: right;\">\n",
       "      <th></th>\n",
       "      <th>u</th>\n",
       "      <th>i</th>\n",
       "      <th>t</th>\n",
       "    </tr>\n",
       "  </thead>\n",
       "  <tbody>\n",
       "    <tr>\n",
       "      <th>0</th>\n",
       "      <td>4456</td>\n",
       "      <td>8581</td>\n",
       "      <td>2023-06-23 17:24:46</td>\n",
       "    </tr>\n",
       "    <tr>\n",
       "      <th>1</th>\n",
       "      <td>142</td>\n",
       "      <td>1964</td>\n",
       "      <td>2023-03-23 15:30:06</td>\n",
       "    </tr>\n",
       "    <tr>\n",
       "      <th>2</th>\n",
       "      <td>362</td>\n",
       "      <td>3705</td>\n",
       "      <td>2024-02-02 11:00:59</td>\n",
       "    </tr>\n",
       "    <tr>\n",
       "      <th>3</th>\n",
       "      <td>1809</td>\n",
       "      <td>11317</td>\n",
       "      <td>2023-01-12 14:19:22</td>\n",
       "    </tr>\n",
       "    <tr>\n",
       "      <th>4</th>\n",
       "      <td>4384</td>\n",
       "      <td>1323</td>\n",
       "      <td>2023-04-13 16:09:22</td>\n",
       "    </tr>\n",
       "  </tbody>\n",
       "</table>\n",
       "</div>"
      ],
      "text/plain": [
       "      u      i                   t\n",
       "0  4456   8581 2023-06-23 17:24:46\n",
       "1   142   1964 2023-03-23 15:30:06\n",
       "2   362   3705 2024-02-02 11:00:59\n",
       "3  1809  11317 2023-01-12 14:19:22\n",
       "4  4384   1323 2023-04-13 16:09:22"
      ]
     },
     "execution_count": 4,
     "metadata": {},
     "output_type": "execute_result"
    }
   ],
   "source": [
    "interactions = pd.read_csv('data/interactions_train.csv')\n",
    "print(interactions.shape)\n",
    "interactions['t'] = pd.to_datetime(interactions['t'], unit='s')\n",
    "interactions.head()"
   ]
  },
  {
   "cell_type": "code",
   "execution_count": 5,
   "id": "7b411bf1",
   "metadata": {},
   "outputs": [
    {
     "name": "stdout",
     "output_type": "stream",
     "text": [
      "(15291, 6)\n"
     ]
    },
    {
     "data": {
      "text/html": [
       "<div>\n",
       "<style scoped>\n",
       "    .dataframe tbody tr th:only-of-type {\n",
       "        vertical-align: middle;\n",
       "    }\n",
       "\n",
       "    .dataframe tbody tr th {\n",
       "        vertical-align: top;\n",
       "    }\n",
       "\n",
       "    .dataframe thead th {\n",
       "        text-align: right;\n",
       "    }\n",
       "</style>\n",
       "<table border=\"1\" class=\"dataframe\">\n",
       "  <thead>\n",
       "    <tr style=\"text-align: right;\">\n",
       "      <th></th>\n",
       "      <th>Title</th>\n",
       "      <th>Author</th>\n",
       "      <th>ISBN Valid</th>\n",
       "      <th>Publisher</th>\n",
       "      <th>Subjects</th>\n",
       "      <th>i</th>\n",
       "    </tr>\n",
       "  </thead>\n",
       "  <tbody>\n",
       "    <tr>\n",
       "      <th>0</th>\n",
       "      <td>Classification décimale universelle : édition ...</td>\n",
       "      <td>NaN</td>\n",
       "      <td>9782871303336; 2871303339</td>\n",
       "      <td>Ed du CEFAL</td>\n",
       "      <td>Classification décimale universelle; Indexatio...</td>\n",
       "      <td>0</td>\n",
       "    </tr>\n",
       "    <tr>\n",
       "      <th>1</th>\n",
       "      <td>Les interactions dans l'enseignement des langu...</td>\n",
       "      <td>Cicurel, Francine, 1947-</td>\n",
       "      <td>9782278058327; 2278058320</td>\n",
       "      <td>Didier</td>\n",
       "      <td>didactique--langue étrangère - enseignement; d...</td>\n",
       "      <td>1</td>\n",
       "    </tr>\n",
       "    <tr>\n",
       "      <th>2</th>\n",
       "      <td>Histoire de vie et recherche biographique : pe...</td>\n",
       "      <td>NaN</td>\n",
       "      <td>2343190194; 9782343190198</td>\n",
       "      <td>L'Harmattan</td>\n",
       "      <td>Histoires de vie en sociologie; Sciences socia...</td>\n",
       "      <td>2</td>\n",
       "    </tr>\n",
       "    <tr>\n",
       "      <th>3</th>\n",
       "      <td>Ce livre devrait me permettre de résoudre le c...</td>\n",
       "      <td>Mazas, Sylvain, 1980-</td>\n",
       "      <td>9782365350020; 236535002X; 9782365350488; 2365...</td>\n",
       "      <td>Vraoum!</td>\n",
       "      <td>Moyen-Orient; Bandes dessinées autobiographiqu...</td>\n",
       "      <td>3</td>\n",
       "    </tr>\n",
       "    <tr>\n",
       "      <th>4</th>\n",
       "      <td>Les années glorieuses : roman /</td>\n",
       "      <td>Lemaitre, Pierre, 1951-</td>\n",
       "      <td>9782702180815; 2702180817; 9782702183618; 2702...</td>\n",
       "      <td>Calmann-Lévy</td>\n",
       "      <td>France--1945-1975; Roman historique; Roman fra...</td>\n",
       "      <td>4</td>\n",
       "    </tr>\n",
       "  </tbody>\n",
       "</table>\n",
       "</div>"
      ],
      "text/plain": [
       "                                               Title  \\\n",
       "0  Classification décimale universelle : édition ...   \n",
       "1  Les interactions dans l'enseignement des langu...   \n",
       "2  Histoire de vie et recherche biographique : pe...   \n",
       "3  Ce livre devrait me permettre de résoudre le c...   \n",
       "4                    Les années glorieuses : roman /   \n",
       "\n",
       "                     Author  \\\n",
       "0                       NaN   \n",
       "1  Cicurel, Francine, 1947-   \n",
       "2                       NaN   \n",
       "3     Mazas, Sylvain, 1980-   \n",
       "4   Lemaitre, Pierre, 1951-   \n",
       "\n",
       "                                          ISBN Valid     Publisher  \\\n",
       "0                          9782871303336; 2871303339   Ed du CEFAL   \n",
       "1                          9782278058327; 2278058320        Didier   \n",
       "2                          2343190194; 9782343190198   L'Harmattan   \n",
       "3  9782365350020; 236535002X; 9782365350488; 2365...       Vraoum!   \n",
       "4  9782702180815; 2702180817; 9782702183618; 2702...  Calmann-Lévy   \n",
       "\n",
       "                                            Subjects  i  \n",
       "0  Classification décimale universelle; Indexatio...  0  \n",
       "1  didactique--langue étrangère - enseignement; d...  1  \n",
       "2  Histoires de vie en sociologie; Sciences socia...  2  \n",
       "3  Moyen-Orient; Bandes dessinées autobiographiqu...  3  \n",
       "4  France--1945-1975; Roman historique; Roman fra...  4  "
      ]
     },
     "execution_count": 5,
     "metadata": {},
     "output_type": "execute_result"
    }
   ],
   "source": [
    "items = pd.read_csv('data/items.csv')\n",
    "print(items.shape)\n",
    "items.head()"
   ]
  },
  {
   "cell_type": "code",
   "execution_count": 6,
   "id": "b65fd543",
   "metadata": {},
   "outputs": [
    {
     "name": "stdout",
     "output_type": "stream",
     "text": [
      "(7838, 2)\n"
     ]
    },
    {
     "data": {
      "text/html": [
       "<div>\n",
       "<style scoped>\n",
       "    .dataframe tbody tr th:only-of-type {\n",
       "        vertical-align: middle;\n",
       "    }\n",
       "\n",
       "    .dataframe tbody tr th {\n",
       "        vertical-align: top;\n",
       "    }\n",
       "\n",
       "    .dataframe thead th {\n",
       "        text-align: right;\n",
       "    }\n",
       "</style>\n",
       "<table border=\"1\" class=\"dataframe\">\n",
       "  <thead>\n",
       "    <tr style=\"text-align: right;\">\n",
       "      <th></th>\n",
       "      <th>user_id</th>\n",
       "      <th>recommendation</th>\n",
       "    </tr>\n",
       "  </thead>\n",
       "  <tbody>\n",
       "    <tr>\n",
       "      <th>0</th>\n",
       "      <td>0</td>\n",
       "      <td>3758 11248 9088 9895 5101 6074 9295 14050 1096...</td>\n",
       "    </tr>\n",
       "    <tr>\n",
       "      <th>1</th>\n",
       "      <td>1</td>\n",
       "      <td>3263 726 1589 14911 6432 10897 6484 7961 8249 ...</td>\n",
       "    </tr>\n",
       "    <tr>\n",
       "      <th>2</th>\n",
       "      <td>2</td>\n",
       "      <td>13508 9848 12244 2742 11120 2893 2461 5439 116...</td>\n",
       "    </tr>\n",
       "    <tr>\n",
       "      <th>3</th>\n",
       "      <td>3</td>\n",
       "      <td>2821 10734 6357 5934 2085 12608 12539 10551 10...</td>\n",
       "    </tr>\n",
       "    <tr>\n",
       "      <th>4</th>\n",
       "      <td>4</td>\n",
       "      <td>12425 219 11602 1487 14178 489 13888 2110 4413...</td>\n",
       "    </tr>\n",
       "  </tbody>\n",
       "</table>\n",
       "</div>"
      ],
      "text/plain": [
       "   user_id                                     recommendation\n",
       "0        0  3758 11248 9088 9895 5101 6074 9295 14050 1096...\n",
       "1        1  3263 726 1589 14911 6432 10897 6484 7961 8249 ...\n",
       "2        2  13508 9848 12244 2742 11120 2893 2461 5439 116...\n",
       "3        3  2821 10734 6357 5934 2085 12608 12539 10551 10...\n",
       "4        4  12425 219 11602 1487 14178 489 13888 2110 4413..."
      ]
     },
     "execution_count": 6,
     "metadata": {},
     "output_type": "execute_result"
    }
   ],
   "source": [
    "sample_submission = pd.read_csv('data/sample_submission.csv')\n",
    "print(sample_submission.shape)\n",
    "sample_submission.head()\n"
   ]
  },
  {
   "cell_type": "code",
   "execution_count": 7,
   "id": "e062a050",
   "metadata": {},
   "outputs": [
    {
     "name": "stdout",
     "output_type": "stream",
     "text": [
      "Number of users = 7838, \n",
      "Number of movies = 15109 \n",
      "Number of interactions = 87047\n"
     ]
    }
   ],
   "source": [
    "n_users = interactions.u.nunique()\n",
    "n_items = interactions.i.nunique()\n",
    "print(f'Number of users = {n_users}, \\nNumber of movies = {n_items} \\nNumber of interactions = {len(interactions)}')\n",
    "# So the sample submission is the top x items for each user\n",
    "# And we have info for all the books in items"
   ]
  },
  {
   "cell_type": "code",
   "execution_count": 8,
   "id": "5496d81e",
   "metadata": {},
   "outputs": [],
   "source": [
    "# TODO: EDA on the interactions data and the items metadata. "
   ]
  },
  {
   "cell_type": "code",
   "execution_count": 7,
   "id": "536b55fd",
   "metadata": {},
   "outputs": [],
   "source": [
    "# Basic\n",
    "items = pd.read_csv('data/items.csv')\n",
    "# Google enhanced first\n",
    "google_enhanced_first = pd.read_csv('google_api_enhanced/all_items_enhanced.csv')\n",
    "# ISBN enhanced:\n",
    "isbn_enhanced = pd.read_csv('items_enhanced_final.csv')\n",
    "# Other way around:\n",
    "# ISBN enhanced\n",
    "isbn_enhanced_first = pd.read_csv('isbndb_only.csv')\n",
    "# Google enhanced\n",
    "google_enhanced = pd.read_csv('items_enhanced_final_isbnpriority.csv')\n",
    "\n",
    "def get_clean_author(author_series):\n",
    "    def clean_author_string(author):\n",
    "        if pd.isna(author):\n",
    "            return None\n",
    "        # Remove all digits and dashes\n",
    "        cleaned = re.sub(r'[\\d\\-]', '', author)\n",
    "        # Collapse multiple spaces and strip\n",
    "        cleaned = re.sub(r'\\s+', ' ', cleaned).strip()\n",
    "        return cleaned if cleaned else None\n",
    "\n",
    "    clean_author = author_series.apply(clean_author_string)\n",
    "    return clean_author\n",
    "items['title_clean'] = items['Title'].apply(lambda x: x.rstrip(' /') if isinstance(x, str) else np.nan)\n",
    "items['author_clean'] = get_clean_author(items['Author'])\n",
    "def extract_isbn(text):\n",
    "    if isinstance(text, str):\n",
    "        for val in re.split(r'[;,]', text):\n",
    "            cleaned = val.strip().replace('-', '')\n",
    "            if cleaned.isdigit() and len(cleaned) in (10, 13):\n",
    "                return cleaned\n",
    "    return None\n",
    "items['ISBN'] = items['ISBN Valid'].apply(extract_isbn)"
   ]
  },
  {
   "cell_type": "code",
   "execution_count": 10,
   "id": "51a3466b",
   "metadata": {},
   "outputs": [
    {
     "data": {
      "image/png": "[encoded data removed]",
      "text/plain": [
       "<Figure size 1400x600 with 1 Axes>"
      ]
     },
     "metadata": {},
     "output_type": "display_data"
    }
   ],
   "source": [
    "# Updated column names (renamed for clarity)\n",
    "columns_of_interest = [\n",
    "    'Image', 'Language', 'Published date', 'Subjects',\n",
    "    'Authors', 'Title', 'Description', 'ISBN'\n",
    "]\n",
    "\n",
    "\n",
    "# Mapping for renaming columns\n",
    "rename_mapping = {\n",
    "    'PublishedDate': 'Published date',\n",
    "    'author_clean': 'Authors',\n",
    "    'title_clean': 'Title',\n",
    "    'image': 'Image'\n",
    "}\n",
    "\n",
    "# Normalize 'ImageLink' to 'image'\n",
    "def normalize_columns(df):\n",
    "    df = df.copy()\n",
    "    if 'ImageLink' in df.columns:\n",
    "        df = df.rename(columns={'ImageLink': 'Image'})\n",
    "    df = df.rename(columns=rename_mapping)\n",
    "    # Remove duplicate columns, keeping the first occurrence\n",
    "    df = df.loc[:, ~df.columns.duplicated()]\n",
    "    return df\n",
    "\n",
    "# Normalize and subset safely\n",
    "def safe_subset(df, columns):\n",
    "    return df[[col for col in columns if col in df.columns]]\n",
    "\n",
    "df_items = safe_subset(normalize_columns(items), columns_of_interest)\n",
    "df_google = safe_subset(normalize_columns(google_enhanced_first), columns_of_interest)\n",
    "df_isbn = safe_subset(normalize_columns(isbn_enhanced_first), columns_of_interest)\n",
    "df_combined = safe_subset(normalize_columns(isbn_enhanced.drop('ImageLink',axis = 1)), columns_of_interest)\n",
    "\n",
    "# Get all columns present for consistent plotting\n",
    "all_cols = [col for col in columns_of_interest if col in df_items.columns or col in df_google.columns or col in df_isbn.columns or col in df_combined.columns]\n",
    "\n",
    "priority_cols = ['Title', 'Authors', 'ISBN', 'Subjects']\n",
    "remaining_cols = [col for col in all_cols if col not in priority_cols]\n",
    "all_cols = priority_cols + remaining_cols\n",
    "\n",
    "# Function to compute non-missing percentages\n",
    "def get_non_missing_percentage(df):\n",
    "    pct = df.notnull().sum() / len(df) * 100\n",
    "    return pct.reindex(all_cols, fill_value=0)\n",
    "\n",
    "pct_items = get_non_missing_percentage(df_items)\n",
    "pct_google = get_non_missing_percentage(df_google)\n",
    "pct_isbn = get_non_missing_percentage(df_isbn)\n",
    "pct_combined = get_non_missing_percentage(df_combined)\n",
    "\n",
    "# Plotting\n",
    "x = np.arange(0, len(all_cols) * 1.1, 1.1)\n",
    "width = 0.25\n",
    "\n",
    "# Use Seaborn color palette for better aesthetics\n",
    "palette = sns.color_palette(\"ch:s=.25,rot=-.25\")  # Or try \"deep\", \"muted\", etc.\n",
    "\n",
    "fig, ax = plt.subplots(figsize=(14, 6))\n",
    "\n",
    "bars1 = ax.bar(x - width, pct_items, width, label='Original Data', color=palette[0])\n",
    "bars2 = ax.bar(x, pct_google, width, label='Google-enhanced', color=palette[1])\n",
    "bars3 = ax.bar(x + width, pct_isbn, width, label='ISBN-enhanced', color=palette[2])\n",
    "bars4 = ax.bar(x + 2 * width, pct_combined, width, label='Combined', color=palette[3])\n",
    "\n",
    "ax.set_ylabel('Non-Missing Percentage (%)')\n",
    "ax.set_title('Non-Missing Data per Column Across Sources')\n",
    "ax.set_xticks(x + width * 0.5)  # shift to center of group\n",
    "ax.set_xticklabels(all_cols)\n",
    "ax.set_ylim(0, 105)\n",
    "ax.legend()\n",
    "\n",
    "# Annotate bars\n",
    "for bars in [bars1, bars2, bars3, bars4]:\n",
    "    for bar in bars:\n",
    "        height = bar.get_height()\n",
    "        ax.annotate(f'{int(round(height))}%',\n",
    "                    xy=(bar.get_x() + bar.get_width() / 2, height),\n",
    "                    xytext=(0, 3),\n",
    "                    textcoords=\"offset points\",\n",
    "                    ha='center', va='bottom', fontsize=9)\n",
    "\n",
    "plt.tight_layout()\n",
    "plt.savefig(\"readme_images/non_missing_data_plot.png\", bbox_inches='tight')\n",
    "plt.show()"
   ]
  },
  {
   "cell_type": "code",
   "execution_count": 15,
   "id": "90e2c223",
   "metadata": {},
   "outputs": [
    {
     "data": {
      "image/png": "[encoded data removed]",
      "text/plain": [
       "<Figure size 640x480 with 1 Axes>"
      ]
     },
     "metadata": {},
     "output_type": "display_data"
    }
   ],
   "source": [
    "# Language Distribution\n",
    "palette = sns.color_palette(\"ch:s=.25,rot=-.25\")\n",
    "ax = isbn_enhanced['Language'].fillna('N/A').value_counts()[:7].plot(kind='bar', title=\"Book Language Distribution\", color=palette[3])\n",
    "plt.tight_layout()\n",
    "plt.savefig(\"readme_images/book_language_distribution.png\")\n",
    "plt.show()"
   ]
  },
  {
   "cell_type": "code",
   "execution_count": null,
   "id": "8758c89f",
   "metadata": {},
   "outputs": [],
   "source": []
  }
 ],
 "metadata": {
  "kernelspec": {
   "display_name": ".venv",
   "language": "python",
   "name": "python3"
  },
  "language_info": {
   "codemirror_mode": {
    "name": "ipython",
    "version": 3
   },
   "file_extension": ".py",
   "mimetype": "text/x-python",
   "name": "python",
   "nbconvert_exporter": "python",
   "pygments_lexer": "ipython3",
   "version": "3.9.6"
  }
 },
 "nbformat": 4,
 "nbformat_minor": 5
}
